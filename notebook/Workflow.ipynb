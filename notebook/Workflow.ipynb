{
 "cells": [
  {
   "cell_type": "markdown",
   "id": "adjustable-eclipse",
   "metadata": {},
   "source": [
    "# Workflow"
   ]
  },
  {
   "cell_type": "markdown",
   "id": "manufactured-anger",
   "metadata": {},
   "source": [
    "## Setup Project Environment"
   ]
  },
  {
   "cell_type": "code",
   "execution_count": null,
   "id": "reduced-bonus",
   "metadata": {},
   "outputs": [],
   "source": [
    "!pip install pipreqs\n",
    "!pipreqs -f directory_path"
   ]
  },
  {
   "cell_type": "markdown",
   "id": "noted-agriculture",
   "metadata": {},
   "source": [
    "## Exploratory Data Analysis (EDA) \n",
    "Distribution\n",
    "- Histograms\n",
    "- Boxplot\n",
    "\n",
    "Correlation\n",
    "\n"
   ]
  },
  {
   "cell_type": "markdown",
   "id": "automatic-electronics",
   "metadata": {},
   "source": [
    "# Preprocessing\n",
    "- Outlier Removal\n",
    "- Feature Engineering\n",
    "- Sample Balancing (SMOTE)\n",
    "- Replace NAN (Impute/Interpolation)\n",
    "- PCA\n",
    "- Scaling\n",
    "\n",
    "\n",
    "\n",
    "        Remove features that have too many NAN or fill NAN with another value\n",
    "        Remove features that will introduce data leakage\n",
    "        Encode categorical features into integers\n",
    "        Extract new useful features (between and within current features)\n",
    "\n"
   ]
  },
  {
   "cell_type": "markdown",
   "id": "criminal-bonus",
   "metadata": {},
   "source": [
    "## Test-Train Split\n",
    "- K-fold\n",
    "\n",
    "\n",
    "    \n",
    "      randomisation test train split"
   ]
  },
  {
   "cell_type": "markdown",
   "id": "inclusive-conducting",
   "metadata": {},
   "source": [
    "## Choose Model\n",
    "- Random Forest\n",
    "- Xgboost\n",
    "- LightGBM\n",
    "- CatBoost"
   ]
  },
  {
   "cell_type": "markdown",
   "id": "potential-economy",
   "metadata": {},
   "source": [
    "## Model Fit\n",
    "- Bayesian Optimization"
   ]
  },
  {
   "cell_type": "markdown",
   "id": "western-prerequisite",
   "metadata": {},
   "source": [
    "## Model Evaluation\n",
    "- Accuracy\n",
    "- R2 Score\n",
    "- Confustion Matrix (range buckets)"
   ]
  },
  {
   "cell_type": "markdown",
   "id": "limited-differential",
   "metadata": {},
   "source": [
    "## Final Model\n",
    "- OOS Testing"
   ]
  },
  {
   "cell_type": "markdown",
   "id": "severe-diabetes",
   "metadata": {},
   "source": [
    "## Prediction\n",
    "- Get New Data\n",
    "- Get the Selected Model\n",
    "- Make Predictions"
   ]
  },
  {
   "cell_type": "code",
   "execution_count": 3,
   "id": "resistant-monster",
   "metadata": {},
   "outputs": [],
   "source": [
    "# Do Bysien Optimaztion to find best model parameters"
   ]
  },
  {
   "cell_type": "code",
   "execution_count": null,
   "id": "accredited-request",
   "metadata": {},
   "outputs": [],
   "source": [
    "# Do Grid Search to find best model parameters"
   ]
  }
 ],
 "metadata": {
  "kernelspec": {
   "display_name": "Python 3",
   "language": "python",
   "name": "python3"
  },
  "language_info": {
   "codemirror_mode": {
    "name": "ipython",
    "version": 3
   },
   "file_extension": ".py",
   "mimetype": "text/x-python",
   "name": "python",
   "nbconvert_exporter": "python",
   "pygments_lexer": "ipython3",
   "version": "3.7.4"
  }
 },
 "nbformat": 4,
 "nbformat_minor": 5
}
