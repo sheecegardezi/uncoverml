{
 "cells": [
  {
   "cell_type": "markdown",
   "metadata": {},
   "source": [
    "## objectives of preprocessing\n",
    "    \n",
    "- data should be 2D array\n",
    "- input data has to be numbers\n",
    "- no nan or inf\n",
    "- coloum are scaled to similar ranges (mean=0, variance=1)\n",
    "- coloums should not be coliner (cx1!=k*cx2)\n",
    "- rows should not be causally dependent\n",
    "- data should be 100 times larger then the number of coloums "
   ]
  },
  {
   "cell_type": "code",
   "execution_count": 1,
   "metadata": {},
   "outputs": [
    {
     "name": "stdout",
     "output_type": "stream",
     "text": [
      "/home/547/sg4953/uncoverml/notebook\n"
     ]
    }
   ],
   "source": [
    "!pwd"
   ]
  },
  {
   "cell_type": "code",
   "execution_count": 3,
   "metadata": {},
   "outputs": [
    {
     "name": "stdout",
     "output_type": "stream",
     "text": [
      "'Bayesian Search.ipynb'\t\t 'Testing lightgbm.ipynb'\n",
      "'Feature Ranking 1.ipynb'\t  Tmp.ipynb\n",
      "'Feature Ranking 2.ipynb'\t  backup\n",
      "'Feature Ranking 3.ipynb'\t  base.png\n",
      "'Feature Ranking Backup.ipynb'\t  max_abs_df.pkl\n",
      "'Fix Feature Ele Results.ipynb'   preprocessing.ipynb\n",
      "'Grid Search.ipynb'\t\t  xgboost.ipynb\n"
     ]
    }
   ],
   "source": [
    "/home/547/sg4953/uncoverml/notebook/preprocessing.ipynb"
   ]
  },
  {
   "cell_type": "markdown",
   "metadata": {},
   "source": [
    "## import python libraries "
   ]
  },
  {
   "cell_type": "code",
   "execution_count": 3,
   "metadata": {},
   "outputs": [],
   "source": [
    "import os\n",
    "import pathlib\n",
    "from pprint import pprint\n",
    "from pathlib import Path\n",
    "import csv"
   ]
  },
  {
   "cell_type": "code",
   "execution_count": 4,
   "metadata": {},
   "outputs": [],
   "source": [
    "import ray\n",
    "import rasterio\n",
    "import fiona\n",
    "import pandas as pd\n",
    "import xgboost as xgb\n",
    "import numpy as np\n",
    "\n",
    "import matplotlib.pyplot as plt\n",
    "\n",
    "from sklearn.model_selection import train_test_split\n",
    "\n",
    "from sklearn.ensemble import RandomForestClassifier\n",
    "from sklearn.metrics import confusion_matrix\n",
    "from sklearn.metrics import roc_auc_score\n",
    "from sklearn.metrics import accuracy_score\n",
    "from sklearn.metrics import mean_squared_error\n",
    "from sklearn.metrics import mean_absolute_error\n",
    "from sklearn import preprocessing\n",
    "\n",
    "import matplotlib.pyplot as plt"
   ]
  },
  {
   "cell_type": "code",
   "execution_count": 5,
   "metadata": {},
   "outputs": [],
   "source": [
    "%load_ext memory_profiler"
   ]
  },
  {
   "cell_type": "markdown",
   "metadata": {},
   "source": [
    "## define input datasets\n",
    "\n",
    "- features \n",
    "- targets \n",
    "- out of sample \n",
    "- area of interest"
   ]
  },
  {
   "cell_type": "code",
   "execution_count": 5,
   "metadata": {},
   "outputs": [
    {
     "name": "stdout",
     "output_type": "stream",
     "text": [
      "CPU times: user 231 µs, sys: 53 µs, total: 284 µs\n",
      "Wall time: 288 µs\n"
     ]
    }
   ],
   "source": [
    "%%time\n",
    "\n",
    "feature_file_paths = [\n",
    "Path('/g/data/ge3/sheece/LOC_distance_to_coast.tif'),\n",
    "Path('/g/data/ge3/sheece/mrvbf_9.tif'),\n",
    "Path('/g/data/ge3/sheece/relief_mrvbf_3s_mosaic.tif'),\n",
    "Path('/g/data/ge3/sheece/relief_elev_focalrange1000m_3s.tif'),\n",
    "Path('/g/data/ge3/sheece/relief_elev_focalrange300m_3s.tif'),\n",
    "Path('/g/data/ge3/sheece/saga_wetSM_85.tif'),\n",
    "Path('/g/data/ge3/sheece/tpi_300.tif'),\n",
    "Path('/g/data/ge3/sheece/slope_fill2.tif'),\n",
    "Path('/g/data/ge3/sheece/dem_fill.tif'),\n",
    "Path('/g/data/ge3/sheece/3dem_mag2.tif'),\n",
    "Path('/g/data/ge3/sheece/3dem_mag1_fin.tif'),\n",
    "Path('/g/data/ge3/sheece/3dem_mag0.fin.tif'),\n",
    "Path('/g/data/ge3/sheece/relief_roughness.tif'),\n",
    "Path('/g/data/ge3/sheece/LATITUDE_GRID1_clip.tif'),\n",
    "Path('/g/data/ge3/sheece/LATITUDE_GRID1_clip.tif'),\n",
    "Path('/g/data/ge3/sheece/Dose_2016.tif'),\n",
    "Path('/g/data/ge3/sheece/Potassium_2016.tif'),\n",
    "Path('/g/data/ge3/sheece/Thorium_2016.tif'),\n",
    "Path('/g/data/ge3/sheece/Rad2016U_Th.tif'),\n",
    "Path('/g/data/ge3/sheece/Rad2016K_Th.tif'),\n",
    "Path('/g/data/ge3/sheece/national_Wii_RF_multirandomforest_prediction.tif'),\n",
    "Path('/g/data/ge3/sheece/si_geol1.tif'),\n",
    "Path('/g/data/ge3/sheece/ceno_euc_aust1.tif'),\n",
    "Path('/g/data/ge3/sheece/Grav_lane_clip.tif'),\n",
    "Path('/g/data/ge3/sheece/be-30y-85m-avg-ND-NIR-GREEN.filled.lzw.nodata.tif'),\n",
    "Path('/g/data/ge3/sheece/be-30y-85m-avg-ND-RED-BLUE.filled.lzw.nodata.tif'),\n",
    "Path('/g/data/ge3/sheece/be-30y-85m-avg-ND-SWIR1-SWIR2.filled.lzw.nodata.tif'),\n",
    "Path('/g/data/ge3/sheece/be-30y-85m-avg_BLUE+SWIR2.tif'),\n",
    "Path('/g/data/ge3/sheece/be-30y-85m-avg-ND-SWIR1-NIR.filled.lzw.nodata.tif'),\n",
    "Path('/g/data/ge3/sheece/be-30y-85m-avg-CLAY-PC2.filled.lzw.nodata.tif'),\n",
    "Path('/g/data/ge3/sheece/be-30y-85m-avg-ND-RED-BLUE.filled.lzw.nodata.tif'),\n",
    "Path('/g/data/ge3/sheece/be-30y-85m-avg-RED.filled.lzw.nodata.tif'),\n",
    "Path('/g/data/ge3/sheece/be-30y-85m-avg-GREEN.filled.lzw.nodata.tif'),\n",
    "Path('/g/data/ge3/sheece/be-l8-all-85m-avg-BLUE.filled.lzw.nodata.tif'),\n",
    "Path('/g/data/ge3/sheece/be-l8-all-85m-avg-NIR.filled.lzw.nodata.tif'),\n",
    "Path('/g/data/ge3/sheece/be-30y-85m-avg-SWIR1.filled.lzw.nodata.tif'),\n",
    "Path('/g/data/ge3/sheece/be-30y-85m-avg-SWIR2.filled.lzw.nodata.tif'),\n",
    "Path('/g/data/ge3/sheece/s2-dpca-85m.tif'),\n",
    "Path('/g/data/ge3/sheece/water-85m.tif'),\n",
    "Path('/g/data/ge3/sheece/clim_EPA_albers.tif'),\n",
    "Path('/g/data/ge3/sheece/Clim_Prescott_LindaGregory.tif'),\n",
    "Path('/g/data/ge3/sheece/clim_PTA_albers.tif'),\n",
    "Path('/g/data/ge3/sheece/clim_WDA_albers.tif'),\n",
    "Path('/g/data/ge3/sheece/clim_RSM_albers.tif'),\n",
    "Path('/g/data/ge3/sheece/LONGITUDE_GRID1_clip.tif')\n",
    "]\n",
    "\n",
    "#target dataset small\n",
    "# /g/data/ge3/sheece/0_50cm_2021_albers_C_sm_T_resampled_small.shp\n",
    "#target dataset complete\n",
    "# /g/data/ge3/sheece/0_50cm_2021_albers_C_sm_T_resampled.shp\n",
    "target_file_path = Path(\"/g/data/ge3/sheece/0_50cm_2021_albers_C_sm_T_resampled.shp\")\n",
    "\n",
    "# define a shape for area of intrest\n",
    "area_of_interest_file_path = None\n",
    "\n",
    "#OOS\n",
    "# /g/data/ge3/sheece/0_50cm_2021_albers_C_oos.shp\n",
    "out_of_sample_file_path = Path(\"/g/data/ge3/sheece/0_50cm_2021_albers_C_oos.shp\")\n",
    "\n",
    "root = Path('/g/data/ge3/sheece')"
   ]
  },
  {
   "cell_type": "code",
   "execution_count": 6,
   "metadata": {},
   "outputs": [
    {
     "name": "stdout",
     "output_type": "stream",
     "text": [
      "Following are duplicates:\n",
      "[PosixPath('/g/data/ge3/sheece/LATITUDE_GRID1_clip.tif'), PosixPath('/g/data/ge3/sheece/be-30y-85m-avg-ND-RED-BLUE.filled.lzw.nodata.tif')]\n"
     ]
    }
   ],
   "source": [
    "# remove duplicates\n",
    "\n",
    "temp_feature_file_paths = feature_file_paths.copy()\n",
    "unique_values = list(set(temp_feature_file_paths))\n",
    "for unique_value in unique_values:\n",
    "    temp_feature_file_paths.remove(unique_value)\n",
    "\n",
    "print(\"Following are duplicates:\")\n",
    "print(temp_feature_file_paths)\n",
    "\n",
    "feature_file_paths = list(set(feature_file_paths))"
   ]
  },
  {
   "cell_type": "code",
   "execution_count": 7,
   "metadata": {},
   "outputs": [],
   "source": [
    "# check if file exist\n",
    "import os.path\n",
    "\n",
    "for feature_file_path in feature_file_paths:\n",
    "    if not os.path.isfile(feature_file_path):\n",
    "        feature_file_paths.remove(feature_file_path)\n",
    "        print (\"File not exist\",feature_file_path)\n",
    "    \n",
    "        \n"
   ]
  },
  {
   "cell_type": "code",
   "execution_count": 8,
   "metadata": {},
   "outputs": [],
   "source": [
    "if not os.path.isdir(root/\"old\"):\n",
    "    os.mkdir(root/\"old\") "
   ]
  },
  {
   "cell_type": "markdown",
   "metadata": {},
   "source": [
    "## Standardising Datasets"
   ]
  },
  {
   "cell_type": "code",
   "execution_count": 9,
   "metadata": {},
   "outputs": [
    {
     "name": "stdout",
     "output_type": "stream",
     "text": [
      "Processing dataset:  /g/data/ge3/sheece/s2-dpca-85m.tif\n",
      "Reading data from band:  1\n",
      "New dataset added: /g/data/ge3/sheece/s2-dpca-85m_1.tif\n",
      "Reading data from band:  2\n",
      "New dataset added: /g/data/ge3/sheece/s2-dpca-85m_2.tif\n",
      "Reading data from band:  3\n",
      "New dataset added: /g/data/ge3/sheece/s2-dpca-85m_3.tif\n",
      "Removing multiband dataset: /g/data/ge3/sheece/s2-dpca-85m.tif\n",
      "Processing dataset:  /g/data/ge3/sheece/water-85m.tif\n",
      "Reading data from band:  1\n",
      "New dataset added: /g/data/ge3/sheece/water-85m_1.tif\n",
      "Reading data from band:  2\n",
      "New dataset added: /g/data/ge3/sheece/water-85m_2.tif\n",
      "Reading data from band:  3\n",
      "New dataset added: /g/data/ge3/sheece/water-85m_3.tif\n",
      "Removing multiband dataset: /g/data/ge3/sheece/water-85m.tif\n"
     ]
    }
   ],
   "source": [
    "# check if all datasets have only one band\n",
    "import shutil\n",
    "\n",
    "for feature_file_path in feature_file_paths:\n",
    "    with rasterio.open(feature_file_path) as dataset:\n",
    "        if len(dataset.indexes) >1: \n",
    "            print(\"Processing dataset: \",feature_file_path)\n",
    "            for band in dataset.indexes:\n",
    "                path_to_new_dataset = root/ str(feature_file_path.stem +\"_\"+str(band)+\".tif\")\n",
    "                print(\"Reading data from band: \",band)\n",
    "                new_dataset = rasterio.open(\n",
    "                    path_to_new_dataset,\n",
    "                     'w',\n",
    "                     driver='GTiff',\n",
    "                     height=dataset.shape[0],\n",
    "                     width=dataset.shape[1],\n",
    "                     count=1,\n",
    "                     dtype=dataset.meta['dtype'],\n",
    "                     crs=dataset.crs,\n",
    "                     transform=dataset.transform\n",
    "                )\n",
    "                \n",
    "                new_dataset.write(dataset.read(band),1)\n",
    "                new_dataset.close()\n",
    "                print(\"New dataset added:\",path_to_new_dataset)\n",
    "                feature_file_paths.append(path_to_new_dataset)\n",
    "    \n",
    "            print(\"Removing multiband dataset:\",feature_file_path)\n",
    "            feature_file_paths.remove(feature_file_path)"
   ]
  },
  {
   "cell_type": "code",
   "execution_count": 10,
   "metadata": {},
   "outputs": [
    {
     "name": "stdout",
     "output_type": "stream",
     "text": [
      "Converting dataset: /g/data/ge3/sheece/saga_wetSM_85.tif\n",
      "Dataset:  /g/data/ge3/sheece/saga_wetSM_85.tif  has been reprojected and saved as:  /g/data/ge3/sheece/saga_wetSM_85_reprojected.tif\n"
     ]
    }
   ],
   "source": [
    "# check if all datasets are in same projections \n",
    "import shutil\n",
    "from rasterio.warp import calculate_default_transform, reproject, Resampling\n",
    "\n",
    "# check projection \n",
    "crs_epsg3577 = rasterio.crs.CRS.from_string('EPSG:3577')\n",
    "\n",
    "for feature_file_path in feature_file_paths:\n",
    "    with rasterio.open(feature_file_path) as src:\n",
    "        if crs_epsg3577 != src.crs:\n",
    "            print(\"Converting dataset: \"+str(feature_file_path))\n",
    "            transform, width, height = calculate_default_transform(\n",
    "                src.crs, \n",
    "                crs_epsg3577, \n",
    "                src.width, \n",
    "                src.height, \n",
    "                *src.bounds)\n",
    "            kwargs = src.meta.copy()\n",
    "            kwargs.update({'crs': crs_epsg3577,'transform': transform, 'width': width,'height': height})\n",
    "\n",
    "            new_feature_file_path = feature_file_path.parent /str(feature_file_path.stem+\"_reprojected.tif\")\n",
    "            with rasterio.open(new_feature_file_path, 'w', **kwargs) as dst:\n",
    "                reproject(\n",
    "                    source=rasterio.band(src, 1),\n",
    "                    destination=rasterio.band(dst, 1),\n",
    "                    src_transform=src.transform,\n",
    "                    src_crs=src.crs,\n",
    "                    dst_transform=transform,\n",
    "                    dst_crs=crs_epsg3577,\n",
    "                    resampling=Resampling.nearest)\n",
    "            feature_file_paths.remove(feature_file_path)\n",
    "            feature_file_paths.append(new_feature_file_path)\n",
    "            print(\"Dataset: \",feature_file_path, \" has been reprojected and saved as: \",new_feature_file_path)\n"
   ]
  },
  {
   "cell_type": "code",
   "execution_count": 11,
   "metadata": {},
   "outputs": [],
   "source": [
    "# apply crop on target and feature datasets according to area of intrest \n",
    "import fiona\n",
    "import rasterio\n",
    "from rasterio.mask import mask\n",
    "\n",
    "if area_of_interest_file_path is not None:\n",
    "    with fiona.open(area_of_interest_file_path) as shapefile:\n",
    "        geoms = [feature[\"geometry\"] for feature in shapefile]\n",
    "\n",
    "    for feature_file_path in feature_file_paths:\n",
    "        if \"cropped\" not in feature_file_path.name:\n",
    "            print(\"Cropping : \"+feature_file_path.stem)\n",
    "            # load the raster, mask it by the polygon and crop it\n",
    "            with rasterio.open(feature_file_path) as src:\n",
    "                out_image, out_transform = mask(src, geoms, crop=True)\n",
    "            out_meta = src.meta.copy()\n",
    "\n",
    "            # save the resulting raster  \n",
    "            out_meta.update({\n",
    "                    \"driver\": \"GTiff\",\n",
    "                    \"height\": out_image.shape[1],\n",
    "                    \"width\": out_image.shape[2],\n",
    "                    \"transform\": out_transform\n",
    "            })   \n",
    "\n",
    "            with rasterio.open(root/(feature_file_path.stem+'_cropped.tif'), \"w\", **out_meta) as dest:\n",
    "                dest.write(out_image)\n",
    "\n",
    "            shutil.move(feature_file_path, root/(\"old/\"+feature_file_path.name))"
   ]
  },
  {
   "cell_type": "code",
   "execution_count": 12,
   "metadata": {},
   "outputs": [],
   "source": [
    "# apply crop vector files(.shp)\n",
    "import subprocess\n",
    "\n",
    "if area_of_interest_file_path is not None:\n",
    "    if \"cropped\" not in target_file_path.name:\n",
    "        print(\"Cropping: \"+target_file_path.name)\n",
    "        clipped_file = root/(target_file_path.stem+'_cropped.shp')\n",
    "        callstr = ['ogr2ogr',\n",
    "                   '-clipsrc',\n",
    "                   area_of_interest_file_path,\n",
    "                   clipped_file,\n",
    "                   target_file_path] \n",
    "        proc = subprocess.Popen(callstr, stdout=subprocess.PIPE,stderr=subprocess.PIPE)\n",
    "        stdout,stderr=proc.communicate()\n",
    "\n",
    "        shutil.move(target_file_path, root/(\"old/\"+target_file_path.name))"
   ]
  },
  {
   "cell_type": "code",
   "execution_count": 13,
   "metadata": {},
   "outputs": [],
   "source": [
    "# create iterators ( C++ pointers) to inputs feature dataset and target dataset\n",
    "datasets = []\n",
    "for feature_file_path in feature_file_paths: \n",
    "    datasets.append(rasterio.open(feature_file_path))\n",
    "\n",
    "target_handle = fiona.open(target_file_path)"
   ]
  },
  {
   "cell_type": "code",
   "execution_count": 14,
   "metadata": {},
   "outputs": [
    {
     "name": "stdout",
     "output_type": "stream",
     "text": [
      "peak memory: 20508.67 MiB, increment: 12229.63 MiB\n",
      "CPU times: user 21min 13s, sys: 1min 50s, total: 23min 3s\n",
      "Wall time: 30min 58s\n"
     ]
    }
   ],
   "source": [
    "%%time\n",
    "%%memit\n",
    "\n",
    "head_row = ['target']\n",
    "for feature_file_path in feature_file_paths:\n",
    "    head_row.append(feature_file_path.stem)\n",
    "head_row.append(\"x\")\n",
    "head_row.append(\"y\")\n",
    "    \n",
    "csv_rowlist = [head_row]\n",
    "with open('../data/input_dataset.csv', 'w', newline='', encoding='utf-8') as file:\n",
    "    writer = csv.writer(file)\n",
    "    # iterate through list of targets\n",
    "    for target in target_handle:\n",
    "        value = target[\"properties\"][\"con\"]\n",
    "        x, y = target[\"geometry\"][\"coordinates\"]\n",
    "        new_row = [value]\n",
    "        \n",
    "        # iterate through list of features\n",
    "        for dataset in datasets:\n",
    "            new_row.append(next(dataset.sample([(x, y)]))[0])\n",
    "        new_row.append(x)\n",
    "        new_row.append(y)\n",
    "        \n",
    "        csv_rowlist.append(new_row)\n",
    "\n",
    "        if len(csv_rowlist)%1000==0:\n",
    "            writer.writerows(csv_rowlist)\n",
    "            csv_rowlist = []"
   ]
  },
  {
   "cell_type": "code",
   "execution_count": 15,
   "metadata": {},
   "outputs": [
    {
     "name": "stdout",
     "output_type": "stream",
     "text": [
      "/home/547/sg4953/uncoverml/notebook\n"
     ]
    }
   ],
   "source": [
    "!pwd"
   ]
  },
  {
   "cell_type": "code",
   "execution_count": 16,
   "metadata": {},
   "outputs": [],
   "source": [
    "target_handle.close()\n",
    "for dataset in datasets: \n",
    "    dataset.close()"
   ]
  },
  {
   "cell_type": "markdown",
   "metadata": {},
   "source": [
    "## Cleaning dataset"
   ]
  },
  {
   "cell_type": "code",
   "execution_count": 17,
   "metadata": {},
   "outputs": [
    {
     "name": "stdout",
     "output_type": "stream",
     "text": [
      "input_file:  ../data/input_dataset.csv\n",
      "Number of rows removed:  1682\n",
      "CPU times: user 16.6 s, sys: 640 ms, total: 17.2 s\n",
      "Wall time: 18.1 s\n"
     ]
    }
   ],
   "source": [
    "%%time\n",
    "input_file = '../data/input_dataset.csv'\n",
    "print(\"input_file: \",input_file)\n",
    "df = pd.read_csv(input_file)\n",
    "input_shape = df.shape\n",
    "df = df.drop([\"x\",\"y\"],axis=1).astype('float32') \n",
    "df = df[~df.isin([np.nan, np.inf, -np.inf,-9999.0]).any(1)]\n",
    "\n",
    "df.to_csv(\"../data/formated_dataset.csv\",index=None,header=df.columns.values)\n",
    "output_shape = df.shape\n",
    "print(\"Number of rows removed: \",input_shape[0]-output_shape[0])\n"
   ]
  },
  {
   "cell_type": "markdown",
   "metadata": {},
   "source": [
    "## Exploring Normalization\n",
    "- Rescaling (min-max normalization)\n",
    "- Standardization (Z-scale normalization)\n",
    "\n"
   ]
  },
  {
   "cell_type": "code",
   "execution_count": 270,
   "metadata": {},
   "outputs": [
    {
     "data": {
      "image/png": "[encoded data removed]",
      "text/plain": [
       "<Figure size 800x400 with 1 Axes>"
      ]
     },
     "metadata": {
      "needs_background": "light"
     },
     "output_type": "display_data"
    }
   ],
   "source": [
    "## density plots for input features\n",
    "dataset_id = 23\n",
    "plt.rcParams['figure.figsize'] = [8, 4]\n",
    "plt.rcParams['figure.dpi'] = 100\n",
    "col_name = df.columns.values[dataset_id]\n",
    "plt.xlabel('Values')\n",
    "plt.ylabel('Count')\n",
    "plt.title(col_name)\n",
    "_ = plt.hist(df[col_name], color = 'blue', edgecolor = 'black', bins = np.arange(-10,100,1),label=col_name )"
   ]
  },
  {
   "cell_type": "code",
   "execution_count": 8,
   "metadata": {},
   "outputs": [],
   "source": [
    "scaler = preprocessing.StandardScaler().fit(df)\n",
    "scaled_df = scaler.transform(df)"
   ]
  },
  {
   "cell_type": "code",
   "execution_count": 271,
   "metadata": {},
   "outputs": [
    {
     "data": {
      "image/png": "[encoded data removed]",
      "text/plain": [
       "<Figure size 800x400 with 1 Axes>"
      ]
     },
     "metadata": {
      "needs_background": "light"
     },
     "output_type": "display_data"
    }
   ],
   "source": [
    "\n",
    "\n",
    "plt.rcParams['figure.figsize'] = [8, 4]\n",
    "plt.rcParams['figure.dpi'] = 100\n",
    "col_name = df.columns.values[dataset_id]\n",
    "plt.xlabel('Values')\n",
    "plt.ylabel('Count')\n",
    "plt.title(col_name)\n",
    "_ = plt.hist(scaled_df[dataset_id], color = 'blue', edgecolor = 'black', bins = np.arange(-5,4,0.1),label=col_name )"
   ]
  },
  {
   "cell_type": "code",
   "execution_count": 230,
   "metadata": {},
   "outputs": [],
   "source": [
    "scaler = preprocessing.QuantileTransformer().fit(df)\n",
    "quantile_df = scaler.transform(df)"
   ]
  },
  {
   "cell_type": "code",
   "execution_count": 272,
   "metadata": {},
   "outputs": [
    {
     "data": {
      "image/png": "[encoded data removed]",
      "text/plain": [
       "<Figure size 800x400 with 1 Axes>"
      ]
     },
     "metadata": {
      "needs_background": "light"
     },
     "output_type": "display_data"
    }
   ],
   "source": [
    "plt.rcParams['figure.figsize'] = [8, 4]\n",
    "plt.rcParams['figure.dpi'] = 100\n",
    "col_name = df.columns.values[dataset_id]\n",
    "plt.xlabel('Values')\n",
    "plt.ylabel('Count')\n",
    "plt.title(col_name)\n",
    "_ = plt.hist(quantile_df[dataset_id], color = 'blue', edgecolor = 'black', bins = np.arange(-5,4,0.1),label=col_name )"
   ]
  },
  {
   "cell_type": "markdown",
   "metadata": {},
   "source": [
    "## save normalized dataset"
   ]
  },
  {
   "cell_type": "code",
   "execution_count": 18,
   "metadata": {},
   "outputs": [
    {
     "name": "stdout",
     "output_type": "stream",
     "text": [
      "input_file:  ../data/formated_dataset.csv\n",
      "output_file: ../data/max_abs_df.csv\n"
     ]
    }
   ],
   "source": [
    "%%time\n",
    "def maximum_absolute_scaling(df):\n",
    "    # copy the dataframe\n",
    "    df_scaled = df.copy()\n",
    "    # apply maximum absolute scaling\n",
    "    for column in df_scaled.columns:\n",
    "        df_scaled[column] = df_scaled[column]  / df_scaled[column].abs().max()\n",
    "    return df_scaled\n",
    "\n",
    "input_file = '../data/formated_dataset.csv'\n",
    "print(\"input_file: \",input_file)\n",
    "df = pd.read_csv(input_file)\n",
    "df = maximum_absolute_scaling(df)\n",
    "df.to_csv(\"../data/max_abs_df.csv\",index=None,header=df.columns.values)\n",
    "print(\"output_file: ../data/max_abs_df.csv\")"
   ]
  },
  {
   "cell_type": "code",
   "execution_count": 19,
   "metadata": {},
   "outputs": [
    {
     "name": "stdout",
     "output_type": "stream",
     "text": [
      "input_file:  ../data/formated_dataset.csv\n",
      "output: quantile_df\n"
     ]
    }
   ],
   "source": [
    "%%time\n",
    "input_file = '../data/formated_dataset.csv'\n",
    "print(\"input_file: \",input_file)\n",
    "df = pd.read_csv(input_file)\n",
    "scaler = preprocessing.QuantileTransformer().fit(df)\n",
    "quantile_df = scaler.transform(df)\n",
    "pd.DataFrame(quantile_df).to_csv(\"../data/quantile_df.csv\",index=None,header=df.columns.values)\n",
    "print(\"output: quantile_df\")\n"
   ]
  },
  {
   "cell_type": "code",
   "execution_count": 20,
   "metadata": {},
   "outputs": [
    {
     "name": "stdout",
     "output_type": "stream",
     "text": [
      "input_file:  ../data/formated_dataset.csv\n",
      "output: scaler_df\n"
     ]
    }
   ],
   "source": [
    "%%time\n",
    "input_file = '../data/formated_dataset.csv'\n",
    "print(\"input_file: \",input_file)\n",
    "df = pd.read_csv(input_file)\n",
    "scaler = preprocessing.StandardScaler().fit(df)\n",
    "scaled_df = scaler.transform(df)\n",
    "pd.DataFrame(quantile_df).to_csv(\"../data/scaler_df.csv\",index=None,header=df.columns.values)\n",
    "print(\"output: scaler_df\")\n"
   ]
  },
  {
   "cell_type": "markdown",
   "metadata": {},
   "source": [
    "## legacy - cluster_analysis"
   ]
  },
  {
   "cell_type": "code",
   "execution_count": 7,
   "metadata": {},
   "outputs": [
    {
     "name": "stdout",
     "output_type": "stream",
     "text": [
      "input_file:  ../data/formated_dataset.csv\n"
     ]
    }
   ],
   "source": [
    "input_file = '../data/formated_dataset.csv'\n",
    "print(\"input_file: \",input_file)\n",
    "df = pd.read_csv(input_file)\n",
    "df = df.astype('float32') \n",
    "df = df[~df.isin([np.nan, np.inf, -np.inf,-9999.0]).any(1)]\n",
    "\n",
    "\n"
   ]
  },
  {
   "cell_type": "code",
   "execution_count": 8,
   "metadata": {},
   "outputs": [
    {
     "data": {
      "text/html": [
       "<div>\n",
       "<style scoped>\n",
       "    .dataframe tbody tr th:only-of-type {\n",
       "        vertical-align: middle;\n",
       "    }\n",
       "\n",
       "    .dataframe tbody tr th {\n",
       "        vertical-align: top;\n",
       "    }\n",
       "\n",
       "    .dataframe thead th {\n",
       "        text-align: right;\n",
       "    }\n",
       "</style>\n",
       "<table border=\"1\" class=\"dataframe\">\n",
       "  <thead>\n",
       "    <tr style=\"text-align: right;\">\n",
       "      <th></th>\n",
       "      <th>target</th>\n",
       "      <th>tpi_300</th>\n",
       "      <th>Grav_lane_clip</th>\n",
       "      <th>clim_PTA_albers</th>\n",
       "      <th>be-30y-85m-avg-ND-RED-BLUE.filled.lzw.nodata</th>\n",
       "      <th>be-30y-85m-avg_BLUE+SWIR2</th>\n",
       "      <th>3dem_mag1_fin</th>\n",
       "      <th>ceno_euc_aust1</th>\n",
       "      <th>be-l8-all-85m-avg-BLUE.filled.lzw.nodata</th>\n",
       "      <th>be-30y-85m-avg-ND-SWIR1-NIR.filled.lzw.nodata</th>\n",
       "      <th>...</th>\n",
       "      <th>relief_mrvbf_3s_mosaic</th>\n",
       "      <th>Rad2016U_Th</th>\n",
       "      <th>3dem_mag0.fin</th>\n",
       "      <th>s2-dpca-85m_1</th>\n",
       "      <th>s2-dpca-85m_2</th>\n",
       "      <th>s2-dpca-85m_3</th>\n",
       "      <th>water-85m_1</th>\n",
       "      <th>water-85m_2</th>\n",
       "      <th>water-85m_3</th>\n",
       "      <th>saga_wetSM_85_reprojected</th>\n",
       "    </tr>\n",
       "  </thead>\n",
       "  <tbody>\n",
       "    <tr>\n",
       "      <th>0</th>\n",
       "      <td>0.012695</td>\n",
       "      <td>-0.264486</td>\n",
       "      <td>132.345673</td>\n",
       "      <td>803.895752</td>\n",
       "      <td>0.671420</td>\n",
       "      <td>0.2306</td>\n",
       "      <td>0.369132</td>\n",
       "      <td>0.065748</td>\n",
       "      <td>0.0606</td>\n",
       "      <td>0.542396</td>\n",
       "      <td>...</td>\n",
       "      <td>4.0</td>\n",
       "      <td>0.932569</td>\n",
       "      <td>-0.305466</td>\n",
       "      <td>192.0</td>\n",
       "      <td>88.0</td>\n",
       "      <td>63.0</td>\n",
       "      <td>0.026451</td>\n",
       "      <td>-0.039139</td>\n",
       "      <td>-0.062414</td>\n",
       "      <td>10.004804</td>\n",
       "    </tr>\n",
       "    <tr>\n",
       "      <th>1</th>\n",
       "      <td>0.004673</td>\n",
       "      <td>0.076412</td>\n",
       "      <td>139.971863</td>\n",
       "      <td>802.700623</td>\n",
       "      <td>0.679385</td>\n",
       "      <td>0.2113</td>\n",
       "      <td>1.456310</td>\n",
       "      <td>0.058309</td>\n",
       "      <td>0.0549</td>\n",
       "      <td>0.529449</td>\n",
       "      <td>...</td>\n",
       "      <td>0.0</td>\n",
       "      <td>0.949415</td>\n",
       "      <td>1.607455</td>\n",
       "      <td>210.0</td>\n",
       "      <td>74.0</td>\n",
       "      <td>47.0</td>\n",
       "      <td>0.017286</td>\n",
       "      <td>-0.018131</td>\n",
       "      <td>-0.033444</td>\n",
       "      <td>9.931655</td>\n",
       "    </tr>\n",
       "    <tr>\n",
       "      <th>2</th>\n",
       "      <td>0.005242</td>\n",
       "      <td>0.634743</td>\n",
       "      <td>139.649155</td>\n",
       "      <td>803.203430</td>\n",
       "      <td>0.675992</td>\n",
       "      <td>0.1988</td>\n",
       "      <td>1.622768</td>\n",
       "      <td>0.059387</td>\n",
       "      <td>0.0520</td>\n",
       "      <td>0.518057</td>\n",
       "      <td>...</td>\n",
       "      <td>0.0</td>\n",
       "      <td>0.948752</td>\n",
       "      <td>1.781527</td>\n",
       "      <td>210.0</td>\n",
       "      <td>74.0</td>\n",
       "      <td>46.0</td>\n",
       "      <td>0.012877</td>\n",
       "      <td>-0.002545</td>\n",
       "      <td>-0.014030</td>\n",
       "      <td>10.118466</td>\n",
       "    </tr>\n",
       "    <tr>\n",
       "      <th>3</th>\n",
       "      <td>0.004727</td>\n",
       "      <td>0.401459</td>\n",
       "      <td>135.583328</td>\n",
       "      <td>804.416077</td>\n",
       "      <td>0.673164</td>\n",
       "      <td>0.2101</td>\n",
       "      <td>1.423526</td>\n",
       "      <td>0.070222</td>\n",
       "      <td>0.0543</td>\n",
       "      <td>0.541720</td>\n",
       "      <td>...</td>\n",
       "      <td>0.0</td>\n",
       "      <td>0.936961</td>\n",
       "      <td>1.658711</td>\n",
       "      <td>232.0</td>\n",
       "      <td>105.0</td>\n",
       "      <td>67.0</td>\n",
       "      <td>0.021657</td>\n",
       "      <td>-0.044284</td>\n",
       "      <td>-0.063202</td>\n",
       "      <td>10.619378</td>\n",
       "    </tr>\n",
       "    <tr>\n",
       "      <th>4</th>\n",
       "      <td>0.016980</td>\n",
       "      <td>0.033232</td>\n",
       "      <td>315.386932</td>\n",
       "      <td>820.631165</td>\n",
       "      <td>0.646681</td>\n",
       "      <td>0.2092</td>\n",
       "      <td>0.368556</td>\n",
       "      <td>0.026916</td>\n",
       "      <td>0.0548</td>\n",
       "      <td>0.537910</td>\n",
       "      <td>...</td>\n",
       "      <td>3.0</td>\n",
       "      <td>1.066115</td>\n",
       "      <td>0.587909</td>\n",
       "      <td>70.0</td>\n",
       "      <td>136.0</td>\n",
       "      <td>79.0</td>\n",
       "      <td>0.078101</td>\n",
       "      <td>-0.029294</td>\n",
       "      <td>-0.108972</td>\n",
       "      <td>11.260143</td>\n",
       "    </tr>\n",
       "    <tr>\n",
       "      <th>5</th>\n",
       "      <td>0.011725</td>\n",
       "      <td>-0.052185</td>\n",
       "      <td>315.069031</td>\n",
       "      <td>820.334167</td>\n",
       "      <td>0.649248</td>\n",
       "      <td>0.2041</td>\n",
       "      <td>0.399557</td>\n",
       "      <td>0.028389</td>\n",
       "      <td>0.0496</td>\n",
       "      <td>0.535722</td>\n",
       "      <td>...</td>\n",
       "      <td>0.0</td>\n",
       "      <td>1.027876</td>\n",
       "      <td>0.777037</td>\n",
       "      <td>89.0</td>\n",
       "      <td>120.0</td>\n",
       "      <td>72.0</td>\n",
       "      <td>0.058807</td>\n",
       "      <td>-0.012581</td>\n",
       "      <td>-0.070490</td>\n",
       "      <td>11.104171</td>\n",
       "    </tr>\n",
       "    <tr>\n",
       "      <th>6</th>\n",
       "      <td>0.013223</td>\n",
       "      <td>-0.604797</td>\n",
       "      <td>142.260757</td>\n",
       "      <td>797.277527</td>\n",
       "      <td>0.672932</td>\n",
       "      <td>0.2227</td>\n",
       "      <td>-0.708038</td>\n",
       "      <td>0.041636</td>\n",
       "      <td>0.0533</td>\n",
       "      <td>0.536006</td>\n",
       "      <td>...</td>\n",
       "      <td>7.0</td>\n",
       "      <td>0.914205</td>\n",
       "      <td>-1.065460</td>\n",
       "      <td>220.0</td>\n",
       "      <td>108.0</td>\n",
       "      <td>65.0</td>\n",
       "      <td>0.049727</td>\n",
       "      <td>-0.010973</td>\n",
       "      <td>-0.054472</td>\n",
       "      <td>10.428735</td>\n",
       "    </tr>\n",
       "    <tr>\n",
       "      <th>7</th>\n",
       "      <td>0.004484</td>\n",
       "      <td>0.588526</td>\n",
       "      <td>141.964584</td>\n",
       "      <td>799.034851</td>\n",
       "      <td>0.674678</td>\n",
       "      <td>0.2281</td>\n",
       "      <td>-0.312755</td>\n",
       "      <td>0.046937</td>\n",
       "      <td>0.0587</td>\n",
       "      <td>0.540961</td>\n",
       "      <td>...</td>\n",
       "      <td>7.0</td>\n",
       "      <td>0.935626</td>\n",
       "      <td>0.298032</td>\n",
       "      <td>229.0</td>\n",
       "      <td>105.0</td>\n",
       "      <td>58.0</td>\n",
       "      <td>0.015205</td>\n",
       "      <td>-0.064529</td>\n",
       "      <td>-0.077979</td>\n",
       "      <td>10.537455</td>\n",
       "    </tr>\n",
       "    <tr>\n",
       "      <th>8</th>\n",
       "      <td>0.003591</td>\n",
       "      <td>-0.316811</td>\n",
       "      <td>144.694290</td>\n",
       "      <td>797.207214</td>\n",
       "      <td>0.664256</td>\n",
       "      <td>0.2290</td>\n",
       "      <td>-0.432235</td>\n",
       "      <td>0.072446</td>\n",
       "      <td>0.0568</td>\n",
       "      <td>0.537660</td>\n",
       "      <td>...</td>\n",
       "      <td>5.0</td>\n",
       "      <td>0.947281</td>\n",
       "      <td>-1.118370</td>\n",
       "      <td>125.0</td>\n",
       "      <td>90.0</td>\n",
       "      <td>71.0</td>\n",
       "      <td>0.035860</td>\n",
       "      <td>-0.028991</td>\n",
       "      <td>-0.063413</td>\n",
       "      <td>11.524336</td>\n",
       "    </tr>\n",
       "    <tr>\n",
       "      <th>9</th>\n",
       "      <td>0.038092</td>\n",
       "      <td>-0.056219</td>\n",
       "      <td>309.070618</td>\n",
       "      <td>819.942627</td>\n",
       "      <td>0.651325</td>\n",
       "      <td>0.2214</td>\n",
       "      <td>0.470257</td>\n",
       "      <td>0.016383</td>\n",
       "      <td>0.0484</td>\n",
       "      <td>0.556190</td>\n",
       "      <td>...</td>\n",
       "      <td>4.0</td>\n",
       "      <td>1.100984</td>\n",
       "      <td>0.489603</td>\n",
       "      <td>91.0</td>\n",
       "      <td>110.0</td>\n",
       "      <td>49.0</td>\n",
       "      <td>0.041473</td>\n",
       "      <td>-0.001303</td>\n",
       "      <td>-0.042855</td>\n",
       "      <td>10.281479</td>\n",
       "    </tr>\n",
       "  </tbody>\n",
       "</table>\n",
       "<p>10 rows × 48 columns</p>\n",
       "</div>"
      ],
      "text/plain": [
       "     target   tpi_300  Grav_lane_clip  clim_PTA_albers  \\\n",
       "0  0.012695 -0.264486      132.345673       803.895752   \n",
       "1  0.004673  0.076412      139.971863       802.700623   \n",
       "2  0.005242  0.634743      139.649155       803.203430   \n",
       "3  0.004727  0.401459      135.583328       804.416077   \n",
       "4  0.016980  0.033232      315.386932       820.631165   \n",
       "5  0.011725 -0.052185      315.069031       820.334167   \n",
       "6  0.013223 -0.604797      142.260757       797.277527   \n",
       "7  0.004484  0.588526      141.964584       799.034851   \n",
       "8  0.003591 -0.316811      144.694290       797.207214   \n",
       "9  0.038092 -0.056219      309.070618       819.942627   \n",
       "\n",
       "   be-30y-85m-avg-ND-RED-BLUE.filled.lzw.nodata  be-30y-85m-avg_BLUE+SWIR2  \\\n",
       "0                                      0.671420                     0.2306   \n",
       "1                                      0.679385                     0.2113   \n",
       "2                                      0.675992                     0.1988   \n",
       "3                                      0.673164                     0.2101   \n",
       "4                                      0.646681                     0.2092   \n",
       "5                                      0.649248                     0.2041   \n",
       "6                                      0.672932                     0.2227   \n",
       "7                                      0.674678                     0.2281   \n",
       "8                                      0.664256                     0.2290   \n",
       "9                                      0.651325                     0.2214   \n",
       "\n",
       "   3dem_mag1_fin  ceno_euc_aust1  be-l8-all-85m-avg-BLUE.filled.lzw.nodata  \\\n",
       "0       0.369132        0.065748                                    0.0606   \n",
       "1       1.456310        0.058309                                    0.0549   \n",
       "2       1.622768        0.059387                                    0.0520   \n",
       "3       1.423526        0.070222                                    0.0543   \n",
       "4       0.368556        0.026916                                    0.0548   \n",
       "5       0.399557        0.028389                                    0.0496   \n",
       "6      -0.708038        0.041636                                    0.0533   \n",
       "7      -0.312755        0.046937                                    0.0587   \n",
       "8      -0.432235        0.072446                                    0.0568   \n",
       "9       0.470257        0.016383                                    0.0484   \n",
       "\n",
       "   be-30y-85m-avg-ND-SWIR1-NIR.filled.lzw.nodata  ...  relief_mrvbf_3s_mosaic  \\\n",
       "0                                       0.542396  ...                     4.0   \n",
       "1                                       0.529449  ...                     0.0   \n",
       "2                                       0.518057  ...                     0.0   \n",
       "3                                       0.541720  ...                     0.0   \n",
       "4                                       0.537910  ...                     3.0   \n",
       "5                                       0.535722  ...                     0.0   \n",
       "6                                       0.536006  ...                     7.0   \n",
       "7                                       0.540961  ...                     7.0   \n",
       "8                                       0.537660  ...                     5.0   \n",
       "9                                       0.556190  ...                     4.0   \n",
       "\n",
       "   Rad2016U_Th  3dem_mag0.fin  s2-dpca-85m_1  s2-dpca-85m_2  s2-dpca-85m_3  \\\n",
       "0     0.932569      -0.305466          192.0           88.0           63.0   \n",
       "1     0.949415       1.607455          210.0           74.0           47.0   \n",
       "2     0.948752       1.781527          210.0           74.0           46.0   \n",
       "3     0.936961       1.658711          232.0          105.0           67.0   \n",
       "4     1.066115       0.587909           70.0          136.0           79.0   \n",
       "5     1.027876       0.777037           89.0          120.0           72.0   \n",
       "6     0.914205      -1.065460          220.0          108.0           65.0   \n",
       "7     0.935626       0.298032          229.0          105.0           58.0   \n",
       "8     0.947281      -1.118370          125.0           90.0           71.0   \n",
       "9     1.100984       0.489603           91.0          110.0           49.0   \n",
       "\n",
       "   water-85m_1  water-85m_2  water-85m_3  saga_wetSM_85_reprojected  \n",
       "0     0.026451    -0.039139    -0.062414                  10.004804  \n",
       "1     0.017286    -0.018131    -0.033444                   9.931655  \n",
       "2     0.012877    -0.002545    -0.014030                  10.118466  \n",
       "3     0.021657    -0.044284    -0.063202                  10.619378  \n",
       "4     0.078101    -0.029294    -0.108972                  11.260143  \n",
       "5     0.058807    -0.012581    -0.070490                  11.104171  \n",
       "6     0.049727    -0.010973    -0.054472                  10.428735  \n",
       "7     0.015205    -0.064529    -0.077979                  10.537455  \n",
       "8     0.035860    -0.028991    -0.063413                  11.524336  \n",
       "9     0.041473    -0.001303    -0.042855                  10.281479  \n",
       "\n",
       "[10 rows x 48 columns]"
      ]
     },
     "execution_count": 8,
     "metadata": {},
     "output_type": "execute_result"
    }
   ],
   "source": [
    "df.head(10)"
   ]
  },
  {
   "cell_type": "code",
   "execution_count": 10,
   "metadata": {},
   "outputs": [],
   "source": [
    "mvr_stats = df['target']"
   ]
  },
  {
   "cell_type": "code",
   "execution_count": 11,
   "metadata": {},
   "outputs": [
    {
     "data": {
      "text/plain": [
       "array([0.004673, 0.01698 , 0.004484, ..., 0.010545, 0.025788, 0.027754],\n",
       "      dtype=float32)"
      ]
     },
     "execution_count": 11,
     "metadata": {},
     "output_type": "execute_result"
    }
   ],
   "source": [
    "mvr_stats.values[1::3]"
   ]
  },
  {
   "cell_type": "code",
   "execution_count": 12,
   "metadata": {},
   "outputs": [
    {
     "data": {
      "text/plain": [
       "array([0.005242, 0.011725, 0.003591, ..., 0.059235, 0.187801, 0.028176],\n",
       "      dtype=float32)"
      ]
     },
     "execution_count": 12,
     "metadata": {},
     "output_type": "execute_result"
    }
   ],
   "source": [
    "mvr_stats.values[2::3]"
   ]
  },
  {
   "cell_type": "code",
   "execution_count": 28,
   "metadata": {},
   "outputs": [
    {
     "name": "stderr",
     "output_type": "stream",
     "text": [
      "ERROR:root:Internal Python error in the inspect module.\n",
      "Below is the traceback from this internal error.\n",
      "\n",
      "ERROR:root:Internal Python error in the inspect module.\n",
      "Below is the traceback from this internal error.\n",
      "\n"
     ]
    },
    {
     "name": "stdout",
     "output_type": "stream",
     "text": [
      "Traceback (most recent call last):\n",
      "  File \"/home/547/sg4953/venvs/uncoverml_gadi/lib/python3.7/site-packages/IPython/core/interactiveshell.py\", line 3418, in run_code\n",
      "    exec(code_obj, self.user_global_ns, self.user_ns)\n",
      "  File \"<ipython-input-29-6febbf65fed4>\", line 4, in <module>\n",
      "    plt.errorbar(df[f].index, df[f] , yerr=df[f].std(), fmt='o', ecolor='g', capthick=2)\n",
      "  File \"/home/547/sg4953/venvs/uncoverml_gadi/lib/python3.7/site-packages/matplotlib/pyplot.py\", line 2609, in errorbar\n",
      "    **({\"data\": data} if data is not None else {}), **kwargs)\n",
      "  File \"/home/547/sg4953/venvs/uncoverml_gadi/lib/python3.7/site-packages/matplotlib/__init__.py\", line 1447, in inner\n",
      "    return func(ax, *map(sanitize_sequence, args), **kwargs)\n",
      "  File \"/home/547/sg4953/venvs/uncoverml_gadi/lib/python3.7/site-packages/matplotlib/axes/_axes.py\", line 3455, in errorbar\n",
      "    *apply_mask([x, lower, upper], everymask), **eb_lines_style))\n",
      "  File \"/home/547/sg4953/venvs/uncoverml_gadi/lib/python3.7/site-packages/matplotlib/__init__.py\", line 1447, in inner\n",
      "    return func(ax, *map(sanitize_sequence, args), **kwargs)\n",
      "  File \"/home/547/sg4953/venvs/uncoverml_gadi/lib/python3.7/site-packages/matplotlib/axes/_axes.py\", line 1262, in vlines\n",
      "    linestyles=linestyles, label=label)\n",
      "  File \"/home/547/sg4953/venvs/uncoverml_gadi/lib/python3.7/site-packages/matplotlib/collections.py\", line 1393, in __init__\n",
      "    self.set_segments(segments)\n",
      "  File \"/home/547/sg4953/venvs/uncoverml_gadi/lib/python3.7/site-packages/matplotlib/collections.py\", line 1408, in set_segments\n",
      "    self._paths = [mpath.Path(_seg) for _seg in _segments]\n",
      "  File \"/home/547/sg4953/venvs/uncoverml_gadi/lib/python3.7/site-packages/matplotlib/collections.py\", line 1408, in <listcomp>\n",
      "    self._paths = [mpath.Path(_seg) for _seg in _segments]\n",
      "  File \"/home/547/sg4953/venvs/uncoverml_gadi/lib/python3.7/site-packages/matplotlib/path.py\", line 131, in __init__\n",
      "    vertices = _to_unmasked_float_array(vertices)\n",
      "  File \"/home/547/sg4953/venvs/uncoverml_gadi/lib/python3.7/site-packages/matplotlib/cbook/__init__.py\", line 1287, in _to_unmasked_float_array\n",
      "    return np.ma.asarray(x, float).filled(np.nan)\n",
      "  File \"/home/547/sg4953/venvs/uncoverml_gadi/lib/python3.7/site-packages/numpy/ma/core.py\", line 7949, in asarray\n",
      "    subok=False, order=order)\n",
      "  File \"/home/547/sg4953/venvs/uncoverml_gadi/lib/python3.7/site-packages/numpy/ma/core.py\", line 2852, in __new__\n",
      "    mdtype = make_mask_descr(_data.dtype)\n",
      "  File \"/home/547/sg4953/venvs/uncoverml_gadi/lib/python3.7/site-packages/numpy/ma/core.py\", line 3406, in dtype\n",
      "    @property\n",
      "KeyboardInterrupt\n",
      "\n",
      "During handling of the above exception, another exception occurred:\n",
      "\n",
      "Traceback (most recent call last):\n",
      "  File \"/home/547/sg4953/venvs/uncoverml_gadi/lib/python3.7/site-packages/IPython/core/interactiveshell.py\", line 3418, in run_code\n",
      "    exec(code_obj, self.user_global_ns, self.user_ns)\n",
      "KeyboardInterrupt\n",
      "\n",
      "During handling of the above exception, another exception occurred:\n",
      "\n",
      "Traceback (most recent call last):\n",
      "  File \"/home/547/sg4953/venvs/uncoverml_gadi/lib/python3.7/site-packages/IPython/core/interactiveshell.py\", line 2045, in showtraceback\n",
      "    stb = value._render_traceback_()\n",
      "AttributeError: 'KeyboardInterrupt' object has no attribute '_render_traceback_'\n",
      "\n",
      "During handling of the above exception, another exception occurred:\n",
      "\n",
      "Traceback (most recent call last):\n",
      "  File \"/home/547/sg4953/venvs/uncoverml_gadi/lib/python3.7/site-packages/IPython/core/ultratb.py\", line 1170, in get_records\n",
      "    return _fixed_getinnerframes(etb, number_of_lines_of_context, tb_offset)\n",
      "  File \"/home/547/sg4953/venvs/uncoverml_gadi/lib/python3.7/site-packages/IPython/core/ultratb.py\", line 316, in wrapped\n",
      "    return f(*args, **kwargs)\n",
      "  File \"/home/547/sg4953/venvs/uncoverml_gadi/lib/python3.7/site-packages/IPython/core/ultratb.py\", line 350, in _fixed_getinnerframes\n",
      "    records = fix_frame_records_filenames(inspect.getinnerframes(etb, context))\n",
      "  File \"/apps/python3/3.7.4/lib/python3.7/inspect.py\", line 1502, in getinnerframes\n",
      "    frameinfo = (tb.tb_frame,) + getframeinfo(tb, context)\n",
      "  File \"/apps/python3/3.7.4/lib/python3.7/inspect.py\", line 1460, in getframeinfo\n",
      "    filename = getsourcefile(frame) or getfile(frame)\n",
      "  File \"/apps/python3/3.7.4/lib/python3.7/inspect.py\", line 693, in getsourcefile\n",
      "    if os.path.exists(filename):\n",
      "  File \"/apps/python3/3.7.4/lib/python3.7/genericpath.py\", line 19, in exists\n",
      "    os.stat(path)\n",
      "KeyboardInterrupt\n",
      "Traceback (most recent call last):\n",
      "  File \"/home/547/sg4953/venvs/uncoverml_gadi/lib/python3.7/site-packages/IPython/core/interactiveshell.py\", line 3418, in run_code\n",
      "    exec(code_obj, self.user_global_ns, self.user_ns)\n",
      "  File \"<ipython-input-29-6febbf65fed4>\", line 4, in <module>\n",
      "    plt.errorbar(df[f].index, df[f] , yerr=df[f].std(), fmt='o', ecolor='g', capthick=2)\n",
      "  File \"/home/547/sg4953/venvs/uncoverml_gadi/lib/python3.7/site-packages/matplotlib/pyplot.py\", line 2609, in errorbar\n",
      "    **({\"data\": data} if data is not None else {}), **kwargs)\n",
      "  File \"/home/547/sg4953/venvs/uncoverml_gadi/lib/python3.7/site-packages/matplotlib/__init__.py\", line 1447, in inner\n",
      "    return func(ax, *map(sanitize_sequence, args), **kwargs)\n",
      "  File \"/home/547/sg4953/venvs/uncoverml_gadi/lib/python3.7/site-packages/matplotlib/axes/_axes.py\", line 3455, in errorbar\n",
      "    *apply_mask([x, lower, upper], everymask), **eb_lines_style))\n",
      "  File \"/home/547/sg4953/venvs/uncoverml_gadi/lib/python3.7/site-packages/matplotlib/__init__.py\", line 1447, in inner\n",
      "    return func(ax, *map(sanitize_sequence, args), **kwargs)\n",
      "  File \"/home/547/sg4953/venvs/uncoverml_gadi/lib/python3.7/site-packages/matplotlib/axes/_axes.py\", line 1262, in vlines\n",
      "    linestyles=linestyles, label=label)\n",
      "  File \"/home/547/sg4953/venvs/uncoverml_gadi/lib/python3.7/site-packages/matplotlib/collections.py\", line 1393, in __init__\n",
      "    self.set_segments(segments)\n",
      "  File \"/home/547/sg4953/venvs/uncoverml_gadi/lib/python3.7/site-packages/matplotlib/collections.py\", line 1408, in set_segments\n",
      "    self._paths = [mpath.Path(_seg) for _seg in _segments]\n",
      "  File \"/home/547/sg4953/venvs/uncoverml_gadi/lib/python3.7/site-packages/matplotlib/collections.py\", line 1408, in <listcomp>\n",
      "    self._paths = [mpath.Path(_seg) for _seg in _segments]\n",
      "  File \"/home/547/sg4953/venvs/uncoverml_gadi/lib/python3.7/site-packages/matplotlib/path.py\", line 131, in __init__\n",
      "    vertices = _to_unmasked_float_array(vertices)\n",
      "  File \"/home/547/sg4953/venvs/uncoverml_gadi/lib/python3.7/site-packages/matplotlib/cbook/__init__.py\", line 1287, in _to_unmasked_float_array\n",
      "    return np.ma.asarray(x, float).filled(np.nan)\n",
      "  File \"/home/547/sg4953/venvs/uncoverml_gadi/lib/python3.7/site-packages/numpy/ma/core.py\", line 7949, in asarray\n",
      "    subok=False, order=order)\n",
      "  File \"/home/547/sg4953/venvs/uncoverml_gadi/lib/python3.7/site-packages/numpy/ma/core.py\", line 2852, in __new__\n",
      "    mdtype = make_mask_descr(_data.dtype)\n",
      "  File \"/home/547/sg4953/venvs/uncoverml_gadi/lib/python3.7/site-packages/numpy/ma/core.py\", line 3406, in dtype\n",
      "    @property\n",
      "KeyboardInterrupt\n",
      "\n",
      "During handling of the above exception, another exception occurred:\n",
      "\n",
      "Traceback (most recent call last):\n",
      "  File \"/home/547/sg4953/venvs/uncoverml_gadi/lib/python3.7/site-packages/IPython/core/interactiveshell.py\", line 3418, in run_code\n",
      "    exec(code_obj, self.user_global_ns, self.user_ns)\n",
      "KeyboardInterrupt\n",
      "\n",
      "During handling of the above exception, another exception occurred:\n",
      "\n",
      "Traceback (most recent call last):\n",
      "  File \"/home/547/sg4953/venvs/uncoverml_gadi/lib/python3.7/site-packages/IPython/core/interactiveshell.py\", line 2045, in showtraceback\n",
      "    stb = value._render_traceback_()\n",
      "AttributeError: 'KeyboardInterrupt' object has no attribute '_render_traceback_'\n",
      "\n",
      "During handling of the above exception, another exception occurred:\n",
      "\n",
      "Traceback (most recent call last):\n",
      "  File \"/home/547/sg4953/venvs/uncoverml_gadi/lib/python3.7/site-packages/IPython/core/interactiveshell.py\", line 3338, in run_ast_nodes\n",
      "    if (await self.run_code(code, result,  async_=asy)):\n",
      "  File \"/home/547/sg4953/venvs/uncoverml_gadi/lib/python3.7/site-packages/IPython/core/interactiveshell.py\", line 3435, in run_code\n",
      "    self.showtraceback(running_compiled_code=True)\n",
      "  File \"/home/547/sg4953/venvs/uncoverml_gadi/lib/python3.7/site-packages/IPython/core/interactiveshell.py\", line 2048, in showtraceback\n",
      "    value, tb, tb_offset=tb_offset)\n",
      "  File \"/home/547/sg4953/venvs/uncoverml_gadi/lib/python3.7/site-packages/IPython/core/ultratb.py\", line 1437, in structured_traceback\n",
      "    self, etype, value, tb, tb_offset, number_of_lines_of_context)\n",
      "  File \"/home/547/sg4953/venvs/uncoverml_gadi/lib/python3.7/site-packages/IPython/core/ultratb.py\", line 1337, in structured_traceback\n",
      "    self, etype, value, tb, tb_offset, number_of_lines_of_context\n",
      "  File \"/home/547/sg4953/venvs/uncoverml_gadi/lib/python3.7/site-packages/IPython/core/ultratb.py\", line 1212, in structured_traceback\n",
      "    chained_exceptions_tb_offset)\n",
      "  File \"/home/547/sg4953/venvs/uncoverml_gadi/lib/python3.7/site-packages/IPython/core/ultratb.py\", line 1151, in format_exception_as_a_whole\n",
      "    last_unique, recursion_repeat = find_recursion(orig_etype, evalue, records)\n",
      "  File \"/home/547/sg4953/venvs/uncoverml_gadi/lib/python3.7/site-packages/IPython/core/ultratb.py\", line 451, in find_recursion\n",
      "    return len(records), 0\n",
      "TypeError: object of type 'NoneType' has no len()\n",
      "\n",
      "During handling of the above exception, another exception occurred:\n",
      "\n",
      "Traceback (most recent call last):\n",
      "  File \"/home/547/sg4953/venvs/uncoverml_gadi/lib/python3.7/site-packages/IPython/core/interactiveshell.py\", line 2045, in showtraceback\n",
      "    stb = value._render_traceback_()\n",
      "AttributeError: 'TypeError' object has no attribute '_render_traceback_'\n",
      "\n",
      "During handling of the above exception, another exception occurred:\n",
      "\n",
      "Traceback (most recent call last):\n",
      "  File \"/home/547/sg4953/venvs/uncoverml_gadi/lib/python3.7/site-packages/IPython/core/ultratb.py\", line 1170, in get_records\n",
      "    return _fixed_getinnerframes(etb, number_of_lines_of_context, tb_offset)\n",
      "  File \"/home/547/sg4953/venvs/uncoverml_gadi/lib/python3.7/site-packages/IPython/core/ultratb.py\", line 316, in wrapped\n",
      "    return f(*args, **kwargs)\n",
      "  File \"/home/547/sg4953/venvs/uncoverml_gadi/lib/python3.7/site-packages/IPython/core/ultratb.py\", line 350, in _fixed_getinnerframes\n",
      "    records = fix_frame_records_filenames(inspect.getinnerframes(etb, context))\n",
      "  File \"/apps/python3/3.7.4/lib/python3.7/inspect.py\", line 1502, in getinnerframes\n",
      "    frameinfo = (tb.tb_frame,) + getframeinfo(tb, context)\n",
      "  File \"/apps/python3/3.7.4/lib/python3.7/inspect.py\", line 1460, in getframeinfo\n",
      "    filename = getsourcefile(frame) or getfile(frame)\n",
      "  File \"/apps/python3/3.7.4/lib/python3.7/inspect.py\", line 696, in getsourcefile\n",
      "    if getattr(getmodule(object, filename), '__loader__', None) is not None:\n",
      "  File \"/apps/python3/3.7.4/lib/python3.7/inspect.py\", line 732, in getmodule\n",
      "    for modname, module in list(sys.modules.items()):\n",
      "KeyboardInterrupt\n"
     ]
    },
    {
     "name": "stderr",
     "output_type": "stream",
     "text": [
      "\n",
      "KeyboardInterrupt\n",
      "\n"
     ]
    },
    {
     "data": {
      "image/png": "[encoded data removed]",
      "text/plain": [
       "<Figure size 432x288 with 1 Axes>"
      ]
     },
     "metadata": {
      "needs_background": "light"
     },
     "output_type": "display_data"
    }
   ],
   "source": [
    "for f in df.columns:\n",
    "    \n",
    "    plt.figure()\n",
    "    plt.errorbar(df[f].index, df[f] , yerr=df[f].std(), fmt='o', ecolor='g', capthick=2)\n",
    "#     plt.title(splitext(f)[0])\n",
    "    break"
   ]
  },
  {
   "cell_type": "code",
   "execution_count": null,
   "metadata": {},
   "outputs": [
    {
     "name": "stdout",
     "output_type": "stream",
     "text": [
      "ERROR! Session/line number was not unique in database. History logging moved to new session 261\n"
     ]
    },
    {
     "data": {
      "text/plain": [
       "<AxesSubplot:>"
      ]
     },
     "execution_count": 29,
     "metadata": {},
     "output_type": "execute_result"
    }
   ],
   "source": [
    "%matplotlib inline\n",
    "df.plot()"
   ]
  },
  {
   "cell_type": "code",
   "execution_count": 9,
   "metadata": {},
   "outputs": [],
   "source": [
    "## legacy - cluster_analysis_national"
   ]
  },
  {
   "cell_type": "code",
   "execution_count": null,
   "metadata": {},
   "outputs": [],
   "source": [
    "# This is a demonstration of a cluster analysis for a national model.\n",
    "# The K-Means classification was run using 12 classes and 19 covariates.\n",
    "# These plots (19 for 19 covariates) show the mean and 3*sigma error\n",
    "# bars for a covariate for each class. \n",
    "# The idea behind these plots are to give empirical evidence of the\n",
    "# range of values of a covariate that goes onto constructing a class.\n",
    "# These plots will also provide high level understanding of the\n",
    "# difference between two classes and range of values of the contributiors\n",
    "# that constitute each class."
   ]
  },
  {
   "cell_type": "code",
   "execution_count": null,
   "metadata": {},
   "outputs": [],
   "source": [
    "\n",
    "\n",
    "for f in cont.columns:\n",
    "    cov = df[f]\n",
    "    cov_mean = cov.values[1::3]\n",
    "    cov_sd = cov.values[2::3]\n",
    "    y_err = 1*cov_sd\n",
    "    plt.figure()\n",
    "    plt.errorbar(range(1, len(cov_mean) + 1) , cov_mean, yerr=y_err, fmt='o', ecolor='g', capthick=2)\n",
    "    plt.title(splitext(f)[0])\n",
    "    plt.xlabel('Class')\n",
    "    plt.ylabel('Value')\n",
    "    \n",
    "    # add labels\n",
    "    labels = range(1, len(cov_mean) + 1)\n",
    "    plt.xticks(range(1, len(cov_mean) + 1), labels)"
   ]
  },
  {
   "cell_type": "code",
   "execution_count": null,
   "metadata": {},
   "outputs": [],
   "source": []
  },
  {
   "cell_type": "code",
   "execution_count": null,
   "metadata": {},
   "outputs": [],
   "source": []
  }
 ],
 "metadata": {
  "kernelspec": {
   "display_name": "Python 3",
   "language": "python",
   "name": "python3"
  },
  "language_info": {
   "codemirror_mode": {
    "name": "ipython",
    "version": 3
   },
   "file_extension": ".py",
   "mimetype": "text/x-python",
   "name": "python",
   "nbconvert_exporter": "python",
   "pygments_lexer": "ipython3",
   "version": "3.7.4"
  }
 },
 "nbformat": 4,
 "nbformat_minor": 4
}
