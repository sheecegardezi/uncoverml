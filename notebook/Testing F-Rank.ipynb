{
 "cells": [
  {
   "cell_type": "code",
   "execution_count": 11,
   "metadata": {},
   "outputs": [
    {
     "name": "stdout",
     "output_type": "stream",
     "text": [
      "Optimal number of features : 34\n"
     ]
    },
    {
     "data": {
      "image/png": "[encoded data removed]",
      "text/plain": [
       "<Figure size 432x288 with 1 Axes>"
      ]
     },
     "metadata": {
      "needs_background": "light"
     },
     "output_type": "display_data"
    },
    {
     "name": "stdout",
     "output_type": "stream",
     "text": [
      "peak memory: 2742.57 MiB, increment: 1780.06 MiB\n",
      "CPU times: user 1d 1h 45min 18s, sys: 1h 52min 39s, total: 1d 3h 37min 58s\n",
      "Wall time: 1h 38min 14s\n"
     ]
    }
   ],
   "source": [
    "%%time\n",
    "%%memit\n",
    "\n",
    "import matplotlib.pyplot as plt\n",
    "from sklearn.feature_selection import RFECV\n",
    "\n",
    "\n",
    "# Create the RFE object and compute a cross-validated score.\n",
    "xgb_model = xgb.XGBRegressor(n_jobs=multiprocessing.cpu_count() // 2)\n",
    "\n",
    "# The \"accuracy\" scoring is proportional to the number of correct\n",
    "# classifications\n",
    "\n",
    "min_features_to_select = 1  # Minimum number of features to consider\n",
    "rfecv = RFECV(estimator=xgb_model, \n",
    "              step=1, \n",
    "              cv=2,\n",
    "              scoring='r2',\n",
    "              min_features_to_select=min_features_to_select)\n",
    "rfecv.fit(X, y)\n",
    "\n",
    "print(\"Optimal number of features : %d\" % rfecv.n_features_)\n",
    "\n",
    "# Plot number of features VS. cross-validation scores\n",
    "plt.figure()\n",
    "plt.xlabel(\"Number of features selected\")\n",
    "plt.ylabel(\"Cross validation score (nb of correct classifications)\")\n",
    "plt.plot(range(min_features_to_select, len(rfecv.grid_scores_) + min_features_to_select), rfecv.grid_scores_)\n",
    "plt.show()"
   ]
  },
  {
   "cell_type": "code",
   "execution_count": 13,
   "metadata": {},
   "outputs": [
    {
     "name": "stdout",
     "output_type": "stream",
     "text": [
      "'Bayesian Search.ipynb'  'Grid Search.ipynb'\t 'Testing F-Rank.ipynb'\n",
      "'Feature Ranking.ipynb'  'Pre Processing.ipynb'   dask-worker-space\n"
     ]
    }
   ],
   "source": [
    "!ls /home/547/sg4953/notebooks"
   ]
  },
  {
   "cell_type": "code",
   "execution_count": 9,
   "metadata": {},
   "outputs": [
    {
     "name": "stdout",
     "output_type": "stream",
     "text": [
      "['target',\n",
      " '/g/data/ge3/sheece/LOC_distance_to_coast.tif',\n",
      " '/g/data/ge3/sheece/mrvbf_9.tif',\n",
      " '/g/data/ge3/sheece/relief_mrvbf_3s_mosaic.tif',\n",
      " '/g/data/ge3/sheece/relief_elev_focalrange1000m_3s.tif',\n",
      " '/g/data/ge3/sheece/relief_elev_focalrange300m_3s.tif',\n",
      " '/g/data/ge3/sheece/saga_wetSM_85_resampled.tif',\n",
      " '/g/data/ge3/sheece/tpi_300.tif',\n",
      " '/g/data/ge3/sheece/slope_fill2.tif',\n",
      " '/g/data/ge3/sheece/dem_fill.tif',\n",
      " '/g/data/ge3/sheece/3dem_mag2.tif',\n",
      " '/g/data/ge3/sheece/3dem_mag1_fin.tif',\n",
      " '/g/data/ge3/sheece/3dem_mag0.fin.tif',\n",
      " '/g/data/ge3/sheece/relief_roughness.tif',\n",
      " '/g/data/ge3/sheece/LATITUDE_GRID1_clip.tif',\n",
      " '/g/data/ge3/sheece/LATITUDE_GRID1_clip.tif',\n",
      " '/g/data/ge3/sheece/Dose_2016.tif',\n",
      " '/g/data/ge3/sheece/Potassium_2016.tif',\n",
      " '/g/data/ge3/sheece/Thorium_2016.tif',\n",
      " '/g/data/ge3/sheece/Rad2016U_Th.tif',\n",
      " '/g/data/ge3/sheece/Rad2016K_Th.tif',\n",
      " '/g/data/ge3/sheece/national_Wii_RF_multirandomforest_prediction.tif',\n",
      " '/g/data/ge3/sheece/si_geol1.tif',\n",
      " '/g/data/ge3/sheece/ceno_euc_aust1.tif',\n",
      " '/g/data/ge3/sheece/Grav_lane_clip.tif',\n",
      " '/g/data/ge3/sheece/be-30y-85m-avg-ND-NIR-GREEN.filled.lzw.nodata.tif',\n",
      " '/g/data/ge3/sheece/be-30y-85m-avg-ND-RED-BLUE.filled.lzw.nodata.tif',\n",
      " '/g/data/ge3/sheece/be-30y-85m-avg-ND-SWIR1-SWIR2.filled.lzw.nodata.tif',\n",
      " '/g/data/ge3/sheece/be-30y-85m-avg_BLUE+SWIR2.tif',\n",
      " '/g/data/ge3/sheece/be-30y-85m-avg-ND-SWIR1-NIR.filled.lzw.nodata.tif',\n",
      " '/g/data/ge3/sheece/be-30y-85m-avg-CLAY-PC2.filled.lzw.nodata.tif',\n",
      " '/g/data/ge3/sheece/be-30y-85m-avg-ND-RED-BLUE.filled.lzw.nodata.tif',\n",
      " '/g/data/ge3/sheece/be-30y-85m-avg-RED.filled.lzw.nodata.tif',\n",
      " '/g/data/ge3/sheece/be-30y-85m-avg-GREEN.filled.lzw.nodata.tif',\n",
      " '/g/data/ge3/sheece/be-l8-all-85m-avg-BLUE.filled.lzw.nodata.tif',\n",
      " '/g/data/ge3/sheece/be-l8-all-85m-avg-NIR.filled.lzw.nodata.tif',\n",
      " '/g/data/ge3/sheece/be-30y-85m-avg-SWIR1.filled.lzw.nodata.tif',\n",
      " '/g/data/ge3/sheece/be-30y-85m-avg-SWIR2.filled.lzw.nodata.tif',\n",
      " '/g/data/ge3/sheece/s2-dpca-85m.tif',\n",
      " '/g/data/ge3/sheece/water-85m.tif',\n",
      " '/g/data/ge3/sheece/clim_EPA_albers.tif',\n",
      " '/g/data/ge3/sheece/Clim_Prescott_LindaGregory.tif',\n",
      " '/g/data/ge3/sheece/clim_PTA_albers.tif',\n",
      " '/g/data/ge3/sheece/clim_WDA_albers.tif',\n",
      " '/g/data/ge3/sheece/clim_RSM_albers.tif']\n"
     ]
    }
   ],
   "source": [
    "headers = next(csv.reader(open(input_dataset_path)))\n",
    "pprint(headers)"
   ]
  },
  {
   "cell_type": "code",
   "execution_count": 8,
   "metadata": {},
   "outputs": [
    {
     "data": {
      "text/plain": [
       "((161475, 44), (161475,))"
      ]
     },
     "execution_count": 8,
     "metadata": {},
     "output_type": "execute_result"
    }
   ],
   "source": [
    "X_test.shape, y_test.shape"
   ]
  },
  {
   "cell_type": "code",
   "execution_count": 7,
   "metadata": {},
   "outputs": [
    {
     "data": {
      "text/plain": [
       "((327842, 44), (327842,))"
      ]
     },
     "execution_count": 7,
     "metadata": {},
     "output_type": "execute_result"
    }
   ],
   "source": [
    "X_train.shape, y_train.shape"
   ]
  },
  {
   "cell_type": "code",
   "execution_count": 6,
   "metadata": {},
   "outputs": [
    {
     "data": {
      "text/plain": [
       "((489317, 44), (489317,))"
      ]
     },
     "execution_count": 6,
     "metadata": {},
     "output_type": "execute_result"
    }
   ],
   "source": [
    "X.shape, y.shape"
   ]
  },
  {
   "cell_type": "code",
   "execution_count": 5,
   "metadata": {},
   "outputs": [
    {
     "name": "stdout",
     "output_type": "stream",
     "text": [
      "peak memory: 2827.79 MiB, increment: 2665.92 MiB\n",
      "CPU times: user 18.8 s, sys: 1.66 s, total: 20.5 s\n",
      "Wall time: 22.3 s\n"
     ]
    }
   ],
   "source": [
    "%%time\n",
    "%%memit\n",
    "\n",
    "# read the csv file created\n",
    "train = np.genfromtxt(input_dataset_path, delimiter=',',skip_header=1)\n",
    "\n",
    "\n",
    "X, y = train[:, 1:], train[:, :1]\n",
    "y = y.ravel()\n",
    "\n",
    "# Set training and validation sets\n",
    "X_train, X_test, y_train, y_test = train_test_split(X, y, test_size=0.33)"
   ]
  },
  {
   "cell_type": "code",
   "execution_count": 4,
   "metadata": {},
   "outputs": [],
   "source": [
    "input_dataset_path = Path('/g/data/ge3/sheece/input_dataset_filtered.csv')"
   ]
  },
  {
   "cell_type": "code",
   "execution_count": 3,
   "metadata": {},
   "outputs": [],
   "source": [
    "%load_ext memory_profiler"
   ]
  },
  {
   "cell_type": "code",
   "execution_count": 2,
   "metadata": {},
   "outputs": [],
   "source": [
    "import numpy as np\n",
    "import ray\n",
    "import xgboost as xgb\n",
    "from matplotlib import pyplot as plt\n",
    "from sklearn import metrics\n",
    "from sklearn.model_selection import train_test_split\n",
    "from tune_sklearn import TuneSearchCV\n",
    "from xgboost import XGBRegressor\n",
    "import xgboost as xgb\n"
   ]
  },
  {
   "cell_type": "code",
   "execution_count": 1,
   "metadata": {},
   "outputs": [],
   "source": [
    "import csv\n",
    "import time  # Just to compare fit times\n",
    "from pathlib import Path\n",
    "from pprint import pprint\n",
    "import csv\n",
    "import multiprocessing"
   ]
  },
  {
   "cell_type": "code",
   "execution_count": null,
   "metadata": {},
   "outputs": [],
   "source": []
  }
 ],
 "metadata": {
  "kernelspec": {
   "display_name": "Python 3",
   "language": "python",
   "name": "python3"
  },
  "language_info": {
   "codemirror_mode": {
    "name": "ipython",
    "version": 3
   },
   "file_extension": ".py",
   "mimetype": "text/x-python",
   "name": "python",
   "nbconvert_exporter": "python",
   "pygments_lexer": "ipython3",
   "version": "3.7.4"
  }
 },
 "nbformat": 4,
 "nbformat_minor": 4
}
