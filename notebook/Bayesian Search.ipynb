{
 "cells": [
  {
   "cell_type": "code",
   "execution_count": 4,
   "metadata": {},
   "outputs": [],
   "source": [
    "import csv\n",
    "import time  # Just to compare fit times\n",
    "from pathlib import Path\n",
    "from pprint import pprint"
   ]
  },
  {
   "cell_type": "code",
   "execution_count": 16,
   "metadata": {},
   "outputs": [],
   "source": [
    "import numpy as np\n",
    "import ray\n",
    "import xgboost as xgb\n",
    "from matplotlib import pyplot as plt\n",
    "from sklearn import metrics\n",
    "from sklearn.model_selection import train_test_split\n",
    "from tune_sklearn import TuneSearchCV\n",
    "from xgboost import XGBRegressor\n",
    "import pandas as pd"
   ]
  },
  {
   "cell_type": "code",
   "execution_count": 3,
   "metadata": {},
   "outputs": [],
   "source": [
    "%load_ext memory_profiler"
   ]
  },
  {
   "cell_type": "code",
   "execution_count": 44,
   "metadata": {},
   "outputs": [
    {
     "name": "stdout",
     "output_type": "stream",
     "text": [
      "\u001b[37mLocal node IP\u001b[39m: \u001b[1m10.6.54.24\u001b[22m\n",
      "2021-01-20 15:03:20,238\tINFO services.py:1092 -- View the Ray dashboard at \u001b[1m\u001b[32mhttp://localhost:8265\u001b[39m\u001b[22m\n",
      "\n",
      "\u001b[32m--------------------\u001b[39m\n",
      "\u001b[32mRay runtime started.\u001b[39m\n",
      "\u001b[32m--------------------\u001b[39m\n",
      "\n",
      "\u001b[36mNext steps\u001b[39m\n",
      "  To connect to this Ray runtime from another node, run\n",
      "  \u001b[1m  ray start --address='10.6.54.24:6379' --redis-password='5241590000000000'\u001b[22m\n",
      "  \n",
      "  Alternatively, use the following Python code:\n",
      "    \u001b[31mimport\u001b[39m\u001b[26m ray\n",
      "    ray\u001b[31m.\u001b[39m\u001b[26minit(address\u001b[31m=\u001b[39m\u001b[26m\u001b[33m'auto'\u001b[39m\u001b[26m, _redis_password\u001b[31m=\u001b[39m\u001b[26m\u001b[33m'5241590000000000'\u001b[39m\u001b[26m)\n",
      "  \n",
      "  \u001b[4mIf connection fails, check your firewall settings and network configuration.\u001b[24m\n",
      "  \n",
      "  To terminate the Ray runtime, run\n",
      "  \u001b[1m  ray stop\u001b[22m\n",
      "\u001b[0m"
     ]
    }
   ],
   "source": [
    "!~/.local/bin/ray start --head --port=6379 --num-cpus=40"
   ]
  },
  {
   "cell_type": "code",
   "execution_count": 7,
   "metadata": {},
   "outputs": [
    {
     "name": "stdout",
     "output_type": "stream",
     "text": [
      "ray, version 1.0.1.post1\n",
      "\u001b[0m"
     ]
    }
   ],
   "source": [
    "# !~/.local/bin/ray --version"
   ]
  },
  {
   "cell_type": "code",
   "execution_count": 6,
   "metadata": {},
   "outputs": [
    {
     "data": {
      "text/plain": [
       "'1.0.1.post1'"
      ]
     },
     "execution_count": 6,
     "metadata": {},
     "output_type": "execute_result"
    }
   ],
   "source": [
    "# ray.__version__"
   ]
  },
  {
   "cell_type": "code",
   "execution_count": 43,
   "metadata": {},
   "outputs": [
    {
     "name": "stdout",
     "output_type": "stream",
     "text": [
      "Did not find any active Ray processes.\n",
      "\u001b[0m"
     ]
    }
   ],
   "source": [
    "!~/.local/bin/ray stop"
   ]
  },
  {
   "cell_type": "code",
   "execution_count": 47,
   "metadata": {},
   "outputs": [
    {
     "name": "stderr",
     "output_type": "stream",
     "text": [
      "2021-01-20 15:03:29,523\tINFO worker.py:651 -- Connecting to existing Ray cluster at address: 10.6.54.24:6379\n"
     ]
    },
    {
     "data": {
      "text/plain": [
       "{'node_ip_address': '10.6.54.24',\n",
       " 'raylet_ip_address': '10.6.54.24',\n",
       " 'redis_address': '10.6.54.24:6379',\n",
       " 'object_store_address': '/tmp/ray/session_2021-01-20_15-03-19_741961_43497/sockets/plasma_store',\n",
       " 'raylet_socket_name': '/tmp/ray/session_2021-01-20_15-03-19_741961_43497/sockets/raylet',\n",
       " 'webui_url': 'localhost:8265',\n",
       " 'session_dir': '/tmp/ray/session_2021-01-20_15-03-19_741961_43497',\n",
       " 'metrics_export_port': 63888,\n",
       " 'node_id': 'd3b7c44a1054120eddd1d4322b200836fa7fefc7'}"
      ]
     },
     "execution_count": 47,
     "metadata": {},
     "output_type": "execute_result"
    }
   ],
   "source": [
    "ray.init(address='auto', _redis_password='5241590000000000')"
   ]
  },
  {
   "cell_type": "code",
   "execution_count": 46,
   "metadata": {},
   "outputs": [],
   "source": [
    "ray.shutdown()"
   ]
  },
  {
   "cell_type": "code",
   "execution_count": 48,
   "metadata": {},
   "outputs": [],
   "source": [
    "# read the csv file created\n",
    "input_dataset = Path(\"../data/quantile_df.csv\")\n",
    "df = pd.read_csv(input_dataset)\n",
    "df = df.drop([\"x\",\"y\"],axis=1)\n",
    "\n",
    "\n",
    "y = df['target'] \n",
    "X = df.drop(\"target\",axis=1)\n",
    "\n",
    "# X, y = train[:, 1:], train[:, :1]\n",
    "# y = y.ravel()\n",
    "\n",
    "# Set training and validation sets\n",
    "X_train, X_test, y_train, y_test = train_test_split(X, y, test_size=0.33)"
   ]
  },
  {
   "cell_type": "code",
   "execution_count": null,
   "metadata": {},
   "outputs": [
    {
     "data": {
      "text/html": [
       "== Status ==<br>Memory usage on this node: 18.9/188.6 GiB<br>Using AsyncHyperBand: num_stopped=0\n",
       "Bracket: Iter 1.000: None<br>Resources requested: 38.0/40 CPUs, 0/0 GPUs, 0.0/120.8 GiB heap, 0.0/38.48 GiB objects<br>Result logdir: /home/547/sg4953/ray_results/_Trainable_2021-01-20_15-05-46<br>Number of trials: 38/200 (38 RUNNING)<br><table>\n",
       "<thead>\n",
       "<tr><th>Trial name         </th><th>status  </th><th>loc  </th><th>eval_metric  </th><th style=\"text-align: right;\">  learning_rate</th><th style=\"text-align: right;\">  max_depth</th><th style=\"text-align: right;\">  n_estimators</th></tr>\n",
       "</thead>\n",
       "<tbody>\n",
       "<tr><td>_Trainable_c602613c</td><td>RUNNING </td><td>     </td><td>logloss      </td><td style=\"text-align: right;\">       6.09683 </td><td style=\"text-align: right;\">         23</td><td style=\"text-align: right;\">            50</td></tr>\n",
       "<tr><td>_Trainable_c6266eba</td><td>RUNNING </td><td>     </td><td>logloss      </td><td style=\"text-align: right;\">       0.508988</td><td style=\"text-align: right;\">         18</td><td style=\"text-align: right;\">            55</td></tr>\n",
       "<tr><td>_Trainable_c649ab00</td><td>RUNNING </td><td>     </td><td>rmse         </td><td style=\"text-align: right;\">       2.01223 </td><td style=\"text-align: right;\">         18</td><td style=\"text-align: right;\">            47</td></tr>\n",
       "<tr><td>_Trainable_c6620e7a</td><td>RUNNING </td><td>     </td><td>rmse         </td><td style=\"text-align: right;\">       9.06254 </td><td style=\"text-align: right;\">          7</td><td style=\"text-align: right;\">            47</td></tr>\n",
       "<tr><td>_Trainable_c6774556</td><td>RUNNING </td><td>     </td><td>logloss      </td><td style=\"text-align: right;\">       9.03975 </td><td style=\"text-align: right;\">         24</td><td style=\"text-align: right;\">            29</td></tr>\n",
       "<tr><td>_Trainable_c6869dee</td><td>RUNNING </td><td>     </td><td>logloss      </td><td style=\"text-align: right;\">       4.08791 </td><td style=\"text-align: right;\">         19</td><td style=\"text-align: right;\">            89</td></tr>\n",
       "<tr><td>_Trainable_c69c1598</td><td>RUNNING </td><td>     </td><td>rmse         </td><td style=\"text-align: right;\">       9.30218 </td><td style=\"text-align: right;\">         16</td><td style=\"text-align: right;\">            94</td></tr>\n",
       "<tr><td>_Trainable_c6af3542</td><td>RUNNING </td><td>     </td><td>rmse         </td><td style=\"text-align: right;\">       2.63628 </td><td style=\"text-align: right;\">         12</td><td style=\"text-align: right;\">            55</td></tr>\n",
       "<tr><td>_Trainable_c6c005ca</td><td>RUNNING </td><td>     </td><td>rmse         </td><td style=\"text-align: right;\">       4.50979 </td><td style=\"text-align: right;\">         10</td><td style=\"text-align: right;\">            92</td></tr>\n",
       "<tr><td>_Trainable_c6ce362c</td><td>RUNNING </td><td>     </td><td>rmse         </td><td style=\"text-align: right;\">       7.87707 </td><td style=\"text-align: right;\">         30</td><td style=\"text-align: right;\">            16</td></tr>\n",
       "<tr><td>_Trainable_c6f713ee</td><td>RUNNING </td><td>     </td><td>rmse         </td><td style=\"text-align: right;\">       4.28862 </td><td style=\"text-align: right;\">          7</td><td style=\"text-align: right;\">            96</td></tr>\n",
       "<tr><td>_Trainable_c717722e</td><td>RUNNING </td><td>     </td><td>rmse         </td><td style=\"text-align: right;\">       1.19487 </td><td style=\"text-align: right;\">         30</td><td style=\"text-align: right;\">            33</td></tr>\n",
       "<tr><td>_Trainable_c73a8c32</td><td>RUNNING </td><td>     </td><td>logloss      </td><td style=\"text-align: right;\">       8.8794  </td><td style=\"text-align: right;\">         23</td><td style=\"text-align: right;\">            30</td></tr>\n",
       "<tr><td>_Trainable_c74cc71c</td><td>RUNNING </td><td>     </td><td>rmse         </td><td style=\"text-align: right;\">       0.960785</td><td style=\"text-align: right;\">         10</td><td style=\"text-align: right;\">            60</td></tr>\n",
       "<tr><td>_Trainable_c76bff74</td><td>RUNNING </td><td>     </td><td>rmse         </td><td style=\"text-align: right;\">       2.75967 </td><td style=\"text-align: right;\">         14</td><td style=\"text-align: right;\">            38</td></tr>\n",
       "<tr><td>_Trainable_c77b0992</td><td>RUNNING </td><td>     </td><td>rmse         </td><td style=\"text-align: right;\">       6.25075 </td><td style=\"text-align: right;\">         18</td><td style=\"text-align: right;\">            29</td></tr>\n",
       "<tr><td>_Trainable_c7a4abf8</td><td>RUNNING </td><td>     </td><td>rmse         </td><td style=\"text-align: right;\">       1.44306 </td><td style=\"text-align: right;\">         19</td><td style=\"text-align: right;\">            89</td></tr>\n",
       "<tr><td>_Trainable_c7c4e4d6</td><td>RUNNING </td><td>     </td><td>rmse         </td><td style=\"text-align: right;\">       0.243631</td><td style=\"text-align: right;\">         15</td><td style=\"text-align: right;\">            28</td></tr>\n",
       "<tr><td>_Trainable_c7d13240</td><td>RUNNING </td><td>     </td><td>rmse         </td><td style=\"text-align: right;\">       3.77919 </td><td style=\"text-align: right;\">         12</td><td style=\"text-align: right;\">            27</td></tr>\n",
       "<tr><td>_Trainable_c7ddb272</td><td>RUNNING </td><td>     </td><td>logloss      </td><td style=\"text-align: right;\">       9.14509 </td><td style=\"text-align: right;\">         29</td><td style=\"text-align: right;\">            92</td></tr>\n",
       "</tbody>\n",
       "</table><br>... 18 more trials not shown (18 RUNNING)<br><br>"
      ],
      "text/plain": [
       "<IPython.core.display.HTML object>"
      ]
     },
     "metadata": {},
     "output_type": "display_data"
    },
    {
     "name": "stderr",
     "output_type": "stream",
     "text": [
      "2021-01-20 15:09:44,925\tERROR worker.py:1037 -- Possible unhandled error from worker: \u001b[36mray::_Trainable.train()\u001b[39m (pid=43920, ip=10.6.54.24)\n",
      "  File \"python/ray/_raylet.pyx\", line 482, in ray._raylet.execute_task\n",
      "  File \"python/ray/_raylet.pyx\", line 436, in ray._raylet.execute_task.function_executor\n",
      "  File \"/home/547/sg4953/uncoverml/venv/lib/python3.7/site-packages/ray/tune/trainable.py\", line 336, in train\n",
      "    result = self.step()\n",
      "  File \"/home/547/sg4953/uncoverml/venv/lib/python3.7/site-packages/tune_sklearn/_trainable.py\", line 106, in step\n",
      "    return self._train()\n",
      "  File \"/home/547/sg4953/uncoverml/venv/lib/python3.7/site-packages/tune_sklearn/_trainable.py\", line 205, in _train\n",
      "    for name, score in self.scoring.items()\n",
      "  File \"/home/547/sg4953/uncoverml/venv/lib/python3.7/site-packages/tune_sklearn/_trainable.py\", line 205, in <dictcomp>\n",
      "    for name, score in self.scoring.items()\n",
      "  File \"/home/547/sg4953/uncoverml/venv/lib/python3.7/site-packages/sklearn/metrics/_scorer.py\", line 397, in _passthrough_scorer\n",
      "    return estimator.score(*args, **kwargs)\n",
      "  File \"/home/547/sg4953/uncoverml/venv/lib/python3.7/site-packages/sklearn/base.py\", line 554, in score\n",
      "    return r2_score(y, y_pred, sample_weight=sample_weight)\n",
      "  File \"/home/547/sg4953/uncoverml/venv/lib/python3.7/site-packages/sklearn/utils/validation.py\", line 63, in inner_f\n",
      "    return f(*args, **kwargs)\n",
      "  File \"/home/547/sg4953/uncoverml/venv/lib/python3.7/site-packages/sklearn/metrics/_regression.py\", line 677, in r2_score\n",
      "    y_true, y_pred, multioutput)\n",
      "  File \"/home/547/sg4953/uncoverml/venv/lib/python3.7/site-packages/sklearn/metrics/_regression.py\", line 90, in _check_reg_targets\n",
      "    y_pred = check_array(y_pred, ensure_2d=False, dtype=dtype)\n",
      "  File \"/home/547/sg4953/uncoverml/venv/lib/python3.7/site-packages/sklearn/utils/validation.py\", line 63, in inner_f\n",
      "    return f(*args, **kwargs)\n",
      "  File \"/home/547/sg4953/uncoverml/venv/lib/python3.7/site-packages/sklearn/utils/validation.py\", line 664, in check_array\n",
      "    allow_nan=force_all_finite == 'allow-nan')\n",
      "  File \"/home/547/sg4953/uncoverml/venv/lib/python3.7/site-packages/sklearn/utils/validation.py\", line 106, in _assert_all_finite\n",
      "    msg_dtype if msg_dtype is not None else X.dtype)\n",
      "ValueError: Input contains NaN, infinity or a value too large for dtype('float32').\n",
      "2021-01-20 15:15:15,016\tERROR worker.py:1037 -- Possible unhandled error from worker: \u001b[36mray::_Trainable.train()\u001b[39m (pid=43689, ip=10.6.54.24)\n",
      "  File \"python/ray/_raylet.pyx\", line 482, in ray._raylet.execute_task\n",
      "  File \"python/ray/_raylet.pyx\", line 436, in ray._raylet.execute_task.function_executor\n",
      "  File \"/home/547/sg4953/uncoverml/venv/lib/python3.7/site-packages/ray/tune/trainable.py\", line 336, in train\n",
      "    result = self.step()\n",
      "  File \"/home/547/sg4953/uncoverml/venv/lib/python3.7/site-packages/tune_sklearn/_trainable.py\", line 106, in step\n",
      "    return self._train()\n",
      "  File \"/home/547/sg4953/uncoverml/venv/lib/python3.7/site-packages/tune_sklearn/_trainable.py\", line 205, in _train\n",
      "    for name, score in self.scoring.items()\n",
      "  File \"/home/547/sg4953/uncoverml/venv/lib/python3.7/site-packages/tune_sklearn/_trainable.py\", line 205, in <dictcomp>\n",
      "    for name, score in self.scoring.items()\n",
      "  File \"/home/547/sg4953/uncoverml/venv/lib/python3.7/site-packages/sklearn/metrics/_scorer.py\", line 397, in _passthrough_scorer\n",
      "    return estimator.score(*args, **kwargs)\n",
      "  File \"/home/547/sg4953/uncoverml/venv/lib/python3.7/site-packages/sklearn/base.py\", line 554, in score\n",
      "    return r2_score(y, y_pred, sample_weight=sample_weight)\n",
      "  File \"/home/547/sg4953/uncoverml/venv/lib/python3.7/site-packages/sklearn/utils/validation.py\", line 63, in inner_f\n",
      "    return f(*args, **kwargs)\n",
      "  File \"/home/547/sg4953/uncoverml/venv/lib/python3.7/site-packages/sklearn/metrics/_regression.py\", line 677, in r2_score\n",
      "    y_true, y_pred, multioutput)\n",
      "  File \"/home/547/sg4953/uncoverml/venv/lib/python3.7/site-packages/sklearn/metrics/_regression.py\", line 90, in _check_reg_targets\n",
      "    y_pred = check_array(y_pred, ensure_2d=False, dtype=dtype)\n",
      "  File \"/home/547/sg4953/uncoverml/venv/lib/python3.7/site-packages/sklearn/utils/validation.py\", line 63, in inner_f\n",
      "    return f(*args, **kwargs)\n",
      "  File \"/home/547/sg4953/uncoverml/venv/lib/python3.7/site-packages/sklearn/utils/validation.py\", line 664, in check_array\n",
      "    allow_nan=force_all_finite == 'allow-nan')\n",
      "  File \"/home/547/sg4953/uncoverml/venv/lib/python3.7/site-packages/sklearn/utils/validation.py\", line 106, in _assert_all_finite\n",
      "    msg_dtype if msg_dtype is not None else X.dtype)\n",
      "ValueError: Input contains NaN, infinity or a value too large for dtype('float32').\n",
      "2021-01-20 15:15:35,105\tERROR worker.py:1037 -- Possible unhandled error from worker: \u001b[36mray::_Trainable.train()\u001b[39m (pid=43794, ip=10.6.54.24)\n",
      "  File \"python/ray/_raylet.pyx\", line 482, in ray._raylet.execute_task\n",
      "  File \"python/ray/_raylet.pyx\", line 436, in ray._raylet.execute_task.function_executor\n",
      "  File \"/home/547/sg4953/uncoverml/venv/lib/python3.7/site-packages/ray/tune/trainable.py\", line 336, in train\n",
      "    result = self.step()\n",
      "  File \"/home/547/sg4953/uncoverml/venv/lib/python3.7/site-packages/tune_sklearn/_trainable.py\", line 106, in step\n",
      "    return self._train()\n",
      "  File \"/home/547/sg4953/uncoverml/venv/lib/python3.7/site-packages/tune_sklearn/_trainable.py\", line 205, in _train\n",
      "    for name, score in self.scoring.items()\n",
      "  File \"/home/547/sg4953/uncoverml/venv/lib/python3.7/site-packages/tune_sklearn/_trainable.py\", line 205, in <dictcomp>\n",
      "    for name, score in self.scoring.items()\n",
      "  File \"/home/547/sg4953/uncoverml/venv/lib/python3.7/site-packages/sklearn/metrics/_scorer.py\", line 397, in _passthrough_scorer\n",
      "    return estimator.score(*args, **kwargs)\n",
      "  File \"/home/547/sg4953/uncoverml/venv/lib/python3.7/site-packages/sklearn/base.py\", line 554, in score\n",
      "    return r2_score(y, y_pred, sample_weight=sample_weight)\n",
      "  File \"/home/547/sg4953/uncoverml/venv/lib/python3.7/site-packages/sklearn/utils/validation.py\", line 63, in inner_f\n",
      "    return f(*args, **kwargs)\n",
      "  File \"/home/547/sg4953/uncoverml/venv/lib/python3.7/site-packages/sklearn/metrics/_regression.py\", line 677, in r2_score\n",
      "    y_true, y_pred, multioutput)\n",
      "  File \"/home/547/sg4953/uncoverml/venv/lib/python3.7/site-packages/sklearn/metrics/_regression.py\", line 90, in _check_reg_targets\n",
      "    y_pred = check_array(y_pred, ensure_2d=False, dtype=dtype)\n",
      "  File \"/home/547/sg4953/uncoverml/venv/lib/python3.7/site-packages/sklearn/utils/validation.py\", line 63, in inner_f\n",
      "    return f(*args, **kwargs)\n",
      "  File \"/home/547/sg4953/uncoverml/venv/lib/python3.7/site-packages/sklearn/utils/validation.py\", line 664, in check_array\n",
      "    allow_nan=force_all_finite == 'allow-nan')\n",
      "  File \"/home/547/sg4953/uncoverml/venv/lib/python3.7/site-packages/sklearn/utils/validation.py\", line 106, in _assert_all_finite\n",
      "    msg_dtype if msg_dtype is not None else X.dtype)\n",
      "ValueError: Input contains NaN, infinity or a value too large for dtype('float32').\n",
      "2021-01-20 15:17:26,757\tERROR worker.py:1037 -- Possible unhandled error from worker: \u001b[36mray::_Trainable.train()\u001b[39m (pid=43991, ip=10.6.54.24)\n",
      "  File \"python/ray/_raylet.pyx\", line 482, in ray._raylet.execute_task\n",
      "  File \"python/ray/_raylet.pyx\", line 436, in ray._raylet.execute_task.function_executor\n",
      "  File \"/home/547/sg4953/uncoverml/venv/lib/python3.7/site-packages/ray/tune/trainable.py\", line 336, in train\n",
      "    result = self.step()\n",
      "  File \"/home/547/sg4953/uncoverml/venv/lib/python3.7/site-packages/tune_sklearn/_trainable.py\", line 106, in step\n",
      "    return self._train()\n",
      "  File \"/home/547/sg4953/uncoverml/venv/lib/python3.7/site-packages/tune_sklearn/_trainable.py\", line 205, in _train\n",
      "    for name, score in self.scoring.items()\n",
      "  File \"/home/547/sg4953/uncoverml/venv/lib/python3.7/site-packages/tune_sklearn/_trainable.py\", line 205, in <dictcomp>\n",
      "    for name, score in self.scoring.items()\n",
      "  File \"/home/547/sg4953/uncoverml/venv/lib/python3.7/site-packages/sklearn/metrics/_scorer.py\", line 397, in _passthrough_scorer\n",
      "    return estimator.score(*args, **kwargs)\n",
      "  File \"/home/547/sg4953/uncoverml/venv/lib/python3.7/site-packages/sklearn/base.py\", line 554, in score\n",
      "    return r2_score(y, y_pred, sample_weight=sample_weight)\n",
      "  File \"/home/547/sg4953/uncoverml/venv/lib/python3.7/site-packages/sklearn/utils/validation.py\", line 63, in inner_f\n",
      "    return f(*args, **kwargs)\n",
      "  File \"/home/547/sg4953/uncoverml/venv/lib/python3.7/site-packages/sklearn/metrics/_regression.py\", line 677, in r2_score\n",
      "    y_true, y_pred, multioutput)\n",
      "  File \"/home/547/sg4953/uncoverml/venv/lib/python3.7/site-packages/sklearn/metrics/_regression.py\", line 90, in _check_reg_targets\n",
      "    y_pred = check_array(y_pred, ensure_2d=False, dtype=dtype)\n",
      "  File \"/home/547/sg4953/uncoverml/venv/lib/python3.7/site-packages/sklearn/utils/validation.py\", line 63, in inner_f\n",
      "    return f(*args, **kwargs)\n",
      "  File \"/home/547/sg4953/uncoverml/venv/lib/python3.7/site-packages/sklearn/utils/validation.py\", line 664, in check_array\n",
      "    allow_nan=force_all_finite == 'allow-nan')\n",
      "  File \"/home/547/sg4953/uncoverml/venv/lib/python3.7/site-packages/sklearn/utils/validation.py\", line 106, in _assert_all_finite\n",
      "    msg_dtype if msg_dtype is not None else X.dtype)\n",
      "ValueError: Input contains NaN, infinity or a value too large for dtype('float32').\n",
      "2021-01-20 15:51:00,029\tERROR worker.py:1037 -- Possible unhandled error from worker: \u001b[36mray::_Trainable.train()\u001b[39m (pid=43717, ip=10.6.54.24)\n",
      "  File \"python/ray/_raylet.pyx\", line 482, in ray._raylet.execute_task\n",
      "  File \"python/ray/_raylet.pyx\", line 436, in ray._raylet.execute_task.function_executor\n",
      "  File \"/home/547/sg4953/uncoverml/venv/lib/python3.7/site-packages/ray/tune/trainable.py\", line 336, in train\n",
      "    result = self.step()\n",
      "  File \"/home/547/sg4953/uncoverml/venv/lib/python3.7/site-packages/tune_sklearn/_trainable.py\", line 106, in step\n",
      "    return self._train()\n",
      "  File \"/home/547/sg4953/uncoverml/venv/lib/python3.7/site-packages/tune_sklearn/_trainable.py\", line 205, in _train\n",
      "    for name, score in self.scoring.items()\n",
      "  File \"/home/547/sg4953/uncoverml/venv/lib/python3.7/site-packages/tune_sklearn/_trainable.py\", line 205, in <dictcomp>\n",
      "    for name, score in self.scoring.items()\n",
      "  File \"/home/547/sg4953/uncoverml/venv/lib/python3.7/site-packages/sklearn/metrics/_scorer.py\", line 397, in _passthrough_scorer\n",
      "    return estimator.score(*args, **kwargs)\n",
      "  File \"/home/547/sg4953/uncoverml/venv/lib/python3.7/site-packages/sklearn/base.py\", line 554, in score\n",
      "    return r2_score(y, y_pred, sample_weight=sample_weight)\n",
      "  File \"/home/547/sg4953/uncoverml/venv/lib/python3.7/site-packages/sklearn/utils/validation.py\", line 63, in inner_f\n",
      "    return f(*args, **kwargs)\n",
      "  File \"/home/547/sg4953/uncoverml/venv/lib/python3.7/site-packages/sklearn/metrics/_regression.py\", line 677, in r2_score\n",
      "    y_true, y_pred, multioutput)\n",
      "  File \"/home/547/sg4953/uncoverml/venv/lib/python3.7/site-packages/sklearn/metrics/_regression.py\", line 90, in _check_reg_targets\n",
      "    y_pred = check_array(y_pred, ensure_2d=False, dtype=dtype)\n",
      "  File \"/home/547/sg4953/uncoverml/venv/lib/python3.7/site-packages/sklearn/utils/validation.py\", line 63, in inner_f\n",
      "    return f(*args, **kwargs)\n",
      "  File \"/home/547/sg4953/uncoverml/venv/lib/python3.7/site-packages/sklearn/utils/validation.py\", line 664, in check_array\n",
      "    allow_nan=force_all_finite == 'allow-nan')\n",
      "  File \"/home/547/sg4953/uncoverml/venv/lib/python3.7/site-packages/sklearn/utils/validation.py\", line 106, in _assert_all_finite\n",
      "    msg_dtype if msg_dtype is not None else X.dtype)\n",
      "ValueError: Input contains NaN, infinity or a value too large for dtype('float32').\n"
     ]
    }
   ],
   "source": [
    "# XGBoost\n",
    "parameters = {\n",
    "    \"eval_metric\": ['logloss', \"rmse\"],\n",
    "    \"n_estimators\": [10,100],\n",
    "    \"max_depth\": [5, 30],\n",
    "    \"learning_rate\": [0.1, 10]\n",
    "}\n",
    "\n",
    "xgb_tune_search = TuneSearchCV(\n",
    "    XGBRegressor(objective='reg:squarederror', colsample_bytree=0.3, alpha=10),\n",
    "    parameters,\n",
    "\n",
    "    search_optimization=\"bayesian\",\n",
    "#     max_iters=10,\n",
    "    n_jobs=40,\n",
    "    n_trials=200,\n",
    "    early_stopping=True,\n",
    "\n",
    "    verbose=1,\n",
    "    return_train_score=True,\n",
    "    loggers=[\"csv\"],\n",
    "\n",
    ")\n",
    "\n",
    "start = time.time()\n",
    "xgb_tune_search.fit(X_train, y_train)\n",
    "end = time.time()\n",
    "print(\"Tune Fit Time:\", end - start)\n",
    "y_pred = xgb_tune_search.predict(X_test)\n"
   ]
  },
  {
   "cell_type": "code",
   "execution_count": null,
   "metadata": {},
   "outputs": [],
   "source": [
    "xgb_tune_search.best_estimator_"
   ]
  },
  {
   "cell_type": "code",
   "execution_count": null,
   "metadata": {},
   "outputs": [],
   "source": [
    "#save results\n",
    "import pickle\n",
    "\n",
    "fileObj = open('best_estimator_.pkl', 'wb')\n",
    "pickle.dump(xgb_tune_search.best_estimator_,fileObj)\n",
    "fileObj.close()"
   ]
  },
  {
   "cell_type": "code",
   "execution_count": null,
   "metadata": {},
   "outputs": [],
   "source": [
    "#save results\n",
    "import pickle\n",
    "\n",
    "fileObj = open('xgb_tune_search.pkl', 'wb')\n",
    "pickle.dump(xgb_tune_search,fileObj)\n",
    "fileObj.close()"
   ]
  },
  {
   "cell_type": "code",
   "execution_count": null,
   "metadata": {},
   "outputs": [],
   "source": [
    "def regression_results(y_true, y_pred):\n",
    "\n",
    "    # Regression metrics\n",
    "    explained_variance = metrics.explained_variance_score(y_true, y_pred)\n",
    "    mean_absolute_error = metrics.mean_absolute_error(y_true, y_pred)\n",
    "    mse = metrics.mean_squared_error(y_true, y_pred)\n",
    "    metrics.median_absolute_error(y_true, y_pred)\n",
    "    r2 = metrics.r2_score(y_true, y_pred)\n",
    "\n",
    "    return {'r2': round(r2, 4), 'MAE': round(mean_absolute_error, 4), 'MSE': round(mse, 4), 'RMSE': round(np.sqrt(mse), 4), \"explained_variance\": round(explained_variance, 4)}"
   ]
  },
  {
   "cell_type": "code",
   "execution_count": null,
   "metadata": {},
   "outputs": [],
   "source": [
    "regression_results(y_test, y_pred)"
   ]
  },
  {
   "cell_type": "markdown",
   "metadata": {},
   "source": [
    "## Bayesian Hyperparameter Optimization and XGBoost"
   ]
  },
  {
   "cell_type": "code",
   "execution_count": 22,
   "metadata": {},
   "outputs": [
    {
     "name": "stdout",
     "output_type": "stream",
     "text": [
      "ERROR! Session/line number was not unique in database. History logging moved to new session 187\n"
     ]
    }
   ],
   "source": [
    "\n",
    "\n",
    "###############################################\n",
    "# Import Machine Learning Assets\n",
    "###############################################\n",
    "from bayes_opt import BayesianOptimization\n",
    "from xgboost import XGBRegressor\n",
    "from sklearn.model_selection import StratifiedKFold, KFold\n",
    "from sklearn.preprocessing import LabelEncoder\n",
    "from sklearn import metrics\n",
    "\n",
    "###############################################\n",
    "# Import Miscellaneous Assets\n",
    "###############################################\n",
    "import numpy as np\n",
    "import pandas as pd\n",
    "import warnings\n",
    "from datetime import datetime\n",
    "from functools import partial\n",
    "from pprint import pprint as pp\n",
    "from tqdm import tqdm, tqdm_notebook\n",
    "\n",
    "pd.set_option('display.expand_frame_repr', False)\n",
    "\n",
    "###############################################\n",
    "# Declare Global Variables\n",
    "###############################################\n",
    "CROSS_VALIDATION_PARAMS = dict(n_splits=5, shuffle=True, random_state=32)\n",
    "XGBOOST_REGRESSOR_PARAMS = dict(\n",
    "    learning_rate=0.2, n_estimators=200, subsample=0.8, colsample_bytree=0.8, \n",
    "    max_depth=10, n_jobs=-1\n",
    ")\n",
    "\n",
    "BAYESIAN_OPTIMIZATION_MAXIMIZE_PARAMS = dict(\n",
    "    init_points=1,  # init_points=20,\n",
    "    n_iter=2,  # n_iter=60,\n",
    "    acq='poi', xi=0.0\n",
    ")\n",
    "BAYESIAN_OPTIMIZATION_BOUNDARIES = dict(\n",
    "    max_depth=(5, 12.99),\n",
    "    gamma=(0.01, 5),\n",
    "    min_child_weight=(0, 6),\n",
    "    scale_pos_weight=(1.2, 5),\n",
    "    reg_alpha=(4.0, 10.0),\n",
    "    reg_lambda=(1.0, 10.0),\n",
    "    max_delta_step=(0, 5),\n",
    "    subsample=(0.5, 1.0),\n",
    "    colsample_bytree=(0.3, 1.0),\n",
    "    learning_rate=(0.0, 1.0)\n",
    ")\n",
    "BAYESIAN_OPTIMIZATION_INITIAL_SEARCH_POINTS = dict(\n",
    "    max_depth=[5, 10],\n",
    "    gamma=[0.1511, 3.8463],\n",
    "    min_child_weight=[2.4073, 4.9954],\n",
    "    scale_pos_weight=[2.2281, 4.0345],\n",
    "    reg_alpha=[8.0702, 9.0573],\n",
    "    reg_lambda=[2.0126, 3.5934],\n",
    "    max_delta_step=[1, 2],\n",
    "    subsample=[0.8, 0.8234],\n",
    "    colsample_bytree=[0.8, 0.7903],\n",
    "    learning_rate=[0.2, 0.1]\n",
    ")\n",
    "\n",
    "reserve_features = [\n",
    "    'rs1_x', 'rs1_y', 'rs2_x', 'rs2_y', 'rv1_x', 'rv1_y', 'rv2_x', 'rv2_y',\n",
    "    'total_reserve_dt_diff_mean', 'total_reserve_mean', 'total_reserve_sum'\n",
    "]\n",
    "\n",
    "BASE_ESTIMATOR = partial(XGBRegressor)\n",
    "# train_df, test_df = None, None\n",
    "# oof_predictions, test_predictions = None, None\n",
    "# train_input = None\n",
    "# best_round = None\n",
    "# target = None\n",
    "\n"
   ]
  },
  {
   "cell_type": "code",
   "execution_count": 23,
   "metadata": {},
   "outputs": [],
   "source": [
    "# read the csv file created\n",
    "input_dataset = Path(\"../data/quantile_df.csv\")\n",
    "df = pd.read_csv(input_dataset)\n",
    "df = df.drop([\"x\",\"y\"],axis=1)\n",
    "\n",
    "\n",
    "y = df['target'] \n",
    "X = df.drop(\"target\",axis=1)\n",
    "\n",
    "# train_df, test_df = None, NOne\n",
    "# oof_predictions, test_predictions = None, None\n",
    "# train_input = None\n",
    "# best_round = None\n",
    "# target = None\n",
    "\n",
    "# X, y = train[:, 1:], train[:, :1]\n",
    "# y = y.ravel()\n",
    "\n",
    "# Set training and validation sets\n",
    "train_df, test_df, target, test_predictions = train_test_split(X, y, test_size=0.33)"
   ]
  },
  {
   "cell_type": "code",
   "execution_count": 24,
   "metadata": {},
   "outputs": [],
   "source": [
    "\n",
    "\n",
    "def search_node(**kwargs):\n",
    "    # global train_df, test_df, train_input, oof, test_predictions, best_round, target\n",
    "    global train_df, target\n",
    "\n",
    "    ###############################################\n",
    "    # Unify Parameters\n",
    "    ###############################################\n",
    "    received_params = dict(dict(n_estimators=200,), **{_k: _v if _k not in ('max_depth') else int(_v) for _k, _v in kwargs.items()})\n",
    "    current_params = dict(XGBOOST_REGRESSOR_PARAMS, **received_params)\n",
    "\n",
    "    ###############################################\n",
    "    # Initialize Folds and Result Placeholders\n",
    "    ###############################################\n",
    "    folds = KFold(**CROSS_VALIDATION_PARAMS)\n",
    "    evaluation = np.zeros((current_params['n_estimators'], CROSS_VALIDATION_PARAMS['n_splits']))\n",
    "    oof_predictions = np.empty(len(train_df))\n",
    "    np.random.seed(32)\n",
    "\n",
    "    progress_bar = tqdm_notebook(\n",
    "        enumerate(folds.split(target, target)), \n",
    "        total=CROSS_VALIDATION_PARAMS['n_splits'], \n",
    "        leave=False\n",
    "    )\n",
    "    \n",
    "    ###############################################\n",
    "    # Begin Cross-Validation\n",
    "    ###############################################\n",
    "    for fold, (train_index, validation_index) in progress_bar:\n",
    "        train_input, validation_input = train_df.iloc[train_index], train_df.iloc[validation_index]\n",
    "        train_target, validation_target = target.iloc[train_index], target.iloc[validation_index]\n",
    "\n",
    "        ###############################################\n",
    "        # Initialize and Fit Model With Current Parameters\n",
    "        ###############################################\n",
    "        model = BASE_ESTIMATOR(**current_params)\n",
    "        eval_set = [(train_input, train_target), (validation_input, validation_target)]\n",
    "        model.fit(train_input, train_target, eval_set=eval_set, verbose=False)\n",
    "\n",
    "        ###############################################\n",
    "        # Find Best Round for Validation Set\n",
    "        ###############################################\n",
    "        evaluation[:, fold] = model.evals_result_[\"validation_1\"]['rmse']\n",
    "        best_round = np.argsort(evaluation[:, fold])[0]\n",
    "\n",
    "        progress_bar.set_description('Fold #{}:   {:.5f}'.format(\n",
    "            fold, evaluation[:, fold][best_round]\n",
    "        ), refresh=True)\n",
    "\n",
    "    ###############################################\n",
    "    # Compute Mean and Standard Deviation of RMSLE\n",
    "    ###############################################\n",
    "    mean_eval, std_eval = np.mean(evaluation, axis=1), np.std(evaluation, axis=1)\n",
    "    best_round = np.argsort(mean_eval)[0]\n",
    "    search_value = mean_eval[best_round]\n",
    "\n",
    "    ###############################################\n",
    "    # Update Best Score and Return Negative Value\n",
    "    # In order to minimize error, instead of maximizing accuracy\n",
    "    ###############################################\n",
    "    print(' Stopped After {} Epochs... Validation RMSLE: {:.6f} +- {:.6f}'.format(\n",
    "        best_round, search_value, std_eval[best_round]\n",
    "    ))\n",
    "\n",
    "    return -search_value\n",
    "\n"
   ]
  },
  {
   "cell_type": "code",
   "execution_count": 25,
   "metadata": {},
   "outputs": [
    {
     "ename": "AttributeError",
     "evalue": "'BayesianOptimization' object has no attribute 'explore'",
     "output_type": "error",
     "traceback": [
      "\u001b[0;31m---------------------------------------------------------------------------\u001b[0m",
      "\u001b[0;31mAttributeError\u001b[0m                            Traceback (most recent call last)",
      "\u001b[0;32m<ipython-input-25-9be4ba3ffde1>\u001b[0m in \u001b[0;36m<module>\u001b[0;34m\u001b[0m\n\u001b[1;32m      1\u001b[0m \u001b[0mbayes_opt\u001b[0m \u001b[0;34m=\u001b[0m \u001b[0mBayesianOptimization\u001b[0m\u001b[0;34m(\u001b[0m\u001b[0msearch_node\u001b[0m\u001b[0;34m,\u001b[0m \u001b[0mBAYESIAN_OPTIMIZATION_BOUNDARIES\u001b[0m\u001b[0;34m)\u001b[0m\u001b[0;34m\u001b[0m\u001b[0;34m\u001b[0m\u001b[0m\n\u001b[0;32m----> 2\u001b[0;31m \u001b[0mbayes_opt\u001b[0m\u001b[0;34m.\u001b[0m\u001b[0mexplore\u001b[0m\u001b[0;34m(\u001b[0m\u001b[0mBAYESIAN_OPTIMIZATION_INITIAL_SEARCH_POINTS\u001b[0m\u001b[0;34m)\u001b[0m\u001b[0;34m\u001b[0m\u001b[0;34m\u001b[0m\u001b[0m\n\u001b[0m\u001b[1;32m      3\u001b[0m \u001b[0;34m\u001b[0m\u001b[0m\n\u001b[1;32m      4\u001b[0m \u001b[0;32mwith\u001b[0m \u001b[0mwarnings\u001b[0m\u001b[0;34m.\u001b[0m\u001b[0mcatch_warnings\u001b[0m\u001b[0;34m(\u001b[0m\u001b[0;34m)\u001b[0m\u001b[0;34m:\u001b[0m\u001b[0;34m\u001b[0m\u001b[0;34m\u001b[0m\u001b[0m\n\u001b[1;32m      5\u001b[0m     \u001b[0mwarnings\u001b[0m\u001b[0;34m.\u001b[0m\u001b[0mfilterwarnings\u001b[0m\u001b[0;34m(\u001b[0m\u001b[0;34m'ignore'\u001b[0m\u001b[0;34m)\u001b[0m\u001b[0;34m\u001b[0m\u001b[0;34m\u001b[0m\u001b[0m\n",
      "\u001b[0;31mAttributeError\u001b[0m: 'BayesianOptimization' object has no attribute 'explore'"
     ]
    }
   ],
   "source": [
    "bayes_opt = BayesianOptimization(search_node, BAYESIAN_OPTIMIZATION_BOUNDARIES)\n",
    "bayes_opt.explore(BAYESIAN_OPTIMIZATION_INITIAL_SEARCH_POINTS)\n",
    "\n",
    "with warnings.catch_warnings():\n",
    "    warnings.filterwarnings('ignore')\n",
    "    bayes_opt.maximize(**BAYESIAN_OPTIMIZATION_MAXIMIZE_PARAMS)"
   ]
  },
  {
   "cell_type": "code",
   "execution_count": 1,
   "metadata": {},
   "outputs": [],
   "source": [
    "from sklearn.model_selection import cross_val_score\n",
    "import numpy as np\n",
    "\n",
    "input_dataset = Path(\"../data/quantile_df.csv\")\n",
    "df = pd.read_csv(input_dataset)\n",
    "df = df.drop([\"x\",\"y\"],axis=1)\n",
    "df = df.replace([np.inf, -np.inf], np.nan)\n",
    "df = df.fillna(df.mean())\n",
    "\n",
    "y = df['target'] \n",
    "X = df.drop(\"target\",axis=1)\n",
    "\n",
    "def get_estimator_score(learning_rate):    \n",
    "    estimator = XGBRegressor(objective='reg:squarederror', learning_rate=learning_rate)\n",
    "    scores = cross_val_score(estimator, X, y, scoring='r2', cv=3)\n",
    "    return scores.mean()\n",
    "\n",
    "optimizer = BayesianOptimization(\n",
    "    f=get_estimator_score,\n",
    "    pbounds={\"learning_rate\": (0.1, 10)},\n",
    "    random_state=1,\n",
    ")\n",
    "optimizer.maximize(\n",
    "    init_points=2,\n",
    "    n_iter=10\n",
    ")\n",
    "print(\"Final result:\", optimizer.max)"
   ]
  },
  {
   "cell_type": "markdown",
   "metadata": {},
   "source": [
    "## Attempt 2"
   ]
  },
  {
   "cell_type": "code",
   "execution_count": 74,
   "metadata": {},
   "outputs": [],
   "source": [
    "import numpy as np\n",
    "from xgboost import XGBRegressor\n",
    "from bayes_opt import BayesianOptimization\n",
    "from sklearn.model_selection import cross_val_score\n",
    "from sklearn.metrics import r2_score\n",
    "from pathlib import Path\n",
    "import pandas as pd\n",
    "import numpy as np\n",
    "np.seterr(divide='ignore', invalid='ignore')\n",
    "\n",
    "pbounds = {\n",
    "    'learning_rate': (1, 10.0),\n",
    "    'n_estimators': (20, 200),\n",
    "    'max_depth': (5,30),\n",
    "    'gamma': (0, 5),\n",
    "    'subsample': (0.5,0.9),\n",
    "    \"colsample_bytree\": (0.1,1.0)\n",
    "}\n",
    "\n",
    "# scores = cross_val_score(XGBRegressor(objective='reg:squarederror',tree_method='gpu_hist', gpu_id=0, n_jobs=-1), X.drop(features_to_drop,axis=1), y, scoring='r2', n_jobs=-1)\n",
    "def xgboost_hyper_param(learning_rate, n_estimators, max_depth,  gamma, subsample, colsample_bytree):\n",
    "    max_depth = int(max_depth)\n",
    "    \n",
    "    n_estimators = int(n_estimators)\n",
    "    \n",
    "    model = XGBRegressor(objective='reg:squarederror',tree_method='gpu_hist', gpu_id=1, n_jobs=-1, min_child_weight=1, scale_pos_weight=1, max_depth=max_depth, learning_rate=learning_rate, n_estimators=n_estimators, gamma=gamma,subsample=subsample, colsample_bytree=colsample_bytree)\n",
    "    \n",
    "    return np.mean(cross_val_score(model, X, y, cv=3,scoring='r2', n_jobs=-1))\n",
    "\n",
    "optimizer = BayesianOptimization(\n",
    "    f=xgboost_hyper_param,\n",
    "    pbounds=pbounds,\n",
    "    random_state=1,\n",
    ")"
   ]
  },
  {
   "cell_type": "code",
   "execution_count": 75,
   "metadata": {},
   "outputs": [
    {
     "name": "stdout",
     "output_type": "stream",
     "text": [
      "input_file:  ../data/quantile_df.csv\n",
      "|   iter    |  target   | colsam... |   gamma   | learni... | max_depth | n_esti... | subsample |\n",
      "-------------------------------------------------------------------------------------------------\n",
      "| \u001b[0m 1       \u001b[0m | \u001b[0m 0.1024  \u001b[0m | \u001b[0m 0.4753  \u001b[0m | \u001b[0m 3.602   \u001b[0m | \u001b[0m 1.001   \u001b[0m | \u001b[0m 12.56   \u001b[0m | \u001b[0m 46.42   \u001b[0m | \u001b[0m 0.5369  \u001b[0m |\n",
      "| \u001b[0m 2       \u001b[0m | \u001b[0m nan     \u001b[0m | \u001b[0m 0.2676  \u001b[0m | \u001b[0m 1.728   \u001b[0m | \u001b[0m 4.571   \u001b[0m | \u001b[0m 18.47   \u001b[0m | \u001b[0m 95.46   \u001b[0m | \u001b[0m 0.7741  \u001b[0m |\n",
      "| \u001b[0m 3       \u001b[0m | \u001b[0m-0.1071  \u001b[0m | \u001b[0m 0.284   \u001b[0m | \u001b[0m 4.391   \u001b[0m | \u001b[0m 1.246   \u001b[0m | \u001b[0m 21.76   \u001b[0m | \u001b[0m 95.11   \u001b[0m | \u001b[0m 0.7235  \u001b[0m |\n",
      "| \u001b[0m 4       \u001b[0m | \u001b[0m nan     \u001b[0m | \u001b[0m 0.2263  \u001b[0m | \u001b[0m 0.9905  \u001b[0m | \u001b[0m 8.207   \u001b[0m | \u001b[0m 29.21   \u001b[0m | \u001b[0m 76.42   \u001b[0m | \u001b[0m 0.7769  \u001b[0m |\n",
      "| \u001b[0m 5       \u001b[0m | \u001b[0m-0.5583  \u001b[0m | \u001b[0m 0.8888  \u001b[0m | \u001b[0m 4.473   \u001b[0m | \u001b[0m 1.765   \u001b[0m | \u001b[0m 5.976   \u001b[0m | \u001b[0m 50.57   \u001b[0m | \u001b[0m 0.8513  \u001b[0m |\n",
      "| \u001b[0m 6       \u001b[0m | \u001b[0m nan     \u001b[0m | \u001b[0m 0.1885  \u001b[0m | \u001b[0m 2.106   \u001b[0m | \u001b[0m 9.621   \u001b[0m | \u001b[0m 18.33   \u001b[0m | \u001b[0m 144.5   \u001b[0m | \u001b[0m 0.6262  \u001b[0m |\n",
      "| \u001b[0m 7       \u001b[0m | \u001b[0m 0.09307 \u001b[0m | \u001b[0m 0.7179  \u001b[0m | \u001b[0m 4.173   \u001b[0m | \u001b[0m 1.165   \u001b[0m | \u001b[0m 23.75   \u001b[0m | \u001b[0m 198.0   \u001b[0m | \u001b[0m 0.7993  \u001b[0m |\n",
      "| \u001b[0m 8       \u001b[0m | \u001b[0m-4.05    \u001b[0m | \u001b[0m 0.3524  \u001b[0m | \u001b[0m 3.946   \u001b[0m | \u001b[0m 1.929   \u001b[0m | \u001b[0m 16.2    \u001b[0m | \u001b[0m 183.5   \u001b[0m | \u001b[0m 0.6174  \u001b[0m |\n",
      "| \u001b[0m 9       \u001b[0m | \u001b[0m-0.07905 \u001b[0m | \u001b[0m 0.359   \u001b[0m | \u001b[0m 0.6501  \u001b[0m | \u001b[0m 1.174   \u001b[0m | \u001b[0m 21.97   \u001b[0m | \u001b[0m 58.09   \u001b[0m | \u001b[0m 0.6062  \u001b[0m |\n",
      "| \u001b[0m 10      \u001b[0m | \u001b[0m nan     \u001b[0m | \u001b[0m 0.5424  \u001b[0m | \u001b[0m 0.2668  \u001b[0m | \u001b[0m 6.167   \u001b[0m | \u001b[0m 8.668   \u001b[0m | \u001b[0m 126.1   \u001b[0m | \u001b[0m 0.7799  \u001b[0m |\n",
      "| \u001b[0m 11      \u001b[0m | \u001b[0m-inf     \u001b[0m | \u001b[0m 0.1921  \u001b[0m | \u001b[0m 2.07    \u001b[0m | \u001b[0m 7.25    \u001b[0m | \u001b[0m 15.35   \u001b[0m | \u001b[0m 28.99   \u001b[0m | \u001b[0m 0.7144  \u001b[0m |\n",
      "| \u001b[0m 12      \u001b[0m | \u001b[0m nan     \u001b[0m | \u001b[0m 0.6974  \u001b[0m | \u001b[0m 2.574   \u001b[0m | \u001b[0m 9.501   \u001b[0m | \u001b[0m 19.66   \u001b[0m | \u001b[0m 182.6   \u001b[0m | \u001b[0m 0.555   \u001b[0m |\n",
      "| \u001b[0m 13      \u001b[0m | \u001b[0m nan     \u001b[0m | \u001b[0m 0.2253  \u001b[0m | \u001b[0m 4.037   \u001b[0m | \u001b[0m 4.579   \u001b[0m | \u001b[0m 9.134   \u001b[0m | \u001b[0m 187.0   \u001b[0m | \u001b[0m 0.6391  \u001b[0m |\n",
      "| \u001b[0m 14      \u001b[0m | \u001b[0m nan     \u001b[0m | \u001b[0m 0.7757  \u001b[0m | \u001b[0m 3.63    \u001b[0m | \u001b[0m 8.95    \u001b[0m | \u001b[0m 20.59   \u001b[0m | \u001b[0m 155.2   \u001b[0m | \u001b[0m 0.6396  \u001b[0m |\n",
      "| \u001b[0m 15      \u001b[0m | \u001b[0m nan     \u001b[0m | \u001b[0m 0.3429  \u001b[0m | \u001b[0m 4.479   \u001b[0m | \u001b[0m 4.853   \u001b[0m | \u001b[0m 29.12   \u001b[0m | \u001b[0m 139.4   \u001b[0m | \u001b[0m 0.7487  \u001b[0m |\n",
      "| \u001b[0m 16      \u001b[0m | \u001b[0m nan     \u001b[0m | \u001b[0m 0.2033  \u001b[0m | \u001b[0m 4.747   \u001b[0m | \u001b[0m 5.049   \u001b[0m | \u001b[0m 19.46   \u001b[0m | \u001b[0m 93.46   \u001b[0m | \u001b[0m 0.5948  \u001b[0m |\n",
      "| \u001b[0m 17      \u001b[0m | \u001b[0m 0.1185  \u001b[0m | \u001b[0m 0.913   \u001b[0m | \u001b[0m 2.868   \u001b[0m | \u001b[0m 1.026   \u001b[0m | \u001b[0m 20.43   \u001b[0m | \u001b[0m 78.8    \u001b[0m | \u001b[0m 0.7108  \u001b[0m |\n",
      "| \u001b[0m 18      \u001b[0m | \u001b[0m-1.774e+3\u001b[0m | \u001b[0m 0.8973  \u001b[0m | \u001b[0m 1.786   \u001b[0m | \u001b[0m 9.177   \u001b[0m | \u001b[0m 20.58   \u001b[0m | \u001b[0m 22.85   \u001b[0m | \u001b[0m 0.8718  \u001b[0m |\n",
      "| \u001b[0m 19      \u001b[0m | \u001b[0m nan     \u001b[0m | \u001b[0m 0.7218  \u001b[0m | \u001b[0m 4.987   \u001b[0m | \u001b[0m 2.551   \u001b[0m | \u001b[0m 8.428   \u001b[0m | \u001b[0m 187.9   \u001b[0m | \u001b[0m 0.7787  \u001b[0m |\n",
      "| \u001b[0m 20      \u001b[0m | \u001b[0m nan     \u001b[0m | \u001b[0m 0.1594  \u001b[0m | \u001b[0m 3.777   \u001b[0m | \u001b[0m 7.785   \u001b[0m | \u001b[0m 28.08   \u001b[0m | \u001b[0m 148.1   \u001b[0m | \u001b[0m 0.5497  \u001b[0m |\n",
      "| \u001b[0m 21      \u001b[0m | \u001b[0m-1.388   \u001b[0m | \u001b[0m 0.1179  \u001b[0m | \u001b[0m 0.1311  \u001b[0m | \u001b[0m 1.255   \u001b[0m | \u001b[0m 11.16   \u001b[0m | \u001b[0m 174.8   \u001b[0m | \u001b[0m 0.7155  \u001b[0m |\n",
      "| \u001b[0m 22      \u001b[0m | \u001b[0m-1.757e+1\u001b[0m | \u001b[0m 0.5975  \u001b[0m | \u001b[0m 4.21    \u001b[0m | \u001b[0m 2.118   \u001b[0m | \u001b[0m 11.98   \u001b[0m | \u001b[0m 125.4   \u001b[0m | \u001b[0m 0.8878  \u001b[0m |\n",
      "| \u001b[0m 23      \u001b[0m | \u001b[0m nan     \u001b[0m | \u001b[0m 0.6049  \u001b[0m | \u001b[0m 0.09324 \u001b[0m | \u001b[0m 8.206   \u001b[0m | \u001b[0m 10.82   \u001b[0m | \u001b[0m 165.3   \u001b[0m | \u001b[0m 0.6551  \u001b[0m |\n",
      "| \u001b[0m 24      \u001b[0m | \u001b[0m-2.55e+38\u001b[0m | \u001b[0m 0.8772  \u001b[0m | \u001b[0m 3.736   \u001b[0m | \u001b[0m 6.006   \u001b[0m | \u001b[0m 8.411   \u001b[0m | \u001b[0m 30.79   \u001b[0m | \u001b[0m 0.5485  \u001b[0m |\n",
      "| \u001b[0m 25      \u001b[0m | \u001b[0m nan     \u001b[0m | \u001b[0m 0.1401  \u001b[0m | \u001b[0m 0.5375  \u001b[0m | \u001b[0m 3.031   \u001b[0m | \u001b[0m 22.82   \u001b[0m | \u001b[0m 120.7   \u001b[0m | \u001b[0m 0.505   \u001b[0m |\n",
      "| \u001b[0m 26      \u001b[0m | \u001b[0m nan     \u001b[0m | \u001b[0m 0.1648  \u001b[0m | \u001b[0m 4.836   \u001b[0m | \u001b[0m 6.113   \u001b[0m | \u001b[0m 10.08   \u001b[0m | \u001b[0m 65.42   \u001b[0m | \u001b[0m 0.7975  \u001b[0m |\n",
      "| \u001b[0m 27      \u001b[0m | \u001b[0m nan     \u001b[0m | \u001b[0m 0.2759  \u001b[0m | \u001b[0m 2.907   \u001b[0m | \u001b[0m 9.73    \u001b[0m | \u001b[0m 26.17   \u001b[0m | \u001b[0m 63.17   \u001b[0m | \u001b[0m 0.6975  \u001b[0m |\n",
      "| \u001b[0m 28      \u001b[0m | \u001b[0m-7.848e+0\u001b[0m | \u001b[0m 0.658   \u001b[0m | \u001b[0m 4.145   \u001b[0m | \u001b[0m 2.411   \u001b[0m | \u001b[0m 5.464   \u001b[0m | \u001b[0m 32.6    \u001b[0m | \u001b[0m 0.6945  \u001b[0m |\n",
      "| \u001b[0m 29      \u001b[0m | \u001b[0m nan     \u001b[0m | \u001b[0m 0.6457  \u001b[0m | \u001b[0m 2.844   \u001b[0m | \u001b[0m 3.856   \u001b[0m | \u001b[0m 29.72   \u001b[0m | \u001b[0m 124.4   \u001b[0m | \u001b[0m 0.6521  \u001b[0m |\n",
      "| \u001b[0m 30      \u001b[0m | \u001b[0m-inf     \u001b[0m | \u001b[0m 0.5959  \u001b[0m | \u001b[0m 3.727   \u001b[0m | \u001b[0m 7.023   \u001b[0m | \u001b[0m 11.62   \u001b[0m | \u001b[0m 31.94   \u001b[0m | \u001b[0m 0.648   \u001b[0m |\n",
      "| \u001b[0m 31      \u001b[0m | \u001b[0m nan     \u001b[0m | \u001b[0m 0.6667  \u001b[0m | \u001b[0m 1.051   \u001b[0m | \u001b[0m 7.775   \u001b[0m | \u001b[0m 6.663   \u001b[0m | \u001b[0m 66.86   \u001b[0m | \u001b[0m 0.8219  \u001b[0m |\n",
      "| \u001b[0m 32      \u001b[0m | \u001b[0m nan     \u001b[0m | \u001b[0m 0.2741  \u001b[0m | \u001b[0m 3.197   \u001b[0m | \u001b[0m 5.722   \u001b[0m | \u001b[0m 28.12   \u001b[0m | \u001b[0m 67.39   \u001b[0m | \u001b[0m 0.5264  \u001b[0m |\n",
      "| \u001b[0m 33      \u001b[0m | \u001b[0m nan     \u001b[0m | \u001b[0m 0.7616  \u001b[0m | \u001b[0m 3.861   \u001b[0m | \u001b[0m 9.17    \u001b[0m | \u001b[0m 28.3    \u001b[0m | \u001b[0m 22.51   \u001b[0m | \u001b[0m 0.5937  \u001b[0m |\n",
      "| \u001b[0m 34      \u001b[0m | \u001b[0m nan     \u001b[0m | \u001b[0m 0.6551  \u001b[0m | \u001b[0m 4.745   \u001b[0m | \u001b[0m 9.552   \u001b[0m | \u001b[0m 18.92   \u001b[0m | \u001b[0m 184.8   \u001b[0m | \u001b[0m 0.7566  \u001b[0m |\n",
      "| \u001b[0m 35      \u001b[0m | \u001b[0m nan     \u001b[0m | \u001b[0m 0.451   \u001b[0m | \u001b[0m 2.43    \u001b[0m | \u001b[0m 6.439   \u001b[0m | \u001b[0m 18.74   \u001b[0m | \u001b[0m 186.7   \u001b[0m | \u001b[0m 0.8675  \u001b[0m |\n",
      "| \u001b[0m 36      \u001b[0m | \u001b[0m-1.209e+1\u001b[0m | \u001b[0m 0.4554  \u001b[0m | \u001b[0m 4.816   \u001b[0m | \u001b[0m 2.566   \u001b[0m | \u001b[0m 8.158   \u001b[0m | \u001b[0m 44.31   \u001b[0m | \u001b[0m 0.7023  \u001b[0m |\n",
      "| \u001b[0m 37      \u001b[0m | \u001b[0m nan     \u001b[0m | \u001b[0m 0.1194  \u001b[0m | \u001b[0m 4.74    \u001b[0m | \u001b[0m 8.444   \u001b[0m | \u001b[0m 5.375   \u001b[0m | \u001b[0m 51.72   \u001b[0m | \u001b[0m 0.6328  \u001b[0m |\n",
      "| \u001b[0m 38      \u001b[0m | \u001b[0m nan     \u001b[0m | \u001b[0m 0.2179  \u001b[0m | \u001b[0m 4.047   \u001b[0m | \u001b[0m 4.103   \u001b[0m | \u001b[0m 28.5    \u001b[0m | \u001b[0m 124.8   \u001b[0m | \u001b[0m 0.8515  \u001b[0m |\n",
      "| \u001b[0m 39      \u001b[0m | \u001b[0m nan     \u001b[0m | \u001b[0m 0.8603  \u001b[0m | \u001b[0m 4.527   \u001b[0m | \u001b[0m 5.139   \u001b[0m | \u001b[0m 18.66   \u001b[0m | \u001b[0m 163.7   \u001b[0m | \u001b[0m 0.6143  \u001b[0m |\n",
      "| \u001b[0m 40      \u001b[0m | \u001b[0m-0.01855 \u001b[0m | \u001b[0m 0.5412  \u001b[0m | \u001b[0m 2.996   \u001b[0m | \u001b[0m 1.14    \u001b[0m | \u001b[0m 19.84   \u001b[0m | \u001b[0m 98.06   \u001b[0m | \u001b[0m 0.8229  \u001b[0m |\n",
      "| \u001b[0m 41      \u001b[0m | \u001b[0m nan     \u001b[0m | \u001b[0m 0.3837  \u001b[0m | \u001b[0m 4.464   \u001b[0m | \u001b[0m 6.201   \u001b[0m | \u001b[0m 9.6     \u001b[0m | \u001b[0m 161.8   \u001b[0m | \u001b[0m 0.7448  \u001b[0m |\n",
      "| \u001b[0m 42      \u001b[0m | \u001b[0m nan     \u001b[0m | \u001b[0m 0.1485  \u001b[0m | \u001b[0m 2.101   \u001b[0m | \u001b[0m 7.112   \u001b[0m | \u001b[0m 27.97   \u001b[0m | \u001b[0m 20.07   \u001b[0m | \u001b[0m 0.8907  \u001b[0m |\n",
      "| \u001b[0m 43      \u001b[0m | \u001b[0m nan     \u001b[0m | \u001b[0m 0.4389  \u001b[0m | \u001b[0m 4.869   \u001b[0m | \u001b[0m 6.442   \u001b[0m | \u001b[0m 25.72   \u001b[0m | \u001b[0m 123.4   \u001b[0m | \u001b[0m 0.7512  \u001b[0m |\n",
      "| \u001b[0m 44      \u001b[0m | \u001b[0m nan     \u001b[0m | \u001b[0m 0.357   \u001b[0m | \u001b[0m 2.934   \u001b[0m | \u001b[0m 7.75    \u001b[0m | \u001b[0m 26.46   \u001b[0m | \u001b[0m 155.9   \u001b[0m | \u001b[0m 0.7792  \u001b[0m |\n"
     ]
    },
    {
     "name": "stderr",
     "output_type": "stream",
     "text": [
      "/home/dev/Desktop/Work/uncoverml/venv/lib/python3.8/site-packages/joblib/externals/loky/process_executor.py:688: UserWarning: A worker stopped while some jobs were given to the executor. This can be caused by a too short worker timeout or by a memory leak.\n",
      "  warnings.warn(\n"
     ]
    },
    {
     "name": "stdout",
     "output_type": "stream",
     "text": [
      "| \u001b[0m 45      \u001b[0m | \u001b[0m nan     \u001b[0m | \u001b[0m 0.878   \u001b[0m | \u001b[0m 1.613   \u001b[0m | \u001b[0m 7.037   \u001b[0m | \u001b[0m 16.27   \u001b[0m | \u001b[0m 88.78   \u001b[0m | \u001b[0m 0.6643  \u001b[0m |\n",
      "| \u001b[0m 46      \u001b[0m | \u001b[0m nan     \u001b[0m | \u001b[0m 0.4613  \u001b[0m | \u001b[0m 1.587   \u001b[0m | \u001b[0m 6.597   \u001b[0m | \u001b[0m 15.76   \u001b[0m | \u001b[0m 195.3   \u001b[0m | \u001b[0m 0.7711  \u001b[0m |\n",
      "| \u001b[0m 47      \u001b[0m | \u001b[0m nan     \u001b[0m | \u001b[0m 0.2787  \u001b[0m | \u001b[0m 2.134   \u001b[0m | \u001b[0m 4.09    \u001b[0m | \u001b[0m 24.94   \u001b[0m | \u001b[0m 178.4   \u001b[0m | \u001b[0m 0.8615  \u001b[0m |\n",
      "| \u001b[0m 48      \u001b[0m | \u001b[0m nan     \u001b[0m | \u001b[0m 0.6964  \u001b[0m | \u001b[0m 1.351   \u001b[0m | \u001b[0m 3.271   \u001b[0m | \u001b[0m 26.37   \u001b[0m | \u001b[0m 115.0   \u001b[0m | \u001b[0m 0.8209  \u001b[0m |\n",
      "| \u001b[0m 49      \u001b[0m | \u001b[0m nan     \u001b[0m | \u001b[0m 0.6152  \u001b[0m | \u001b[0m 3.666   \u001b[0m | \u001b[0m 5.671   \u001b[0m | \u001b[0m 24.27   \u001b[0m | \u001b[0m 122.4   \u001b[0m | \u001b[0m 0.6863  \u001b[0m |\n",
      "| \u001b[0m 50      \u001b[0m | \u001b[0m nan     \u001b[0m | \u001b[0m 0.4084  \u001b[0m | \u001b[0m 0.341   \u001b[0m | \u001b[0m 4.401   \u001b[0m | \u001b[0m 6.991   \u001b[0m | \u001b[0m 196.9   \u001b[0m | \u001b[0m 0.5726  \u001b[0m |\n",
      "| \u001b[0m 51      \u001b[0m | \u001b[0m nan     \u001b[0m | \u001b[0m 0.8307  \u001b[0m | \u001b[0m 4.375   \u001b[0m | \u001b[0m 7.196   \u001b[0m | \u001b[0m 19.24   \u001b[0m | \u001b[0m 48.97   \u001b[0m | \u001b[0m 0.6868  \u001b[0m |\n",
      "| \u001b[0m 52      \u001b[0m | \u001b[0m nan     \u001b[0m | \u001b[0m 0.4107  \u001b[0m | \u001b[0m 1.125   \u001b[0m | \u001b[0m 6.333   \u001b[0m | \u001b[0m 12.81   \u001b[0m | \u001b[0m 184.9   \u001b[0m | \u001b[0m 0.8639  \u001b[0m |\n",
      "| \u001b[0m 53      \u001b[0m | \u001b[0m nan     \u001b[0m | \u001b[0m 0.3314  \u001b[0m | \u001b[0m 0.5545  \u001b[0m | \u001b[0m 2.737   \u001b[0m | \u001b[0m 17.49   \u001b[0m | \u001b[0m 151.1   \u001b[0m | \u001b[0m 0.5833  \u001b[0m |\n",
      "| \u001b[0m 54      \u001b[0m | \u001b[0m-inf     \u001b[0m | \u001b[0m 0.3232  \u001b[0m | \u001b[0m 4.258   \u001b[0m | \u001b[0m 4.743   \u001b[0m | \u001b[0m 20.42   \u001b[0m | \u001b[0m 62.06   \u001b[0m | \u001b[0m 0.5408  \u001b[0m |\n",
      "| \u001b[0m 55      \u001b[0m | \u001b[0m-8.941e+2\u001b[0m | \u001b[0m 0.5643  \u001b[0m | \u001b[0m 2.386   \u001b[0m | \u001b[0m 2.374   \u001b[0m | \u001b[0m 20.55   \u001b[0m | \u001b[0m 117.9   \u001b[0m | \u001b[0m 0.7617  \u001b[0m |\n",
      "| \u001b[0m 56      \u001b[0m | \u001b[0m nan     \u001b[0m | \u001b[0m 0.2301  \u001b[0m | \u001b[0m 3.758   \u001b[0m | \u001b[0m 2.998   \u001b[0m | \u001b[0m 17.98   \u001b[0m | \u001b[0m 161.4   \u001b[0m | \u001b[0m 0.5089  \u001b[0m |\n",
      "| \u001b[0m 57      \u001b[0m | \u001b[0m nan     \u001b[0m | \u001b[0m 0.3919  \u001b[0m | \u001b[0m 4.365   \u001b[0m | \u001b[0m 8.602   \u001b[0m | \u001b[0m 18.46   \u001b[0m | \u001b[0m 176.0   \u001b[0m | \u001b[0m 0.8799  \u001b[0m |\n",
      "| \u001b[0m 58      \u001b[0m | \u001b[0m-1.276   \u001b[0m | \u001b[0m 0.8438  \u001b[0m | \u001b[0m 4.271   \u001b[0m | \u001b[0m 1.889   \u001b[0m | \u001b[0m 21.28   \u001b[0m | \u001b[0m 146.6   \u001b[0m | \u001b[0m 0.7441  \u001b[0m |\n",
      "| \u001b[0m 59      \u001b[0m | \u001b[0m nan     \u001b[0m | \u001b[0m 0.8197  \u001b[0m | \u001b[0m 0.1729  \u001b[0m | \u001b[0m 7.932   \u001b[0m | \u001b[0m 23.29   \u001b[0m | \u001b[0m 66.75   \u001b[0m | \u001b[0m 0.6028  \u001b[0m |\n",
      "| \u001b[0m 60      \u001b[0m | \u001b[0m nan     \u001b[0m | \u001b[0m 0.6691  \u001b[0m | \u001b[0m 1.726   \u001b[0m | \u001b[0m 8.169   \u001b[0m | \u001b[0m 16.15   \u001b[0m | \u001b[0m 160.9   \u001b[0m | \u001b[0m 0.8962  \u001b[0m |\n",
      "| \u001b[0m 61      \u001b[0m | \u001b[0m nan     \u001b[0m | \u001b[0m 0.3702  \u001b[0m | \u001b[0m 0.715   \u001b[0m | \u001b[0m 9.112   \u001b[0m | \u001b[0m 18.54   \u001b[0m | \u001b[0m 195.5   \u001b[0m | \u001b[0m 0.7546  \u001b[0m |\n",
      "| \u001b[0m 62      \u001b[0m | \u001b[0m nan     \u001b[0m | \u001b[0m 0.9945  \u001b[0m | \u001b[0m 2.73    \u001b[0m | \u001b[0m 5.738   \u001b[0m | \u001b[0m 8.386   \u001b[0m | \u001b[0m 84.03   \u001b[0m | \u001b[0m 0.5105  \u001b[0m |\n",
      "| \u001b[0m 63      \u001b[0m | \u001b[0m-0.1808  \u001b[0m | \u001b[0m 0.2444  \u001b[0m | \u001b[0m 3.728   \u001b[0m | \u001b[0m 1.274   \u001b[0m | \u001b[0m 14.16   \u001b[0m | \u001b[0m 175.2   \u001b[0m | \u001b[0m 0.7771  \u001b[0m |\n",
      "| \u001b[0m 64      \u001b[0m | \u001b[0m nan     \u001b[0m | \u001b[0m 0.7218  \u001b[0m | \u001b[0m 0.9432  \u001b[0m | \u001b[0m 4.977   \u001b[0m | \u001b[0m 19.54   \u001b[0m | \u001b[0m 198.2   \u001b[0m | \u001b[0m 0.5816  \u001b[0m |\n",
      "| \u001b[0m 65      \u001b[0m | \u001b[0m-inf     \u001b[0m | \u001b[0m 0.323   \u001b[0m | \u001b[0m 1.311   \u001b[0m | \u001b[0m 7.752   \u001b[0m | \u001b[0m 16.42   \u001b[0m | \u001b[0m 30.25   \u001b[0m | \u001b[0m 0.7034  \u001b[0m |\n",
      "| \u001b[0m 66      \u001b[0m | \u001b[0m nan     \u001b[0m | \u001b[0m 0.2908  \u001b[0m | \u001b[0m 3.993   \u001b[0m | \u001b[0m 3.676   \u001b[0m | \u001b[0m 5.69    \u001b[0m | \u001b[0m 126.8   \u001b[0m | \u001b[0m 0.8375  \u001b[0m |\n",
      "| \u001b[0m 67      \u001b[0m | \u001b[0m nan     \u001b[0m | \u001b[0m 0.4429  \u001b[0m | \u001b[0m 3.749   \u001b[0m | \u001b[0m 5.6     \u001b[0m | \u001b[0m 18.52   \u001b[0m | \u001b[0m 192.7   \u001b[0m | \u001b[0m 0.8216  \u001b[0m |\n",
      "| \u001b[0m 68      \u001b[0m | \u001b[0m nan     \u001b[0m | \u001b[0m 0.1291  \u001b[0m | \u001b[0m 3.547   \u001b[0m | \u001b[0m 5.185   \u001b[0m | \u001b[0m 28.69   \u001b[0m | \u001b[0m 59.86   \u001b[0m | \u001b[0m 0.6068  \u001b[0m |\n",
      "| \u001b[0m 69      \u001b[0m | \u001b[0m-6.274   \u001b[0m | \u001b[0m 0.1733  \u001b[0m | \u001b[0m 2.143   \u001b[0m | \u001b[0m 1.981   \u001b[0m | \u001b[0m 20.84   \u001b[0m | \u001b[0m 164.5   \u001b[0m | \u001b[0m 0.7787  \u001b[0m |\n",
      "| \u001b[0m 70      \u001b[0m | \u001b[0m nan     \u001b[0m | \u001b[0m 0.7896  \u001b[0m | \u001b[0m 1.712   \u001b[0m | \u001b[0m 8.613   \u001b[0m | \u001b[0m 15.72   \u001b[0m | \u001b[0m 168.3   \u001b[0m | \u001b[0m 0.7506  \u001b[0m |\n",
      "| \u001b[0m 71      \u001b[0m | \u001b[0m-0.7195  \u001b[0m | \u001b[0m 0.2291  \u001b[0m | \u001b[0m 0.3919  \u001b[0m | \u001b[0m 1.165   \u001b[0m | \u001b[0m 6.668   \u001b[0m | \u001b[0m 102.5   \u001b[0m | \u001b[0m 0.5453  \u001b[0m |\n",
      "| \u001b[0m 72      \u001b[0m | \u001b[0m nan     \u001b[0m | \u001b[0m 0.125   \u001b[0m | \u001b[0m 3.774   \u001b[0m | \u001b[0m 4.554   \u001b[0m | \u001b[0m 23.67   \u001b[0m | \u001b[0m 101.4   \u001b[0m | \u001b[0m 0.68    \u001b[0m |\n",
      "| \u001b[0m 73      \u001b[0m | \u001b[0m nan     \u001b[0m | \u001b[0m 0.5303  \u001b[0m | \u001b[0m 2.37    \u001b[0m | \u001b[0m 8.228   \u001b[0m | \u001b[0m 15.06   \u001b[0m | \u001b[0m 182.8   \u001b[0m | \u001b[0m 0.5148  \u001b[0m |\n",
      "| \u001b[0m 74      \u001b[0m | \u001b[0m nan     \u001b[0m | \u001b[0m 0.7965  \u001b[0m | \u001b[0m 0.6282  \u001b[0m | \u001b[0m 6.567   \u001b[0m | \u001b[0m 5.259   \u001b[0m | \u001b[0m 117.0   \u001b[0m | \u001b[0m 0.5012  \u001b[0m |\n",
      "| \u001b[0m 75      \u001b[0m | \u001b[0m nan     \u001b[0m | \u001b[0m 0.9561  \u001b[0m | \u001b[0m 4.527   \u001b[0m | \u001b[0m 8.164   \u001b[0m | \u001b[0m 27.88   \u001b[0m | \u001b[0m 46.2    \u001b[0m | \u001b[0m 0.5631  \u001b[0m |\n",
      "| \u001b[0m 76      \u001b[0m | \u001b[0m nan     \u001b[0m | \u001b[0m 0.2689  \u001b[0m | \u001b[0m 3.112   \u001b[0m | \u001b[0m 9.152   \u001b[0m | \u001b[0m 29.75   \u001b[0m | \u001b[0m 148.0   \u001b[0m | \u001b[0m 0.7927  \u001b[0m |\n",
      "| \u001b[0m 77      \u001b[0m | \u001b[0m-1.939e+2\u001b[0m | \u001b[0m 0.9184  \u001b[0m | \u001b[0m 2.004   \u001b[0m | \u001b[0m 3.249   \u001b[0m | \u001b[0m 9.336   \u001b[0m | \u001b[0m 41.5    \u001b[0m | \u001b[0m 0.825   \u001b[0m |\n",
      "| \u001b[0m 78      \u001b[0m | \u001b[0m nan     \u001b[0m | \u001b[0m 0.2321  \u001b[0m | \u001b[0m 1.321   \u001b[0m | \u001b[0m 8.372   \u001b[0m | \u001b[0m 12.76   \u001b[0m | \u001b[0m 196.8   \u001b[0m | \u001b[0m 0.6067  \u001b[0m |\n",
      "| \u001b[0m 79      \u001b[0m | \u001b[0m nan     \u001b[0m | \u001b[0m 0.5803  \u001b[0m | \u001b[0m 1.572   \u001b[0m | \u001b[0m 9.197   \u001b[0m | \u001b[0m 14.16   \u001b[0m | \u001b[0m 98.05   \u001b[0m | \u001b[0m 0.7049  \u001b[0m |\n",
      "| \u001b[0m 80      \u001b[0m | \u001b[0m nan     \u001b[0m | \u001b[0m 0.945   \u001b[0m | \u001b[0m 0.1547  \u001b[0m | \u001b[0m 7.452   \u001b[0m | \u001b[0m 27.28   \u001b[0m | \u001b[0m 24.91   \u001b[0m | \u001b[0m 0.7088  \u001b[0m |\n",
      "| \u001b[0m 81      \u001b[0m | \u001b[0m nan     \u001b[0m | \u001b[0m 0.3934  \u001b[0m | \u001b[0m 4.297   \u001b[0m | \u001b[0m 6.027   \u001b[0m | \u001b[0m 22.26   \u001b[0m | \u001b[0m 101.5   \u001b[0m | \u001b[0m 0.7513  \u001b[0m |\n",
      "| \u001b[0m 82      \u001b[0m | \u001b[0m nan     \u001b[0m | \u001b[0m 0.3611  \u001b[0m | \u001b[0m 0.04674 \u001b[0m | \u001b[0m 6.191   \u001b[0m | \u001b[0m 12.79   \u001b[0m | \u001b[0m 113.1   \u001b[0m | \u001b[0m 0.8666  \u001b[0m |\n",
      "| \u001b[0m 83      \u001b[0m | \u001b[0m nan     \u001b[0m | \u001b[0m 0.4838  \u001b[0m | \u001b[0m 1.237   \u001b[0m | \u001b[0m 4.342   \u001b[0m | \u001b[0m 28.3    \u001b[0m | \u001b[0m 188.6   \u001b[0m | \u001b[0m 0.8377  \u001b[0m |\n",
      "| \u001b[0m 84      \u001b[0m | \u001b[0m-2.485   \u001b[0m | \u001b[0m 0.9282  \u001b[0m | \u001b[0m 1.14    \u001b[0m | \u001b[0m 1.787   \u001b[0m | \u001b[0m 10.68   \u001b[0m | \u001b[0m 76.59   \u001b[0m | \u001b[0m 0.5699  \u001b[0m |\n",
      "| \u001b[0m 85      \u001b[0m | \u001b[0m nan     \u001b[0m | \u001b[0m 0.6464  \u001b[0m | \u001b[0m 2.068   \u001b[0m | \u001b[0m 8.347   \u001b[0m | \u001b[0m 9.628   \u001b[0m | \u001b[0m 146.3   \u001b[0m | \u001b[0m 0.5961  \u001b[0m |\n",
      "| \u001b[0m 86      \u001b[0m | \u001b[0m-0.9591  \u001b[0m | \u001b[0m 0.6168  \u001b[0m | \u001b[0m 1.745   \u001b[0m | \u001b[0m 1.513   \u001b[0m | \u001b[0m 10.72   \u001b[0m | \u001b[0m 139.5   \u001b[0m | \u001b[0m 0.6989  \u001b[0m |\n",
      "| \u001b[0m 87      \u001b[0m | \u001b[0m nan     \u001b[0m | \u001b[0m 0.5671  \u001b[0m | \u001b[0m 0.8736  \u001b[0m | \u001b[0m 6.136   \u001b[0m | \u001b[0m 29.92   \u001b[0m | \u001b[0m 167.0   \u001b[0m | \u001b[0m 0.7377  \u001b[0m |\n",
      "| \u001b[0m 88      \u001b[0m | \u001b[0m-inf     \u001b[0m | \u001b[0m 0.9784  \u001b[0m | \u001b[0m 4.508   \u001b[0m | \u001b[0m 6.36    \u001b[0m | \u001b[0m 5.811   \u001b[0m | \u001b[0m 36.84   \u001b[0m | \u001b[0m 0.5261  \u001b[0m |\n",
      "| \u001b[0m 89      \u001b[0m | \u001b[0m nan     \u001b[0m | \u001b[0m 0.5066  \u001b[0m | \u001b[0m 1.877   \u001b[0m | \u001b[0m 9.778   \u001b[0m | \u001b[0m 9.2     \u001b[0m | \u001b[0m 195.1   \u001b[0m | \u001b[0m 0.807   \u001b[0m |\n",
      "| \u001b[0m 90      \u001b[0m | \u001b[0m nan     \u001b[0m | \u001b[0m 0.8418  \u001b[0m | \u001b[0m 3.163   \u001b[0m | \u001b[0m 7.019   \u001b[0m | \u001b[0m 16.92   \u001b[0m | \u001b[0m 22.36   \u001b[0m | \u001b[0m 0.6412  \u001b[0m |\n",
      "| \u001b[0m 91      \u001b[0m | \u001b[0m nan     \u001b[0m | \u001b[0m 0.5429  \u001b[0m | \u001b[0m 3.65    \u001b[0m | \u001b[0m 5.218   \u001b[0m | \u001b[0m 16.44   \u001b[0m | \u001b[0m 44.78   \u001b[0m | \u001b[0m 0.5044  \u001b[0m |\n",
      "| \u001b[0m 92      \u001b[0m | \u001b[0m nan     \u001b[0m | \u001b[0m 0.7825  \u001b[0m | \u001b[0m 1.6     \u001b[0m | \u001b[0m 9.859   \u001b[0m | \u001b[0m 10.51   \u001b[0m | \u001b[0m 80.97   \u001b[0m | \u001b[0m 0.7096  \u001b[0m |\n",
      "| \u001b[0m 93      \u001b[0m | \u001b[0m nan     \u001b[0m | \u001b[0m 0.7794  \u001b[0m | \u001b[0m 2.319   \u001b[0m | \u001b[0m 2.123   \u001b[0m | \u001b[0m 12.81   \u001b[0m | \u001b[0m 110.8   \u001b[0m | \u001b[0m 0.7695  \u001b[0m |\n",
      "| \u001b[0m 94      \u001b[0m | \u001b[0m-0.2417  \u001b[0m | \u001b[0m 0.7931  \u001b[0m | \u001b[0m 0.6517  \u001b[0m | \u001b[0m 1.206   \u001b[0m | \u001b[0m 17.98   \u001b[0m | \u001b[0m 165.8   \u001b[0m | \u001b[0m 0.505   \u001b[0m |\n",
      "| \u001b[0m 95      \u001b[0m | \u001b[0m nan     \u001b[0m | \u001b[0m 0.7052  \u001b[0m | \u001b[0m 3.434   \u001b[0m | \u001b[0m 5.043   \u001b[0m | \u001b[0m 27.87   \u001b[0m | \u001b[0m 136.0   \u001b[0m | \u001b[0m 0.5021  \u001b[0m |\n",
      "| \u001b[0m 96      \u001b[0m | \u001b[0m nan     \u001b[0m | \u001b[0m 0.536   \u001b[0m | \u001b[0m 4.297   \u001b[0m | \u001b[0m 8.474   \u001b[0m | \u001b[0m 21.23   \u001b[0m | \u001b[0m 141.3   \u001b[0m | \u001b[0m 0.7314  \u001b[0m |\n",
      "| \u001b[0m 97      \u001b[0m | \u001b[0m nan     \u001b[0m | \u001b[0m 0.3467  \u001b[0m | \u001b[0m 2.803   \u001b[0m | \u001b[0m 7.046   \u001b[0m | \u001b[0m 13.81   \u001b[0m | \u001b[0m 174.0   \u001b[0m | \u001b[0m 0.578   \u001b[0m |\n",
      "| \u001b[0m 98      \u001b[0m | \u001b[0m nan     \u001b[0m | \u001b[0m 0.7726  \u001b[0m | \u001b[0m 1.448   \u001b[0m | \u001b[0m 7.964   \u001b[0m | \u001b[0m 15.69   \u001b[0m | \u001b[0m 165.4   \u001b[0m | \u001b[0m 0.6414  \u001b[0m |\n",
      "| \u001b[0m 99      \u001b[0m | \u001b[0m nan     \u001b[0m | \u001b[0m 0.2923  \u001b[0m | \u001b[0m 3.836   \u001b[0m | \u001b[0m 3.778   \u001b[0m | \u001b[0m 23.33   \u001b[0m | \u001b[0m 154.0   \u001b[0m | \u001b[0m 0.5886  \u001b[0m |\n",
      "| \u001b[0m 100     \u001b[0m | \u001b[0m-1.251e+0\u001b[0m | \u001b[0m 0.2927  \u001b[0m | \u001b[0m 0.9947  \u001b[0m | \u001b[0m 2.283   \u001b[0m | \u001b[0m 14.43   \u001b[0m | \u001b[0m 24.79   \u001b[0m | \u001b[0m 0.5444  \u001b[0m |\n"
     ]
    },
    {
     "ename": "ValueError",
     "evalue": "Input contains NaN, infinity or a value too large for dtype('float64').",
     "output_type": "error",
     "traceback": [
      "\u001b[0;31m---------------------------------------------------------------------------\u001b[0m",
      "\u001b[0;31mStopIteration\u001b[0m                             Traceback (most recent call last)",
      "\u001b[0;32m~/Desktop/Work/uncoverml/venv/lib/python3.8/site-packages/bayes_opt/bayesian_optimization.py\u001b[0m in \u001b[0;36mmaximize\u001b[0;34m(self, init_points, n_iter, acq, kappa, kappa_decay, kappa_decay_delay, xi, **gp_params)\u001b[0m\n\u001b[1;32m    178\u001b[0m             \u001b[0;32mtry\u001b[0m\u001b[0;34m:\u001b[0m\u001b[0;34m\u001b[0m\u001b[0;34m\u001b[0m\u001b[0m\n\u001b[0;32m--> 179\u001b[0;31m                 \u001b[0mx_probe\u001b[0m \u001b[0;34m=\u001b[0m \u001b[0mnext\u001b[0m\u001b[0;34m(\u001b[0m\u001b[0mself\u001b[0m\u001b[0;34m.\u001b[0m\u001b[0m_queue\u001b[0m\u001b[0;34m)\u001b[0m\u001b[0;34m\u001b[0m\u001b[0;34m\u001b[0m\u001b[0m\n\u001b[0m\u001b[1;32m    180\u001b[0m             \u001b[0;32mexcept\u001b[0m \u001b[0mStopIteration\u001b[0m\u001b[0;34m:\u001b[0m\u001b[0;34m\u001b[0m\u001b[0;34m\u001b[0m\u001b[0m\n",
      "\u001b[0;32m~/Desktop/Work/uncoverml/venv/lib/python3.8/site-packages/bayes_opt/bayesian_optimization.py\u001b[0m in \u001b[0;36m__next__\u001b[0;34m(self)\u001b[0m\n\u001b[1;32m     24\u001b[0m         \u001b[0;32mif\u001b[0m \u001b[0mself\u001b[0m\u001b[0;34m.\u001b[0m\u001b[0mempty\u001b[0m\u001b[0;34m:\u001b[0m\u001b[0;34m\u001b[0m\u001b[0;34m\u001b[0m\u001b[0m\n\u001b[0;32m---> 25\u001b[0;31m             \u001b[0;32mraise\u001b[0m \u001b[0mStopIteration\u001b[0m\u001b[0;34m(\u001b[0m\u001b[0;34m\"Queue is empty, no more objects to retrieve.\"\u001b[0m\u001b[0;34m)\u001b[0m\u001b[0;34m\u001b[0m\u001b[0;34m\u001b[0m\u001b[0m\n\u001b[0m\u001b[1;32m     26\u001b[0m         \u001b[0mobj\u001b[0m \u001b[0;34m=\u001b[0m \u001b[0mself\u001b[0m\u001b[0;34m.\u001b[0m\u001b[0m_queue\u001b[0m\u001b[0;34m[\u001b[0m\u001b[0;36m0\u001b[0m\u001b[0;34m]\u001b[0m\u001b[0;34m\u001b[0m\u001b[0;34m\u001b[0m\u001b[0m\n",
      "\u001b[0;31mStopIteration\u001b[0m: Queue is empty, no more objects to retrieve.",
      "\nDuring handling of the above exception, another exception occurred:\n",
      "\u001b[0;31mValueError\u001b[0m                                Traceback (most recent call last)",
      "\u001b[0;32m<ipython-input-75-1fb3d8097ee2>\u001b[0m in \u001b[0;36m<module>\u001b[0;34m\u001b[0m\n\u001b[1;32m      9\u001b[0m \u001b[0mX\u001b[0m \u001b[0;34m=\u001b[0m \u001b[0mdf\u001b[0m\u001b[0;34m.\u001b[0m\u001b[0mdrop\u001b[0m\u001b[0;34m(\u001b[0m\u001b[0;34m\"target\"\u001b[0m\u001b[0;34m,\u001b[0m\u001b[0maxis\u001b[0m\u001b[0;34m=\u001b[0m\u001b[0;36m1\u001b[0m\u001b[0;34m)\u001b[0m\u001b[0;34m.\u001b[0m\u001b[0mastype\u001b[0m\u001b[0;34m(\u001b[0m\u001b[0;34m'float32'\u001b[0m\u001b[0;34m)\u001b[0m\u001b[0;34m\u001b[0m\u001b[0;34m\u001b[0m\u001b[0m\n\u001b[1;32m     10\u001b[0m \u001b[0;34m\u001b[0m\u001b[0m\n\u001b[0;32m---> 11\u001b[0;31m optimizer.maximize(\n\u001b[0m\u001b[1;32m     12\u001b[0m     \u001b[0minit_points\u001b[0m\u001b[0;34m=\u001b[0m\u001b[0;36m100\u001b[0m\u001b[0;34m,\u001b[0m\u001b[0;34m\u001b[0m\u001b[0;34m\u001b[0m\u001b[0m\n\u001b[1;32m     13\u001b[0m     \u001b[0mn_iter\u001b[0m\u001b[0;34m=\u001b[0m\u001b[0;36m50\u001b[0m\u001b[0;34m,\u001b[0m\u001b[0;34m\u001b[0m\u001b[0;34m\u001b[0m\u001b[0m\n",
      "\u001b[0;32m~/Desktop/Work/uncoverml/venv/lib/python3.8/site-packages/bayes_opt/bayesian_optimization.py\u001b[0m in \u001b[0;36mmaximize\u001b[0;34m(self, init_points, n_iter, acq, kappa, kappa_decay, kappa_decay_delay, xi, **gp_params)\u001b[0m\n\u001b[1;32m    180\u001b[0m             \u001b[0;32mexcept\u001b[0m \u001b[0mStopIteration\u001b[0m\u001b[0;34m:\u001b[0m\u001b[0;34m\u001b[0m\u001b[0;34m\u001b[0m\u001b[0m\n\u001b[1;32m    181\u001b[0m                 \u001b[0mutil\u001b[0m\u001b[0;34m.\u001b[0m\u001b[0mupdate_params\u001b[0m\u001b[0;34m(\u001b[0m\u001b[0;34m)\u001b[0m\u001b[0;34m\u001b[0m\u001b[0;34m\u001b[0m\u001b[0m\n\u001b[0;32m--> 182\u001b[0;31m                 \u001b[0mx_probe\u001b[0m \u001b[0;34m=\u001b[0m \u001b[0mself\u001b[0m\u001b[0;34m.\u001b[0m\u001b[0msuggest\u001b[0m\u001b[0;34m(\u001b[0m\u001b[0mutil\u001b[0m\u001b[0;34m)\u001b[0m\u001b[0;34m\u001b[0m\u001b[0;34m\u001b[0m\u001b[0m\n\u001b[0m\u001b[1;32m    183\u001b[0m                 \u001b[0miteration\u001b[0m \u001b[0;34m+=\u001b[0m \u001b[0;36m1\u001b[0m\u001b[0;34m\u001b[0m\u001b[0;34m\u001b[0m\u001b[0m\n\u001b[1;32m    184\u001b[0m \u001b[0;34m\u001b[0m\u001b[0m\n",
      "\u001b[0;32m~/Desktop/Work/uncoverml/venv/lib/python3.8/site-packages/bayes_opt/bayesian_optimization.py\u001b[0m in \u001b[0;36msuggest\u001b[0;34m(self, utility_function)\u001b[0m\n\u001b[1;32m    126\u001b[0m         \u001b[0;32mwith\u001b[0m \u001b[0mwarnings\u001b[0m\u001b[0;34m.\u001b[0m\u001b[0mcatch_warnings\u001b[0m\u001b[0;34m(\u001b[0m\u001b[0;34m)\u001b[0m\u001b[0;34m:\u001b[0m\u001b[0;34m\u001b[0m\u001b[0;34m\u001b[0m\u001b[0m\n\u001b[1;32m    127\u001b[0m             \u001b[0mwarnings\u001b[0m\u001b[0;34m.\u001b[0m\u001b[0msimplefilter\u001b[0m\u001b[0;34m(\u001b[0m\u001b[0;34m\"ignore\"\u001b[0m\u001b[0;34m)\u001b[0m\u001b[0;34m\u001b[0m\u001b[0;34m\u001b[0m\u001b[0m\n\u001b[0;32m--> 128\u001b[0;31m             \u001b[0mself\u001b[0m\u001b[0;34m.\u001b[0m\u001b[0m_gp\u001b[0m\u001b[0;34m.\u001b[0m\u001b[0mfit\u001b[0m\u001b[0;34m(\u001b[0m\u001b[0mself\u001b[0m\u001b[0;34m.\u001b[0m\u001b[0m_space\u001b[0m\u001b[0;34m.\u001b[0m\u001b[0mparams\u001b[0m\u001b[0;34m,\u001b[0m \u001b[0mself\u001b[0m\u001b[0;34m.\u001b[0m\u001b[0m_space\u001b[0m\u001b[0;34m.\u001b[0m\u001b[0mtarget\u001b[0m\u001b[0;34m)\u001b[0m\u001b[0;34m\u001b[0m\u001b[0;34m\u001b[0m\u001b[0m\n\u001b[0m\u001b[1;32m    129\u001b[0m \u001b[0;34m\u001b[0m\u001b[0m\n\u001b[1;32m    130\u001b[0m         \u001b[0;31m# Finding argmax of the acquisition function.\u001b[0m\u001b[0;34m\u001b[0m\u001b[0;34m\u001b[0m\u001b[0;34m\u001b[0m\u001b[0m\n",
      "\u001b[0;32m~/Desktop/Work/uncoverml/venv/lib/python3.8/site-packages/sklearn/gaussian_process/_gpr.py\u001b[0m in \u001b[0;36mfit\u001b[0;34m(self, X, y)\u001b[0m\n\u001b[1;32m    190\u001b[0m \u001b[0;34m\u001b[0m\u001b[0m\n\u001b[1;32m    191\u001b[0m         \u001b[0;32mif\u001b[0m \u001b[0mself\u001b[0m\u001b[0;34m.\u001b[0m\u001b[0mkernel_\u001b[0m\u001b[0;34m.\u001b[0m\u001b[0mrequires_vector_input\u001b[0m\u001b[0;34m:\u001b[0m\u001b[0;34m\u001b[0m\u001b[0;34m\u001b[0m\u001b[0m\n\u001b[0;32m--> 192\u001b[0;31m             X, y = self._validate_data(X, y, multi_output=True, y_numeric=True,\n\u001b[0m\u001b[1;32m    193\u001b[0m                                        ensure_2d=True, dtype=\"numeric\")\n\u001b[1;32m    194\u001b[0m         \u001b[0;32melse\u001b[0m\u001b[0;34m:\u001b[0m\u001b[0;34m\u001b[0m\u001b[0;34m\u001b[0m\u001b[0m\n",
      "\u001b[0;32m~/Desktop/Work/uncoverml/venv/lib/python3.8/site-packages/sklearn/base.py\u001b[0m in \u001b[0;36m_validate_data\u001b[0;34m(self, X, y, reset, validate_separately, **check_params)\u001b[0m\n\u001b[1;32m    431\u001b[0m                 \u001b[0my\u001b[0m \u001b[0;34m=\u001b[0m \u001b[0mcheck_array\u001b[0m\u001b[0;34m(\u001b[0m\u001b[0my\u001b[0m\u001b[0;34m,\u001b[0m \u001b[0;34m**\u001b[0m\u001b[0mcheck_y_params\u001b[0m\u001b[0;34m)\u001b[0m\u001b[0;34m\u001b[0m\u001b[0;34m\u001b[0m\u001b[0m\n\u001b[1;32m    432\u001b[0m             \u001b[0;32melse\u001b[0m\u001b[0;34m:\u001b[0m\u001b[0;34m\u001b[0m\u001b[0;34m\u001b[0m\u001b[0m\n\u001b[0;32m--> 433\u001b[0;31m                 \u001b[0mX\u001b[0m\u001b[0;34m,\u001b[0m \u001b[0my\u001b[0m \u001b[0;34m=\u001b[0m \u001b[0mcheck_X_y\u001b[0m\u001b[0;34m(\u001b[0m\u001b[0mX\u001b[0m\u001b[0;34m,\u001b[0m \u001b[0my\u001b[0m\u001b[0;34m,\u001b[0m \u001b[0;34m**\u001b[0m\u001b[0mcheck_params\u001b[0m\u001b[0;34m)\u001b[0m\u001b[0;34m\u001b[0m\u001b[0;34m\u001b[0m\u001b[0m\n\u001b[0m\u001b[1;32m    434\u001b[0m             \u001b[0mout\u001b[0m \u001b[0;34m=\u001b[0m \u001b[0mX\u001b[0m\u001b[0;34m,\u001b[0m \u001b[0my\u001b[0m\u001b[0;34m\u001b[0m\u001b[0;34m\u001b[0m\u001b[0m\n\u001b[1;32m    435\u001b[0m \u001b[0;34m\u001b[0m\u001b[0m\n",
      "\u001b[0;32m~/Desktop/Work/uncoverml/venv/lib/python3.8/site-packages/sklearn/utils/validation.py\u001b[0m in \u001b[0;36minner_f\u001b[0;34m(*args, **kwargs)\u001b[0m\n\u001b[1;32m     61\u001b[0m             \u001b[0mextra_args\u001b[0m \u001b[0;34m=\u001b[0m \u001b[0mlen\u001b[0m\u001b[0;34m(\u001b[0m\u001b[0margs\u001b[0m\u001b[0;34m)\u001b[0m \u001b[0;34m-\u001b[0m \u001b[0mlen\u001b[0m\u001b[0;34m(\u001b[0m\u001b[0mall_args\u001b[0m\u001b[0;34m)\u001b[0m\u001b[0;34m\u001b[0m\u001b[0;34m\u001b[0m\u001b[0m\n\u001b[1;32m     62\u001b[0m             \u001b[0;32mif\u001b[0m \u001b[0mextra_args\u001b[0m \u001b[0;34m<=\u001b[0m \u001b[0;36m0\u001b[0m\u001b[0;34m:\u001b[0m\u001b[0;34m\u001b[0m\u001b[0;34m\u001b[0m\u001b[0m\n\u001b[0;32m---> 63\u001b[0;31m                 \u001b[0;32mreturn\u001b[0m \u001b[0mf\u001b[0m\u001b[0;34m(\u001b[0m\u001b[0;34m*\u001b[0m\u001b[0margs\u001b[0m\u001b[0;34m,\u001b[0m \u001b[0;34m**\u001b[0m\u001b[0mkwargs\u001b[0m\u001b[0;34m)\u001b[0m\u001b[0;34m\u001b[0m\u001b[0;34m\u001b[0m\u001b[0m\n\u001b[0m\u001b[1;32m     64\u001b[0m \u001b[0;34m\u001b[0m\u001b[0m\n\u001b[1;32m     65\u001b[0m             \u001b[0;31m# extra_args > 0\u001b[0m\u001b[0;34m\u001b[0m\u001b[0;34m\u001b[0m\u001b[0;34m\u001b[0m\u001b[0m\n",
      "\u001b[0;32m~/Desktop/Work/uncoverml/venv/lib/python3.8/site-packages/sklearn/utils/validation.py\u001b[0m in \u001b[0;36mcheck_X_y\u001b[0;34m(X, y, accept_sparse, accept_large_sparse, dtype, order, copy, force_all_finite, ensure_2d, allow_nd, multi_output, ensure_min_samples, ensure_min_features, y_numeric, estimator)\u001b[0m\n\u001b[1;32m    821\u001b[0m                     estimator=estimator)\n\u001b[1;32m    822\u001b[0m     \u001b[0;32mif\u001b[0m \u001b[0mmulti_output\u001b[0m\u001b[0;34m:\u001b[0m\u001b[0;34m\u001b[0m\u001b[0;34m\u001b[0m\u001b[0m\n\u001b[0;32m--> 823\u001b[0;31m         y = check_array(y, accept_sparse='csr', force_all_finite=True,\n\u001b[0m\u001b[1;32m    824\u001b[0m                         ensure_2d=False, dtype=None)\n\u001b[1;32m    825\u001b[0m     \u001b[0;32melse\u001b[0m\u001b[0;34m:\u001b[0m\u001b[0;34m\u001b[0m\u001b[0;34m\u001b[0m\u001b[0m\n",
      "\u001b[0;32m~/Desktop/Work/uncoverml/venv/lib/python3.8/site-packages/sklearn/utils/validation.py\u001b[0m in \u001b[0;36minner_f\u001b[0;34m(*args, **kwargs)\u001b[0m\n\u001b[1;32m     61\u001b[0m             \u001b[0mextra_args\u001b[0m \u001b[0;34m=\u001b[0m \u001b[0mlen\u001b[0m\u001b[0;34m(\u001b[0m\u001b[0margs\u001b[0m\u001b[0;34m)\u001b[0m \u001b[0;34m-\u001b[0m \u001b[0mlen\u001b[0m\u001b[0;34m(\u001b[0m\u001b[0mall_args\u001b[0m\u001b[0;34m)\u001b[0m\u001b[0;34m\u001b[0m\u001b[0;34m\u001b[0m\u001b[0m\n\u001b[1;32m     62\u001b[0m             \u001b[0;32mif\u001b[0m \u001b[0mextra_args\u001b[0m \u001b[0;34m<=\u001b[0m \u001b[0;36m0\u001b[0m\u001b[0;34m:\u001b[0m\u001b[0;34m\u001b[0m\u001b[0;34m\u001b[0m\u001b[0m\n\u001b[0;32m---> 63\u001b[0;31m                 \u001b[0;32mreturn\u001b[0m \u001b[0mf\u001b[0m\u001b[0;34m(\u001b[0m\u001b[0;34m*\u001b[0m\u001b[0margs\u001b[0m\u001b[0;34m,\u001b[0m \u001b[0;34m**\u001b[0m\u001b[0mkwargs\u001b[0m\u001b[0;34m)\u001b[0m\u001b[0;34m\u001b[0m\u001b[0;34m\u001b[0m\u001b[0m\n\u001b[0m\u001b[1;32m     64\u001b[0m \u001b[0;34m\u001b[0m\u001b[0m\n\u001b[1;32m     65\u001b[0m             \u001b[0;31m# extra_args > 0\u001b[0m\u001b[0;34m\u001b[0m\u001b[0;34m\u001b[0m\u001b[0;34m\u001b[0m\u001b[0m\n",
      "\u001b[0;32m~/Desktop/Work/uncoverml/venv/lib/python3.8/site-packages/sklearn/utils/validation.py\u001b[0m in \u001b[0;36mcheck_array\u001b[0;34m(array, accept_sparse, accept_large_sparse, dtype, order, copy, force_all_finite, ensure_2d, allow_nd, ensure_min_samples, ensure_min_features, estimator)\u001b[0m\n\u001b[1;32m    661\u001b[0m \u001b[0;34m\u001b[0m\u001b[0m\n\u001b[1;32m    662\u001b[0m         \u001b[0;32mif\u001b[0m \u001b[0mforce_all_finite\u001b[0m\u001b[0;34m:\u001b[0m\u001b[0;34m\u001b[0m\u001b[0;34m\u001b[0m\u001b[0m\n\u001b[0;32m--> 663\u001b[0;31m             _assert_all_finite(array,\n\u001b[0m\u001b[1;32m    664\u001b[0m                                allow_nan=force_all_finite == 'allow-nan')\n\u001b[1;32m    665\u001b[0m \u001b[0;34m\u001b[0m\u001b[0m\n",
      "\u001b[0;32m~/Desktop/Work/uncoverml/venv/lib/python3.8/site-packages/sklearn/utils/validation.py\u001b[0m in \u001b[0;36m_assert_all_finite\u001b[0;34m(X, allow_nan, msg_dtype)\u001b[0m\n\u001b[1;32m    101\u001b[0m                 not allow_nan and not np.isfinite(X).all()):\n\u001b[1;32m    102\u001b[0m             \u001b[0mtype_err\u001b[0m \u001b[0;34m=\u001b[0m \u001b[0;34m'infinity'\u001b[0m \u001b[0;32mif\u001b[0m \u001b[0mallow_nan\u001b[0m \u001b[0;32melse\u001b[0m \u001b[0;34m'NaN, infinity'\u001b[0m\u001b[0;34m\u001b[0m\u001b[0;34m\u001b[0m\u001b[0m\n\u001b[0;32m--> 103\u001b[0;31m             raise ValueError(\n\u001b[0m\u001b[1;32m    104\u001b[0m                     \u001b[0mmsg_err\u001b[0m\u001b[0;34m.\u001b[0m\u001b[0mformat\u001b[0m\u001b[0;34m\u001b[0m\u001b[0;34m\u001b[0m\u001b[0m\n\u001b[1;32m    105\u001b[0m                     (type_err,\n",
      "\u001b[0;31mValueError\u001b[0m: Input contains NaN, infinity or a value too large for dtype('float64')."
     ]
    }
   ],
   "source": [
    "input_files = [Path(\"../data/original_df.csv\"),Path(\"../data/scaled_df.csv\"),Path(\"../data/quantile_df.csv\")]   \n",
    "\n",
    "input_file = input_files[2]\n",
    "print(\"input_file: \",input_file)\n",
    "df = pd.read_csv(input_file)\n",
    "df = df.drop([\"x\",\"y\"],axis=1)\n",
    "\n",
    "y = df['target'].astype('float32') \n",
    "X = df.drop(\"target\",axis=1).astype('float32')\n",
    "\n",
    "optimizer.maximize(\n",
    "    init_points=100,\n",
    "    n_iter=50,\n",
    ")"
   ]
  },
  {
   "cell_type": "code",
   "execution_count": 58,
   "metadata": {},
   "outputs": [
    {
     "data": {
      "text/plain": [
       "<bayes_opt.bayesian_optimization.BayesianOptimization at 0x7fb3ccf8a100>"
      ]
     },
     "execution_count": 58,
     "metadata": {},
     "output_type": "execute_result"
    }
   ],
   "source": [
    "optimizer"
   ]
  },
  {
   "cell_type": "code",
   "execution_count": 59,
   "metadata": {},
   "outputs": [
    {
     "data": {
      "text/plain": [
       "{'target': -0.31142494537734106,\n",
       " 'params': {'colsample_bytree': 0.4228517846555483,\n",
       "  'gamma': 3.6016224672107904,\n",
       "  'learning_rate': 1.001029373356104,\n",
       "  'max_depth': 12.558314315795993,\n",
       "  'n_estimators': 21.46755890817113,\n",
       "  'subsample': 0.5369354379075191}}"
      ]
     },
     "execution_count": 59,
     "metadata": {},
     "output_type": "execute_result"
    }
   ],
   "source": [
    " optimizer.max"
   ]
  },
  {
   "cell_type": "code",
   "execution_count": 76,
   "metadata": {},
   "outputs": [
    {
     "data": {
      "text/plain": [
       "{'target': nan,\n",
       " 'params': {'colsample_bytree': 0.2676341902399038,\n",
       "  'gamma': 1.7278036352152388,\n",
       "  'learning_rate': 4.570907268076029,\n",
       "  'max_depth': 18.470418350083925,\n",
       "  'n_estimators': 95.45501259259306,\n",
       "  'subsample': 0.7740878001587038}}"
      ]
     },
     "execution_count": 76,
     "metadata": {},
     "output_type": "execute_result"
    }
   ],
   "source": [
    " optimizer.max"
   ]
  },
  {
   "cell_type": "code",
   "execution_count": null,
   "metadata": {},
   "outputs": [],
   "source": []
  }
 ],
 "metadata": {
  "kernelspec": {
   "display_name": "Python 3",
   "language": "python",
   "name": "python3"
  },
  "language_info": {
   "codemirror_mode": {
    "name": "ipython",
    "version": 3
   },
   "file_extension": ".py",
   "mimetype": "text/x-python",
   "name": "python",
   "nbconvert_exporter": "python",
   "pygments_lexer": "ipython3",
   "version": "3.7.4"
  }
 },
 "nbformat": 4,
 "nbformat_minor": 4
}
