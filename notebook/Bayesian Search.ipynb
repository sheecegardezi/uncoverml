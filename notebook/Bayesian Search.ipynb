{
 "cells": [
  {
   "cell_type": "code",
   "execution_count": 1,
   "metadata": {},
   "outputs": [],
   "source": [
    "import csv\n",
    "import time  # Just to compare fit times\n",
    "from pathlib import Path\n",
    "from pprint import pprint"
   ]
  },
  {
   "cell_type": "code",
   "execution_count": 2,
   "metadata": {},
   "outputs": [],
   "source": [
    "import numpy as np\n",
    "import ray\n",
    "import xgboost as xgb\n",
    "from matplotlib import pyplot as plt\n",
    "from sklearn import metrics\n",
    "from sklearn.model_selection import train_test_split\n",
    "from tune_sklearn import TuneSearchCV\n",
    "from xgboost import XGBRegressor\n",
    "import pandas as pd\n",
    "from pathlib import Path\n",
    "import time\n",
    "import pickle\n",
    "import xgboost as xgb\n",
    "from sklearn.datasets import load_boston\n",
    "from sklearn.model_selection import train_test_split\n",
    "from sklearn.model_selection import cross_val_score, KFold\n",
    "from sklearn.metrics import mean_squared_error, r2_score\n",
    "import matplotlib.pyplot as plt "
   ]
  },
  {
   "cell_type": "code",
   "execution_count": 3,
   "metadata": {},
   "outputs": [],
   "source": [
    "def regression_results(y_true, y_pred):\n",
    "\n",
    "    # Regression metrics\n",
    "    explained_variance = metrics.explained_variance_score(y_true, y_pred)\n",
    "    mean_absolute_error = metrics.mean_absolute_error(y_true, y_pred)\n",
    "    mse = metrics.mean_squared_error(y_true, y_pred)\n",
    "    metrics.median_absolute_error(y_true, y_pred)\n",
    "    r2 = metrics.r2_score(y_true, y_pred)\n",
    "\n",
    "    return {'r2': round(r2, 4), 'MAE': round(mean_absolute_error, 4), 'MSE': round(mse, 4), 'RMSE': round(np.sqrt(mse), 4), \"explained_variance\": round(explained_variance, 4)}"
   ]
  },
  {
   "cell_type": "code",
   "execution_count": 71,
   "metadata": {},
   "outputs": [
    {
     "name": "stdout",
     "output_type": "stream",
     "text": [
      "The memory_profiler extension is already loaded. To reload it, use:\n",
      "  %reload_ext memory_profiler\n"
     ]
    }
   ],
   "source": [
    "%load_ext memory_profiler"
   ]
  },
  {
   "cell_type": "code",
   "execution_count": 73,
   "metadata": {},
   "outputs": [],
   "source": [
    "%reload_ext memory_profiler"
   ]
  },
  {
   "cell_type": "code",
   "execution_count": 5,
   "metadata": {},
   "outputs": [],
   "source": [
    "# !/home/dev/Desktop/Work/uncoverml/venv/bin/ray start --head --port=6379 --num-cpus=1"
   ]
  },
  {
   "cell_type": "code",
   "execution_count": 6,
   "metadata": {},
   "outputs": [],
   "source": [
    "# !/home/dev/Desktop/Work/uncoverml/venv/bin/ray --version"
   ]
  },
  {
   "cell_type": "code",
   "execution_count": 7,
   "metadata": {},
   "outputs": [
    {
     "data": {
      "text/plain": [
       "'1.1.0'"
      ]
     },
     "execution_count": 7,
     "metadata": {},
     "output_type": "execute_result"
    }
   ],
   "source": [
    "ray.__version__"
   ]
  },
  {
   "cell_type": "code",
   "execution_count": 8,
   "metadata": {},
   "outputs": [],
   "source": [
    "# !/home/dev/Desktop/Work/uncoverml/venv/bin/ray stop"
   ]
  },
  {
   "cell_type": "code",
   "execution_count": 9,
   "metadata": {},
   "outputs": [
    {
     "name": "stderr",
     "output_type": "stream",
     "text": [
      "2021-02-08 14:32:44,804\tINFO services.py:1171 -- View the Ray dashboard at \u001b[1m\u001b[32mhttp://127.0.0.1:8265\u001b[39m\u001b[22m\n"
     ]
    },
    {
     "data": {
      "text/plain": [
       "{'node_ip_address': '192.168.11.161',\n",
       " 'raylet_ip_address': '192.168.11.161',\n",
       " 'redis_address': '192.168.11.161:6379',\n",
       " 'object_store_address': '/tmp/ray/session_2021-02-08_14-32-44_288352_77843/sockets/plasma_store',\n",
       " 'raylet_socket_name': '/tmp/ray/session_2021-02-08_14-32-44_288352_77843/sockets/raylet',\n",
       " 'webui_url': '127.0.0.1:8265',\n",
       " 'session_dir': '/tmp/ray/session_2021-02-08_14-32-44_288352_77843',\n",
       " 'metrics_export_port': 53568,\n",
       " 'node_id': '7caab62b98d38e037972e31c106010e35a4f3a75'}"
      ]
     },
     "execution_count": 9,
     "metadata": {},
     "output_type": "execute_result"
    }
   ],
   "source": [
    "ray.init(num_cpus=20, num_gpus=4)"
   ]
  },
  {
   "cell_type": "code",
   "execution_count": 15,
   "metadata": {},
   "outputs": [],
   "source": [
    "ray.shutdown()"
   ]
  },
  {
   "cell_type": "code",
   "execution_count": 84,
   "metadata": {},
   "outputs": [
    {
     "data": {
      "text/html": [
       "== Status ==<br>Memory usage on this node: 11.5/125.5 GiB<br>Using FIFO scheduling algorithm.<br>Resources requested: 0/20 CPUs, 0/4 GPUs, 0.0/73.63 GiB heap, 0.0/24.51 GiB objects (0/1.0 accelerator_type:RTX)<br>Result logdir: /home/dev/ray_results/_Trainable_2021-02-08_05-44-38<br>Number of trials: 300/300 (300 TERMINATED)<br><br>"
      ],
      "text/plain": [
       "<IPython.core.display.HTML object>"
      ]
     },
     "metadata": {},
     "output_type": "display_data"
    },
    {
     "name": "stderr",
     "output_type": "stream",
     "text": [
      "2021-02-08 09:04:14,218\tINFO tune.py:448 -- Total run time: 11975.73 seconds (11975.57 seconds for the tuning loop).\n"
     ]
    },
    {
     "name": "stdout",
     "output_type": "stream",
     "text": [
      "Tune Fit Time: 12009.920269966125\n"
     ]
    }
   ],
   "source": [
    "# read the csv file created\n",
    "\n",
    "input_files = [\n",
    "    Path(\"../data/formated_dataset.csv\"),\n",
    "    Path(\"../data/scaler_df.csv\"),\n",
    "    Path(\"../data/quantile_df.csv\"),\n",
    "]\n",
    "\n",
    "\n",
    "features_to_use = [\"target\",\"Grav_lane_clip\",\"clim_PTA_albers\",\"be-30y-85m-avg-ND-RED-BLUE.filled.lzw.nodata\",\"3dem_mag1_fin\",\"ceno_euc_aust1\",\"be-30y-85m-avg-ND-SWIR1-NIR.filled.lzw.nodata\",\"Thorium_2016\",\"dem_fill\",\"relief_elev_focalrange1000m_3s\",\"LATITUDE_GRID1_clip\",\"LOC_distance_to_coast\",\"clim_EPA_albers\",\"be-30y-85m-avg-ND-SWIR1-SWIR2.filled.lzw.nodata\",\"LONGITUDE_GRID1_clip\",\"si_geol1\",\"3dem_mag2\",\"clim_WDA_albers\",\"Dose_2016\",\"Clim_Prescott_LindaGregory\",\"Potassium_2016\",\"mrvbf_9\",\"Rad2016K_Th\",\"be-30y-85m-avg-ND-NIR-GREEN.filled.lzw.nodata\",\"clim_RSM_albers\",\"3dem_mag0.fin\",\"s2-dpca-85m_1\",\"water-85m_3\",\"saga_wetSM_85_reprojected\"]\n",
    "\n",
    "parameters = {\n",
    "    \"objective\": [\"reg:squarederror\"],\n",
    "    \"gamma\":[0],\n",
    "    \"eval_metric\": [\"rmse\", \"mae\",\"logloss\",\"auc\"],\n",
    "    \"n_estimators\":[500, 700],\n",
    "    \"max_depth\":[3, 15],\n",
    "    \"subsample\":[0.8, 1],\n",
    "    \"min_child_weight\":[10, 20],\n",
    "    \"learning_rate\":[0.01, 0.2],\n",
    "    \"colsample_bytree\":[0.5,1]\n",
    "}\n",
    "\n",
    "model=XGBRegressor(objective='reg:squarederror', tree_method='gpu_hist',n_jobs=-1,eval_metric=None)\n",
    "\n",
    "xgb_tune_search = TuneSearchCV(\n",
    "    model,\n",
    "    parameters,\n",
    "\n",
    "    search_optimization=\"bayesian\",\n",
    "    n_jobs=-1,\n",
    "    n_trials=300,\n",
    "    early_stopping=False,\n",
    "    scoring='r2',\n",
    "\n",
    "    verbose=1,\n",
    "    return_train_score=True,\n",
    "    loggers=[\"csv\"],\n",
    "    use_gpu=True\n",
    ")\n",
    "\n",
    "for input_file in input_files:\n",
    "\n",
    "    print(\"Input file: \",input_file)\n",
    "    df = pd.read_csv(input_file).astype('float32')\n",
    "    df = df[~df.isin([np.nan, np.inf, -np.inf,-9999.0]).any(1)]\n",
    "    df = df[features_to_use]\n",
    "    y_train = df['target']\n",
    "    X_train = df.drop(\"target\",axis=1)\n",
    "    \n",
    "    start = time.time()\n",
    "    xgb_tune_search.fit(X_train, y_train)\n",
    "    end = time.time()\n",
    "    print(\"Tune Fit Time:\", end - start)  \n",
    "    \n",
    "    fileObj = open('xgb_tune_search'+input_file.stem+'.pkl', 'wb')\n",
    "    pickle.dump(xgb_tune_search,fileObj)\n",
    "    fileObj.close()\n",
    "    "
   ]
  },
  {
   "cell_type": "markdown",
   "metadata": {},
   "source": [
    "## Setup Bayesian search with reporting OOS results "
   ]
  },
  {
   "cell_type": "code",
   "execution_count": 14,
   "metadata": {},
   "outputs": [
    {
     "name": "stdout",
     "output_type": "stream",
     "text": [
      "Input file:  ../data/formated_dataset.csv\n",
      "Input oos file:  ../data/formated_oos_dataset.csv\n",
      "Training results: {'r2': 0.9736, 'MAE': 0.0308, 'MSE': 0.0046, 'RMSE': 0.068, 'explained_variance': 0.9736}\n",
      "OOS results: {'r2': 0.7567, 'MAE': 0.6192, 'MSE': 1.1911, 'RMSE': 1.0914, 'explained_variance': 0.7617}\n",
      "\n",
      "\n"
     ]
    }
   ],
   "source": [
    "input_files = [\n",
    "    (Path(\"../data/formated_dataset.csv\"),Path(\"../data/formated_oos_dataset.csv\")),\n",
    "    (Path(\"../data/scaler_df.csv\"),Path(\"../data/scaler_oos_df.csv\")),\n",
    "    (Path(\"../data/quantile_df.csv\"),Path(\"../data/quantile_oos_df.csv\"))\n",
    "]\n",
    "\n",
    "\n",
    "features_to_use = [\"target\",\"Grav_lane_clip\",\"clim_PTA_albers\",\"be-30y-85m-avg-ND-RED-BLUE.filled.lzw.nodata\",\"3dem_mag1_fin\",\"ceno_euc_aust1\",\"be-30y-85m-avg-ND-SWIR1-NIR.filled.lzw.nodata\",\"Thorium_2016\",\"dem_fill\",\"relief_elev_focalrange1000m_3s\",\"LATITUDE_GRID1_clip\",\"LOC_distance_to_coast\",\"clim_EPA_albers\",\"be-30y-85m-avg-ND-SWIR1-SWIR2.filled.lzw.nodata\",\"LONGITUDE_GRID1_clip\",\"si_geol1\",\"3dem_mag2\",\"clim_WDA_albers\",\"Dose_2016\",\"Clim_Prescott_LindaGregory\",\"Potassium_2016\",\"mrvbf_9\",\"Rad2016K_Th\",\"be-30y-85m-avg-ND-NIR-GREEN.filled.lzw.nodata\",\"clim_RSM_albers\",\"3dem_mag0.fin\",\"s2-dpca-85m_1\",\"water-85m_3\",\"saga_wetSM_85_reprojected\"]\n",
    "\n",
    "input_file,input_oos_file = input_files[0]\n",
    "\n",
    "# read input dataset\n",
    "print(\"Input file: \",input_file)\n",
    "df = pd.read_csv(input_file).astype('float32')\n",
    "df = df[~df.isin([np.nan, np.inf, -np.inf,-9999.0]).any(1)]\n",
    "df = df[features_to_use]\n",
    "y_train = df['target']\n",
    "X_train = df.drop(\"target\",axis=1)\n",
    "\n",
    "# read oos dataset\n",
    "print(\"Input oos file: \",input_oos_file)\n",
    "df = pd.read_csv(input_oos_file).astype('float32')\n",
    "df = df[~df.isin([np.nan, np.inf, -np.inf,-9999.0]).any(1)]\n",
    "df = df[features_to_use]\n",
    "y_oos = df['target']\n",
    "X_oos = df.drop(\"target\",axis=1)\n",
    "\n",
    "# read previous results\n",
    "with open('xgb_tune_search'+input_file.stem+'.pkl', \"rb\") as f:\n",
    "    xgb_tune_search = pickle.load(f)\n",
    "best_model = xgb_tune_search.best_estimator_\n",
    "\n",
    "y_train_pred = best_model.predict(X_train)\n",
    "results_oss = regression_results(y_train, y_train_pred)\n",
    "print(\"Training results:\",results_oss)\n",
    "\n",
    "y_oos_pred = best_model.predict(X_oos)\n",
    "results_oss = regression_results(y_oos, y_oos_pred)\n",
    "print(\"OOS results:\",results_oss)\n",
    "print()\n",
    "print()\n"
   ]
  },
  {
   "cell_type": "code",
   "execution_count": 37,
   "metadata": {},
   "outputs": [],
   "source": [
    "experiments = {}\n",
    "total_experiments = len(xgb_tune_search.cv_results_[\"params\"])\n",
    "\n",
    "for i in range(total_experiments):\n",
    "    experiments[i] = {}\n",
    "    experiments[i][\"test_score\"] = {}\n",
    "    experiments[i][\"train_score\"] = {}\n",
    "    for key in xgb_tune_search.cv_results_.keys():\n",
    "        if \"param_\" not in key:\n",
    "            if \"test\" in key:\n",
    "                experiments[i][\"test_score\"][key] = xgb_tune_search.cv_results_[key][i]\n",
    "            elif \"train\" in key:\n",
    "                experiments[i][\"train_score\"][key] = xgb_tune_search.cv_results_[key][i]\n",
    "            else:\n",
    "                experiments[i][key] = xgb_tune_search.cv_results_[key][i]\n",
    "        "
   ]
  },
  {
   "cell_type": "code",
   "execution_count": 46,
   "metadata": {},
   "outputs": [
    {
     "name": "stdout",
     "output_type": "stream",
     "text": [
      "Input file:  ../data/formated_dataset.csv\n",
      "Input oos file:  ../data/formated_oos_dataset.csv\n"
     ]
    }
   ],
   "source": [
    "# read the csv file created\n",
    "input_files = [\n",
    "    Path(\"../data/formated_dataset.csv\"),\n",
    "    Path(\"../data/scaler_df.csv\"),\n",
    "    Path(\"../data/quantile_df.csv\")\n",
    "]\n",
    "\n",
    "input_oos_files = [\n",
    "    Path(\"../data/formated_oos_dataset.csv\"),\n",
    "    Path(\"../data/scaler_oos_df.csv\"),\n",
    "    Path(\"../data/quantile_oos_df.csv\")\n",
    "]\n",
    "\n",
    "features_to_use = [\"target\",\"Grav_lane_clip\",\"clim_PTA_albers\",\"be-30y-85m-avg-ND-RED-BLUE.filled.lzw.nodata\",\"3dem_mag1_fin\",\"ceno_euc_aust1\",\"be-30y-85m-avg-ND-SWIR1-NIR.filled.lzw.nodata\",\"Thorium_2016\",\"dem_fill\",\"relief_elev_focalrange1000m_3s\",\"LATITUDE_GRID1_clip\",\"LOC_distance_to_coast\",\"clim_EPA_albers\",\"be-30y-85m-avg-ND-SWIR1-SWIR2.filled.lzw.nodata\",\"LONGITUDE_GRID1_clip\",\"si_geol1\",\"3dem_mag2\",\"clim_WDA_albers\",\"Dose_2016\",\"Clim_Prescott_LindaGregory\",\"Potassium_2016\",\"mrvbf_9\",\"Rad2016K_Th\",\"be-30y-85m-avg-ND-NIR-GREEN.filled.lzw.nodata\",\"clim_RSM_albers\",\"3dem_mag0.fin\",\"s2-dpca-85m_1\",\"water-85m_3\",\"saga_wetSM_85_reprojected\"]\n",
    "\n",
    "input_file = input_files[0]\n",
    "print(\"Input file: \",input_file)\n",
    "df = pd.read_csv(input_file).astype('float32')\n",
    "df = df[~df.isin([np.nan, np.inf, -np.inf,-9999.0]).any(1)]\n",
    "df = df[features_to_use]\n",
    "y = df['target']\n",
    "X = df.drop(\"target\",axis=1)\n",
    "\n",
    "input_oos_file = input_oos_files[0]\n",
    "print(\"Input oos file: \",input_oos_file)\n",
    "df = pd.read_csv(input_oos_file).astype('float32')\n",
    "df = df[~df.isin([np.nan, np.inf, -np.inf,-9999.0]).any(1)]\n",
    "df = df[features_to_use]\n",
    "y_oos = df['target']\n",
    "X_oos = df.drop(\"target\",axis=1)\n",
    "\n",
    "\n"
   ]
  },
  {
   "cell_type": "code",
   "execution_count": null,
   "metadata": {},
   "outputs": [],
   "source": [
    "experiments[0]"
   ]
  },
  {
   "cell_type": "code",
   "execution_count": 84,
   "metadata": {},
   "outputs": [
    {
     "name": "stdout",
     "output_type": "stream",
     "text": [
      "len 300\n",
      "0\n",
      "1\n",
      "2\n",
      "3\n",
      "4\n",
      "5\n",
      "6\n",
      "7\n",
      "8\n",
      "9\n",
      "10\n",
      "11\n",
      "12\n",
      "13\n",
      "14\n",
      "15\n",
      "16\n",
      "17\n",
      "18\n",
      "19\n",
      "20\n",
      "21\n",
      "22\n",
      "23\n",
      "24\n",
      "25\n",
      "26\n",
      "27\n",
      "28\n",
      "29\n",
      "30\n",
      "31\n",
      "32\n",
      "33\n",
      "34\n",
      "35\n",
      "36\n",
      "37\n",
      "38\n",
      "39\n",
      "40\n",
      "41\n",
      "42\n",
      "43\n",
      "44\n",
      "45\n",
      "46\n",
      "47\n",
      "48\n",
      "49\n",
      "50\n",
      "51\n",
      "52\n",
      "53\n",
      "54\n",
      "55\n",
      "56\n",
      "57\n",
      "58\n",
      "59\n",
      "60\n",
      "61\n",
      "62\n",
      "63\n",
      "64\n",
      "65\n",
      "66\n",
      "67\n",
      "68\n",
      "69\n",
      "70\n",
      "71\n",
      "72\n",
      "73\n",
      "74\n",
      "75\n",
      "76\n",
      "77\n",
      "78\n",
      "79\n",
      "80\n",
      "81\n",
      "82\n",
      "83\n",
      "84\n",
      "85\n",
      "86\n",
      "87\n",
      "88\n",
      "89\n",
      "90\n",
      "91\n",
      "92\n",
      "93\n",
      "94\n",
      "95\n",
      "96\n",
      "97\n",
      "98\n",
      "99\n",
      "100\n",
      "101\n",
      "102\n",
      "103\n",
      "104\n",
      "105\n",
      "106\n",
      "107\n",
      "108\n",
      "109\n",
      "110\n",
      "111\n",
      "112\n",
      "113\n",
      "114\n",
      "115\n",
      "116\n",
      "117\n",
      "118\n",
      "119\n",
      "120\n",
      "121\n",
      "122\n",
      "123\n",
      "124\n",
      "125\n",
      "126\n",
      "127\n",
      "128\n",
      "129\n",
      "130\n",
      "131\n",
      "132\n",
      "133\n",
      "134\n",
      "135\n",
      "136\n",
      "137\n",
      "138\n",
      "139\n",
      "140\n",
      "141\n",
      "142\n",
      "143\n",
      "144\n",
      "145\n",
      "146\n",
      "147\n",
      "148\n",
      "149\n",
      "150\n",
      "151\n",
      "152\n",
      "153\n",
      "154\n",
      "155\n",
      "156\n",
      "157\n",
      "158\n",
      "159\n",
      "160\n",
      "161\n",
      "162\n",
      "163\n",
      "164\n",
      "165\n",
      "166\n",
      "167\n",
      "168\n",
      "169\n",
      "170\n",
      "171\n",
      "172\n",
      "173\n",
      "174\n",
      "175\n",
      "176\n",
      "177\n",
      "178\n",
      "179\n",
      "180\n",
      "181\n",
      "182\n",
      "183\n",
      "184\n",
      "185\n",
      "186\n",
      "187\n",
      "188\n",
      "189\n",
      "190\n",
      "191\n",
      "192\n",
      "193\n",
      "194\n",
      "195\n",
      "196\n",
      "197\n",
      "198\n",
      "199\n",
      "200\n",
      "201\n",
      "202\n",
      "203\n",
      "204\n",
      "205\n",
      "206\n",
      "207\n",
      "208\n",
      "209\n",
      "210\n",
      "211\n",
      "212\n",
      "213\n",
      "214\n",
      "215\n",
      "216\n",
      "217\n",
      "218\n",
      "219\n",
      "220\n",
      "221\n",
      "222\n",
      "223\n",
      "224\n",
      "225\n",
      "226\n",
      "227\n",
      "228\n",
      "229\n",
      "230\n",
      "231\n",
      "232\n",
      "233\n",
      "234\n",
      "235\n",
      "236\n",
      "237\n",
      "238\n",
      "239\n",
      "240\n",
      "241\n",
      "242\n",
      "243\n",
      "244\n",
      "245\n",
      "246\n",
      "247\n",
      "248\n",
      "249\n",
      "250\n",
      "251\n",
      "252\n",
      "253\n",
      "254\n",
      "255\n",
      "256\n",
      "257\n",
      "258\n",
      "259\n",
      "260\n",
      "261\n",
      "262\n",
      "263\n",
      "264\n",
      "265\n",
      "266\n",
      "267\n",
      "268\n",
      "269\n",
      "270\n",
      "271\n",
      "272\n",
      "273\n",
      "274\n",
      "275\n",
      "276\n",
      "277\n",
      "278\n",
      "279\n",
      "280\n",
      "281\n",
      "282\n",
      "283\n",
      "284\n",
      "285\n",
      "286\n",
      "287\n",
      "288\n",
      "289\n",
      "290\n",
      "291\n",
      "292\n",
      "293\n",
      "294\n",
      "295\n",
      "296\n",
      "297\n",
      "298\n",
      "299\n",
      "CPU times: user 4h 50min 11s, sys: 2min 4s, total: 4h 52min 16s\n",
      "Wall time: 4h 30min 57s\n"
     ]
    }
   ],
   "source": [
    "%%time\n",
    "\n",
    "print(\"len\",len(experiments))\n",
    "for experiment in experiments:\n",
    "    print(experiment)\n",
    "    xgbr = XGBRegressor(tree_method='gpu_hist',n_jobs=-1,verbosity=1,**experiments[experiment][\"params\"])\n",
    "    xgbr.fit(X, y)\n",
    "    y_pred = xgbr.predict(X_oos)\n",
    "    oos_score = r2_score(y_oos, y_pred)\n",
    "    experiments[experiment][\"oos_score\"] = oos_score\n",
    "    "
   ]
  },
  {
   "cell_type": "code",
   "execution_count": 86,
   "metadata": {},
   "outputs": [],
   "source": [
    "fileObj = open('experiment_oos.pkl', 'wb')\n",
    "pickle.dump(experiments,fileObj)\n",
    "fileObj.close()"
   ]
  },
  {
   "cell_type": "code",
   "execution_count": 67,
   "metadata": {},
   "outputs": [
    {
     "name": "stdout",
     "output_type": "stream",
     "text": [
      "K-fold CV scores:  [0.90798124 0.90807436 0.90581892 0.90241524 0.90520274]\n",
      "K-fold CV average score: 0.91\n",
      "R2: 0.79\n",
      "MSE: 1.04\n",
      "RMSE: 1.02\n"
     ]
    }
   ],
   "source": [
    "from sklearn.metrics import mean_squared_error, r2_score\n",
    "# - cross validataion \n",
    "kfold = KFold(n_splits=5, random_state=0, shuffle=True)\n",
    "kf_cv_scores = cross_val_score(xgbr, X, y, cv=kfold )\n",
    "print(\"K-fold CV scores: \", kf_cv_scores)\n",
    "print(\"K-fold CV average score: %.2f\" % kf_cv_scores.mean())\n",
    "\n",
    "oos_score = {}\n",
    "oos_score[\"oos_score\"]\n",
    "\n",
    "for i, oos_kf_score in enumerate(kf_cv_scores):\n",
    "    score_tag = \"split\"+str(i)+\"_oos_score\"\n",
    "    oos_score[\"oos_score\"][score_tag] = oos_kf_score\n",
    "    \n",
    "\n",
    "ypred = xgbr.predict(X_oos)\n",
    "mse = mean_squared_error(y_oos, ypred)\n",
    "r2 = r2_score(y_oos, ypred)\n",
    "print(\"R2: %.2f\" % r2)\n",
    "print(\"MSE: %.2f\" % mse)\n",
    "print(\"RMSE: %.2f\" % (mse**(1/2.0)))\n"
   ]
  },
  {
   "cell_type": "code",
   "execution_count": 65,
   "metadata": {},
   "outputs": [
    {
     "data": {
      "image/png": "[encoded data removed]",
      "text/plain": [
       "<Figure size 432x288 with 1 Axes>"
      ]
     },
     "metadata": {
      "needs_background": "light"
     },
     "output_type": "display_data"
    }
   ],
   "source": [
    "x_ax = range(len(y_oos))\n",
    "plt.scatter(x_ax, y_oos, s=5, color=\"blue\", label=\"original\")\n",
    "plt.scatter(x_ax, ypred, s=5, color=\"red\", label=\"predicted\")\n",
    "plt.legend()\n",
    "plt.show()"
   ]
  },
  {
   "cell_type": "code",
   "execution_count": 63,
   "metadata": {},
   "outputs": [
    {
     "name": "stdout",
     "output_type": "stream",
     "text": [
      "results:  {'r2': 0.9092, 'MAE': 0.0609, 'MSE': 0.0076, 'RMSE': 0.0874, 'explained_variance': 0.9092}\n",
      "XGBOOST HyperParameter Tuning  0.003015621503194173 minutes ---\n"
     ]
    }
   ],
   "source": [
    "## Fit with cross validation\n",
    "start_time = time.time()\n",
    "# xgb_tune_search.best_estimator_.fit(X_test, y_test)   \n",
    "y_pred = xgb_tune_search.best_estimator_.predict(X_test)\n",
    "duration = (time.time() - start_time)/60       \n",
    "print(\"results: \",regression_results(y_test, y_pred))\n",
    "print(\"XGBOOST HyperParameter Tuning  %s minutes ---\" % + duration)"
   ]
  },
  {
   "cell_type": "markdown",
   "metadata": {},
   "source": [
    "## OOS Testing"
   ]
  },
  {
   "cell_type": "code",
   "execution_count": 43,
   "metadata": {},
   "outputs": [
    {
     "name": "stdout",
     "output_type": "stream",
     "text": [
      "Input file:  ../data/formated_dataset.csv\n",
      "Input oos file:  ../data/formated_oos_dataset.csv\n"
     ]
    }
   ],
   "source": [
    "# read the csv file created\n",
    "input_files = [\n",
    "    Path(\"../data/formated_dataset.csv\"),\n",
    "    Path(\"../data/scaler_df.csv\"),\n",
    "    Path(\"../data/quantile_df.csv\")\n",
    "]\n",
    "\n",
    "input_oos_files = [\n",
    "    Path(\"../data/formated_oos_dataset.csv\"),\n",
    "    Path(\"../data/scaler_oos_df.csv\"),\n",
    "    Path(\"../data/quantile_oos_df.csv\")\n",
    "]\n",
    "\n",
    "features_to_use = [\"target\",\"Grav_lane_clip\",\"clim_PTA_albers\",\"be-30y-85m-avg-ND-RED-BLUE.filled.lzw.nodata\",\"3dem_mag1_fin\",\"ceno_euc_aust1\",\"be-30y-85m-avg-ND-SWIR1-NIR.filled.lzw.nodata\",\"Thorium_2016\",\"dem_fill\",\"relief_elev_focalrange1000m_3s\",\"LATITUDE_GRID1_clip\",\"LOC_distance_to_coast\",\"clim_EPA_albers\",\"be-30y-85m-avg-ND-SWIR1-SWIR2.filled.lzw.nodata\",\"LONGITUDE_GRID1_clip\",\"si_geol1\",\"3dem_mag2\",\"clim_WDA_albers\",\"Dose_2016\",\"Clim_Prescott_LindaGregory\",\"Potassium_2016\",\"mrvbf_9\",\"Rad2016K_Th\",\"be-30y-85m-avg-ND-NIR-GREEN.filled.lzw.nodata\",\"clim_RSM_albers\",\"3dem_mag0.fin\",\"s2-dpca-85m_1\",\"water-85m_3\",\"saga_wetSM_85_reprojected\"]\n",
    "\n",
    "input_file = input_files[0]\n",
    "print(\"Input file: \",input_file)\n",
    "df = pd.read_csv(input_file).astype('float32')\n",
    "df = df[~df.isin([np.nan, np.inf, -np.inf,-9999.0]).any(1)]\n",
    "df = df[features_to_use]\n",
    "y = df['target']\n",
    "X = df.drop(\"target\",axis=1)\n",
    "\n",
    "input_oos_file = input_oos_files[0]\n",
    "print(\"Input oos file: \",input_oos_file)\n",
    "df = pd.read_csv(input_oos_file).astype('float32')\n",
    "df = df[~df.isin([np.nan, np.inf, -np.inf,-9999.0]).any(1)]\n",
    "df = df[features_to_use]\n",
    "y_oos = df['target']\n",
    "X_oos = df.drop(\"target\",axis=1)\n",
    "\n",
    "\n"
   ]
  },
  {
   "cell_type": "code",
   "execution_count": 71,
   "metadata": {},
   "outputs": [
    {
     "name": "stdout",
     "output_type": "stream",
     "text": [
      "OOS results:\n",
      "{'r2': 0.7721, 'MAE': 0.5843, 'MSE': 1.1158, 'RMSE': 1.0563, 'explained_variance': 0.7766}\n"
     ]
    }
   ],
   "source": [
    "# OOS sample dataset\n",
    "# need to itrate over all the models that are selected!!\n",
    "best_model = xgb_tune_search.best_estimator_\n",
    "y_pred = best_model.predict(X_oos)\n",
    "results_oss = regression_results(y_oos, y_pred)\n",
    "print(\"OOS results:\",results_oss)\n",
    "\n"
   ]
  },
  {
   "cell_type": "code",
   "execution_count": 72,
   "metadata": {},
   "outputs": [
    {
     "name": "stdout",
     "output_type": "stream",
     "text": [
      "Training results:\n",
      "{'r2': 0.9831, 'MAE': 0.0259, 'MSE': 0.003, 'RMSE': 0.0544, 'explained_variance': 0.9831}\n"
     ]
    }
   ],
   "source": [
    "# OOS sample dataset\n",
    "# need to itrate over all the models that are selected!!\n",
    "best_model = xgb_tune_search.best_estimator_\n",
    "y_pred = best_model.predict(X)\n",
    "results_oss = regression_results(y, y_pred)\n",
    "print(\"Training results:\")\n",
    "print(results_oss)"
   ]
  },
  {
   "cell_type": "code",
   "execution_count": 55,
   "metadata": {},
   "outputs": [
    {
     "data": {
      "text/plain": [
       "XGBRegressor(base_score=0.5, booster='gbtree', colsample_bylevel=1,\n",
       "             colsample_bynode=1, colsample_bytree=0.5, eval_metric='auc',\n",
       "             gamma=0, gpu_id=0, importance_type='gain',\n",
       "             interaction_constraints='', learning_rate=0.01521019979455194,\n",
       "             max_delta_step=0, max_depth=15, min_child_weight=20, missing=nan,\n",
       "             monotone_constraints='()', n_estimators=544, n_jobs=-1,\n",
       "             num_parallel_tree=1, random_state=0, reg_alpha=0, reg_lambda=1,\n",
       "             scale_pos_weight=1, subsample=1.0, tree_method='gpu_hist',\n",
       "             validate_parameters=1, verbosity=None)"
      ]
     },
     "execution_count": 55,
     "metadata": {},
     "output_type": "execute_result"
    }
   ],
   "source": [
    "xgb_tune_search.best_estimator_"
   ]
  },
  {
   "cell_type": "code",
   "execution_count": null,
   "metadata": {},
   "outputs": [],
   "source": []
  }
 ],
 "metadata": {
  "kernelspec": {
   "display_name": "Python 3",
   "language": "python",
   "name": "python3"
  },
  "language_info": {
   "codemirror_mode": {
    "name": "ipython",
    "version": 3
   },
   "file_extension": ".py",
   "mimetype": "text/x-python",
   "name": "python",
   "nbconvert_exporter": "python",
   "pygments_lexer": "ipython3",
   "version": "3.8.5"
  }
 },
 "nbformat": 4,
 "nbformat_minor": 4
}
