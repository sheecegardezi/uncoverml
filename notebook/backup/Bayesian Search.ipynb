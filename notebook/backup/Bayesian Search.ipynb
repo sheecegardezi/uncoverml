{
 "cells": [
  {
   "cell_type": "code",
   "execution_count": null,
   "metadata": {},
   "outputs": [],
   "source": [
    "import csv\n",
    "import time  # Just to compare fit times\n",
    "from pathlib import Path\n",
    "from pprint import pprint"
   ]
  },
  {
   "cell_type": "code",
   "execution_count": null,
   "metadata": {},
   "outputs": [],
   "source": [
    "import numpy as np\n",
    "import ray\n",
    "import xgboost as xgb\n",
    "from matplotlib import pyplot as plt\n",
    "from sklearn import metrics\n",
    "from sklearn.model_selection import train_test_split\n",
    "from tune_sklearn import TuneSearchCV\n",
    "from xgboost import XGBRegressor"
   ]
  },
  {
   "cell_type": "code",
   "execution_count": null,
   "metadata": {},
   "outputs": [],
   "source": [
    "%load_ext memory_profiler"
   ]
  },
  {
   "cell_type": "code",
   "execution_count": null,
   "metadata": {},
   "outputs": [],
   "source": [
    "!~/.local/bin/ray start --head --port=6379 --num-cpus=20"
   ]
  },
  {
   "cell_type": "code",
   "execution_count": null,
   "metadata": {},
   "outputs": [],
   "source": [
    "#!~/.local/bin/ray stop"
   ]
  },
  {
   "cell_type": "code",
   "execution_count": null,
   "metadata": {},
   "outputs": [],
   "source": [
    "ray.init(address='auto', _redis_password='5241590000000000')"
   ]
  },
  {
   "cell_type": "code",
   "execution_count": null,
   "metadata": {},
   "outputs": [],
   "source": [
    "ray.shutdown()"
   ]
  },
  {
   "cell_type": "code",
   "execution_count": null,
   "metadata": {},
   "outputs": [],
   "source": [
    "# read the csv file created\n",
    "train = np.genfromtxt(str(root)+'/input_dataset.csv', delimiter=',')\n",
    "train = train.astype(np.float32)\n",
    "train = train[~np.isnan(train).any(axis=1)]\n",
    "train = train[~(train == -9999.0).any(axis=1)]\n",
    "\n",
    "X, y = train[:, 1:], train[:, :1]\n",
    "y = y.ravel()\n",
    "\n",
    "# Set training and validation sets\n",
    "X_train, X_test, y_train, y_test = train_test_split(X, y, test_size=0.33)"
   ]
  },
  {
   "cell_type": "code",
   "execution_count": null,
   "metadata": {},
   "outputs": [],
   "source": [
    "# XGBoost\n",
    "parameters = {\n",
    "    \"eval_metric\": ['logloss', 'error', \"auc\"],\n",
    "    \"n_estimators\": [2, 5, 10],\n",
    "    \"max_depth\": [5, 10],\n",
    "    \"learning_rate\": [1, 10]\n",
    "}\n",
    "\n",
    "xgb_tune_search = TuneSearchCV(\n",
    "    XGBRegressor(objective='reg:squarederror', colsample_bytree=0.3, alpha=10),\n",
    "    parameters,\n",
    "\n",
    "    search_optimization=\"bayesian\",\n",
    "    max_iters=10,\n",
    "    n_jobs=90,\n",
    "    n_trials=100,\n",
    "    early_stopping=True,\n",
    "\n",
    "    verbose=1,\n",
    "    return_train_score=True,\n",
    "    loggers=[\"csv\"],\n",
    "\n",
    ")\n",
    "\n",
    "start = time.time()\n",
    "xgb_tune_search.fit(X_train, y_train)\n",
    "end = time.time()\n",
    "print(\"Tune Fit Time:\", end - start)\n",
    "y_pred = xgb_tune_search.predict(X_test)\n"
   ]
  },
  {
   "cell_type": "code",
   "execution_count": null,
   "metadata": {},
   "outputs": [],
   "source": [
    "xgb_tune_search.best_estimator_"
   ]
  },
  {
   "cell_type": "code",
   "execution_count": null,
   "metadata": {},
   "outputs": [],
   "source": [
    "def regression_results(y_true, y_pred):\n",
    "\n",
    "    # Regression metrics\n",
    "    explained_variance = metrics.explained_variance_score(y_true, y_pred)\n",
    "    mean_absolute_error = metrics.mean_absolute_error(y_true, y_pred)\n",
    "    mse = metrics.mean_squared_error(y_true, y_pred)\n",
    "    metrics.median_absolute_error(y_true, y_pred)\n",
    "    r2 = metrics.r2_score(y_true, y_pred)\n",
    "\n",
    "    return {'r2': round(r2, 4), 'MAE': round(mean_absolute_error, 4), 'MSE': round(mse, 4), 'RMSE': round(np.sqrt(mse), 4), \"explained_variance\": round(explained_variance, 4)}"
   ]
  },
  {
   "cell_type": "code",
   "execution_count": null,
   "metadata": {},
   "outputs": [],
   "source": [
    "regression_results(y_test, y_pred)"
   ]
  },
  {
   "cell_type": "code",
   "execution_count": null,
   "metadata": {},
   "outputs": [],
   "source": []
  },
  {
   "cell_type": "code",
   "execution_count": null,
   "metadata": {},
   "outputs": [],
   "source": []
  }
 ],
 "metadata": {
  "kernelspec": {
   "display_name": "Python 3",
   "language": "python",
   "name": "python3"
  },
  "language_info": {
   "codemirror_mode": {
    "name": "ipython",
    "version": 3
   },
   "file_extension": ".py",
   "mimetype": "text/x-python",
   "name": "python",
   "nbconvert_exporter": "python",
   "pygments_lexer": "ipython3",
   "version": "3.7.4"
  }
 },
 "nbformat": 4,
 "nbformat_minor": 4
}
