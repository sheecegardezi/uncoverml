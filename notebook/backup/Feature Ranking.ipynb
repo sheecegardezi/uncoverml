{
 "cells": [
  {
   "cell_type": "markdown",
   "metadata": {},
   "source": [
    "## feature ranking with elimination"
   ]
  },
  {
   "cell_type": "raw",
   "metadata": {},
   "source": [
    "Algorithm for feature elimination:\n",
    "\n",
    "Repeat N times, where n is the total number of features\n",
    "-For a feature in the list_of_features:\n",
    "--train a model (fixed parameters) using all the features in the list_of_features except feature\n",
    "--get performance score for the trained model\n",
    "-remove the feature with least significance to the performance of the model\n",
    "--list_of_features.pop(feature)"
   ]
  },
  {
   "cell_type": "code",
   "execution_count": 1,
   "metadata": {},
   "outputs": [],
   "source": [
    "from pathlib import Path"
   ]
  },
  {
   "cell_type": "code",
   "execution_count": 2,
   "metadata": {},
   "outputs": [],
   "source": [
    "import csv\n",
    "import time  # Just to compare fit times\n",
    "from pathlib import Path\n",
    "from pprint import pprint\n",
    "import csv\n",
    "import multiprocessing"
   ]
  },
  {
   "cell_type": "code",
   "execution_count": 3,
   "metadata": {
    "lines_to_next_cell": 2
   },
   "outputs": [],
   "source": [
    "import numpy as np\n",
    "# import xgboost as xgb\n",
    "from matplotlib import pyplot as plt\n",
    "from sklearn import metrics\n",
    "from sklearn.model_selection import train_test_split\n",
    "import lightgbm as lgb\n",
    "import xgboost as xgb\n",
    "# from tune_sklearn import TuneSearchCV\n",
    "# from xgboost import XGBRegressor\n",
    "# import xgboost as xgb\n"
   ]
  },
  {
   "cell_type": "code",
   "execution_count": 8,
   "metadata": {},
   "outputs": [],
   "source": [
    "input_dataset_path = Path('../../data/input_dataset_filtered.csv')"
   ]
  },
  {
   "cell_type": "code",
   "execution_count": 9,
   "metadata": {},
   "outputs": [
    {
     "name": "stdout",
     "output_type": "stream",
     "text": [
      "CPU times: user 15.4 s, sys: 934 ms, total: 16.4 s\n",
      "Wall time: 16.3 s\n"
     ]
    }
   ],
   "source": [
    "%%time\n",
    "\n",
    "# read the csv file created\n",
    "train = np.genfromtxt(input_dataset_path, delimiter=',',skip_header=1)\n",
    "\n",
    "\n",
    "X, y = train[:, 1:], train[:, :1]\n",
    "y = y.ravel()\n",
    "\n",
    "# Set training and validation sets\n",
    "X_train, X_test, y_train, y_test = train_test_split(X, y, test_size=0.33)"
   ]
  },
  {
   "cell_type": "code",
   "execution_count": 10,
   "metadata": {},
   "outputs": [
    {
     "name": "stdout",
     "output_type": "stream",
     "text": [
      "['target',\n",
      " '/g/data/ge3/sheece/LOC_distance_to_coast.tif',\n",
      " '/g/data/ge3/sheece/mrvbf_9.tif',\n",
      " '/g/data/ge3/sheece/relief_mrvbf_3s_mosaic.tif',\n",
      " '/g/data/ge3/sheece/relief_elev_focalrange1000m_3s.tif',\n",
      " '/g/data/ge3/sheece/relief_elev_focalrange300m_3s.tif',\n",
      " '/g/data/ge3/sheece/saga_wetSM_85_resampled.tif',\n",
      " '/g/data/ge3/sheece/tpi_300.tif',\n",
      " '/g/data/ge3/sheece/slope_fill2.tif',\n",
      " '/g/data/ge3/sheece/dem_fill.tif',\n",
      " '/g/data/ge3/sheece/3dem_mag2.tif',\n",
      " '/g/data/ge3/sheece/3dem_mag1_fin.tif',\n",
      " '/g/data/ge3/sheece/3dem_mag0.fin.tif',\n",
      " '/g/data/ge3/sheece/relief_roughness.tif',\n",
      " '/g/data/ge3/sheece/LATITUDE_GRID1_clip.tif',\n",
      " '/g/data/ge3/sheece/LATITUDE_GRID1_clip.tif',\n",
      " '/g/data/ge3/sheece/Dose_2016.tif',\n",
      " '/g/data/ge3/sheece/Potassium_2016.tif',\n",
      " '/g/data/ge3/sheece/Thorium_2016.tif',\n",
      " '/g/data/ge3/sheece/Rad2016U_Th.tif',\n",
      " '/g/data/ge3/sheece/Rad2016K_Th.tif',\n",
      " '/g/data/ge3/sheece/national_Wii_RF_multirandomforest_prediction.tif',\n",
      " '/g/data/ge3/sheece/si_geol1.tif',\n",
      " '/g/data/ge3/sheece/ceno_euc_aust1.tif',\n",
      " '/g/data/ge3/sheece/Grav_lane_clip.tif',\n",
      " '/g/data/ge3/sheece/be-30y-85m-avg-ND-NIR-GREEN.filled.lzw.nodata.tif',\n",
      " '/g/data/ge3/sheece/be-30y-85m-avg-ND-RED-BLUE.filled.lzw.nodata.tif',\n",
      " '/g/data/ge3/sheece/be-30y-85m-avg-ND-SWIR1-SWIR2.filled.lzw.nodata.tif',\n",
      " '/g/data/ge3/sheece/be-30y-85m-avg_BLUE+SWIR2.tif',\n",
      " '/g/data/ge3/sheece/be-30y-85m-avg-ND-SWIR1-NIR.filled.lzw.nodata.tif',\n",
      " '/g/data/ge3/sheece/be-30y-85m-avg-CLAY-PC2.filled.lzw.nodata.tif',\n",
      " '/g/data/ge3/sheece/be-30y-85m-avg-ND-RED-BLUE.filled.lzw.nodata.tif',\n",
      " '/g/data/ge3/sheece/be-30y-85m-avg-RED.filled.lzw.nodata.tif',\n",
      " '/g/data/ge3/sheece/be-30y-85m-avg-GREEN.filled.lzw.nodata.tif',\n",
      " '/g/data/ge3/sheece/be-l8-all-85m-avg-BLUE.filled.lzw.nodata.tif',\n",
      " '/g/data/ge3/sheece/be-l8-all-85m-avg-NIR.filled.lzw.nodata.tif',\n",
      " '/g/data/ge3/sheece/be-30y-85m-avg-SWIR1.filled.lzw.nodata.tif',\n",
      " '/g/data/ge3/sheece/be-30y-85m-avg-SWIR2.filled.lzw.nodata.tif',\n",
      " '/g/data/ge3/sheece/s2-dpca-85m.tif',\n",
      " '/g/data/ge3/sheece/water-85m.tif',\n",
      " '/g/data/ge3/sheece/clim_EPA_albers.tif',\n",
      " '/g/data/ge3/sheece/Clim_Prescott_LindaGregory.tif',\n",
      " '/g/data/ge3/sheece/clim_PTA_albers.tif',\n",
      " '/g/data/ge3/sheece/clim_WDA_albers.tif',\n",
      " '/g/data/ge3/sheece/clim_RSM_albers.tif']\n"
     ]
    }
   ],
   "source": [
    "headers = next(csv.reader(open(input_dataset_path)))\n",
    "pprint(headers)"
   ]
  },
  {
   "cell_type": "markdown",
   "metadata": {},
   "source": [
    "## Build-in Recursive feature elimination with cross-validation\n"
   ]
  },
  {
   "cell_type": "code",
   "execution_count": 11,
   "metadata": {},
   "outputs": [
    {
     "name": "stdout",
     "output_type": "stream",
     "text": [
      "Optimal number of features : 34\n"
     ]
    },
    {
     "data": {
      "image/png": "[encoded data removed]",
      "text/plain": [
       "<Figure size 432x288 with 1 Axes>"
      ]
     },
     "metadata": {
      "needs_background": "light"
     },
     "output_type": "display_data"
    },
    {
     "name": "stdout",
     "output_type": "stream",
     "text": [
      "CPU times: user 4h 31min 20s, sys: 22.5 s, total: 4h 31min 42s\n",
      "Wall time: 23min 34s\n"
     ]
    }
   ],
   "source": [
    "%%time\n",
    "\n",
    "import matplotlib.pyplot as plt\n",
    "from sklearn.feature_selection import RFECV\n",
    "\n",
    "\n",
    "# Create the RFE object and compute a cross-validated score.\n",
    "xgb_model = xgb.XGBRegressor(n_jobs=multiprocessing.cpu_count() // 2)\n",
    "\n",
    "# The \"accuracy\" scoring is proportional to the number of correct\n",
    "# classifications\n",
    "\n",
    "min_features_to_select = 1  # Minimum number of features to consider\n",
    "rfecv = RFECV(estimator=xgb_model, \n",
    "              step=1, \n",
    "              cv=2,\n",
    "              scoring='r2',\n",
    "              min_features_to_select=min_features_to_select)\n",
    "rfecv.fit(X, y)\n",
    "\n",
    "print(\"Optimal number of features : %d\" % rfecv.n_features_)\n",
    "\n",
    "# Plot number of features VS. cross-validation scores\n",
    "plt.figure()\n",
    "plt.xlabel(\"Number of features selected\")\n",
    "plt.ylabel(\"Cross validation score (nb of correct classifications)\")\n",
    "plt.plot(range(min_features_to_select, len(rfecv.grid_scores_) + min_features_to_select), rfecv.grid_scores_)\n",
    "plt.show()"
   ]
  },
  {
   "cell_type": "code",
   "execution_count": 12,
   "metadata": {
    "lines_to_next_cell": 2
   },
   "outputs": [
    {
     "data": {
      "text/plain": [
       "array([ True,  True,  True,  True, False,  True, False, False,  True,\n",
       "        True,  True, False, False,  True, False,  True,  True,  True,\n",
       "        True,  True, False,  True,  True,  True,  True,  True,  True,\n",
       "        True,  True, False, False,  True,  True,  True,  True,  True,\n",
       "       False,  True,  True,  True,  True,  True,  True,  True])"
      ]
     },
     "execution_count": 12,
     "metadata": {},
     "output_type": "execute_result"
    }
   ],
   "source": [
    "rfecv.support_"
   ]
  },
  {
   "cell_type": "code",
   "execution_count": 13,
   "metadata": {},
   "outputs": [
    {
     "data": {
      "text/plain": [
       "array([ 1,  1,  1,  1,  4,  1,  7,  8,  1,  1,  1,  9,  2,  1, 11,  1,  1,\n",
       "        1,  1,  1,  6,  1,  1,  1,  1,  1,  1,  1,  1,  5, 10,  1,  1,  1,\n",
       "        1,  1,  3,  1,  1,  1,  1,  1,  1,  1])"
      ]
     },
     "execution_count": 13,
     "metadata": {},
     "output_type": "execute_result"
    }
   ],
   "source": [
    "rfecv.ranking_"
   ]
  },
  {
   "cell_type": "markdown",
   "metadata": {},
   "source": [
    "## In-house Recursive feature elimination with cross-validation"
   ]
  },
  {
   "cell_type": "code",
   "execution_count": 15,
   "metadata": {},
   "outputs": [],
   "source": [
    "import csv\n",
    "import time \n",
    "from pathlib import Path\n",
    "from pprint import pprint\n",
    "import csv\n",
    "import multiprocessing\n",
    "import pandas as pd\n",
    "import numpy as np\n",
    "import distributed\n",
    "\n",
    "import dask\n",
    "import dask.array as da\n",
    "import dask.dataframe as dd\n",
    "from dask.distributed import Client, wait, LocalCluster\n",
    "\n",
    "from sklearn.model_selection import train_test_split\n",
    "\n",
    "from sklearn.metrics import r2_score\n",
    "import xgboost as xgb\n",
    "import statistics\n"
   ]
  },
  {
   "cell_type": "code",
   "execution_count": 60,
   "metadata": {},
   "outputs": [],
   "source": [
    "cluster = LocalCluster(n_workers=20,threads_per_worker=2,dashboard_address='0.0.0.0:8787')\n",
    "client = Client(cluster)\n",
    "client"
   ]
  },
  {
   "cell_type": "code",
   "execution_count": 12,
   "metadata": {},
   "outputs": [],
   "source": [
    "features = ['LOC_distance_to_coast','mrvbf_9','relief_mrvbf_3s_mosaic','relief_elev_focalrange1000m_3s','relief_elev_focalrange300m_3s','saga_wetSM_85_resampled','tpi_300','slope_fill2','dem_fill','3dem_mag2','3dem_mag1_fin','3dem_mag0.fin','relief_roughness','LATITUDE_GRID1_clip','Dose_2016','Potassium_2016','Thorium_2016','Rad2016U_Th','Rad2016K_Th','national_Wii_RF_multirandomforest_prediction','si_geol1','ceno_euc_aust1','Grav_lane_clip','be-30y-85m-avg-ND-NIR-GREEN.filled.lzw.nodata','be-30y-85m-avg-ND-RED-BLUE.filled.lzw.nodata','be-30y-85m-avg-ND-SWIR1-SWIR2.filled.lzw.nodata','be-30y-85m-avg_BLUE+SWIR2','be-30y-85m-avg-ND-SWIR1-NIR.filled.lzw.nodata','be-30y-85m-avg-CLAY-PC2.filled.lzw.nodata','be-30y-85m-avg-RED.filled.lzw.nodata','be-30y-85m-avg-GREEN.filled.lzw.nodata','be-l8-all-85m-avg-BLUE.filled.lzw.nodata','be-l8-all-85m-avg-NIR.filled.lzw.nodata','be-30y-85m-avg-SWIR1.filled.lzw.nodata','be-30y-85m-avg-SWIR2.filled.lzw.nodata','s2-dpca-85m','water-85m','clim_EPA_albers','Clim_Prescott_LindaGregory','clim_PTA_albers','clim_WDA_albers','clim_RSM_albers']"
   ]
  },
  {
   "cell_type": "code",
   "execution_count": 30,
   "metadata": {},
   "outputs": [],
   "source": [
    "import time\n",
    "from pathlib import Path\n",
    "import pandas as pd\n",
    "from sklearn import datasets\n",
    "from sklearn.model_selection import train_test_split, cross_val_score\n",
    "import xgboost as xgb\n",
    "from xgboost import XGBRegressor\n",
    "from multiprocessing import Pool\n",
    "import numpy as np"
   ]
  },
  {
   "cell_type": "code",
   "execution_count": null,
   "metadata": {},
   "outputs": [],
   "source": []
  },
  {
   "cell_type": "code",
   "execution_count": 19,
   "metadata": {},
   "outputs": [],
   "source": [
    "# rmsle\n",
    "now =time.time()   \n",
    "features_to_drop=[\"target\",\"LOC_distance_to_coast\"]\n",
    "input_dataset_path = Path('../../data/input_dataset.csv')\n",
    "pdf = pd.read_csv(input_dataset_path) \n",
    "\n",
    "now1 =time.time()\n",
    "X=pdf.drop(features_to_drop,axis=1)\n",
    "y=pdf[\"target\"]\n",
    "now2 =time.time()\n",
    "print(\"Creating Xy:\",now2-now1)\n",
    "model = XGBRegressor(objective='reg:squarederror',nthread=-1)\n",
    "now3 =time.time()\n",
    "print(\"Create Model:\",now3-now2)\n",
    "results = cross_val_score(model, X, y, cv=3, scoring='r2', n_jobs=-1)\n",
    "now4 =time.time()\n",
    "print(\"Cross Val:\",now4-now3)\n",
    "results"
   ]
  },
  {
   "cell_type": "code",
   "execution_count": 24,
   "metadata": {},
   "outputs": [
    {
     "name": "stdout",
     "output_type": "stream",
     "text": [
      "Creating Xy: 0.0326995849609375\n",
      "Create Model: 0.00020694732666015625\n",
      "Cross Val: 387.3465850353241\n"
     ]
    },
    {
     "data": {
      "text/plain": [
       "array([ 0.47203661,  0.45281011, -0.0194289 ])"
      ]
     },
     "execution_count": 24,
     "metadata": {},
     "output_type": "execute_result"
    }
   ],
   "source": [
    "# rmsle\n",
    "now =time.time()   \n",
    "features_to_drop=[\"target\",\"LOC_distance_to_coast\"]\n",
    "input_dataset_path = Path('../../data/input_dataset.csv')\n",
    "pdf = pd.read_csv(input_dataset_path) \n",
    "\n",
    "now1 =time.time()\n",
    "X=pdf.drop(features_to_drop,axis=1)\n",
    "y=pdf[\"target\"]\n",
    "now2 =time.time()\n",
    "print(\"Creating Xy:\",now2-now1)\n",
    "model = XGBRegressor(objective='reg:squarederror',nthread=-1)\n",
    "now3 =time.time()\n",
    "print(\"Create Model:\",now3-now2)\n",
    "results = cross_val_score(model, X, y, cv=3, scoring='r2', n_jobs=-1)\n",
    "now4 =time.time()\n",
    "print(\"Cross Val:\",now4-now3)\n",
    "results"
   ]
  },
  {
   "cell_type": "code",
   "execution_count": 25,
   "metadata": {},
   "outputs": [
    {
     "name": "stdout",
     "output_type": "stream",
     "text": [
      "<function get_feature_score at 0x7fdb14adadc0> LOC_distance_to_coast\n"
     ]
    },
    {
     "name": "stderr",
     "output_type": "stream",
     "text": [
      "/home/dev/Desktop/Work/uncoverml/venv/lib/python3.8/site-packages/joblib/parallel.py:733: UserWarning: Loky-backed parallel loops cannot be called in a multiprocessing, setting n_jobs=1\n",
      "  n_jobs = self._backend.configure(n_jobs=self.n_jobs, parallel=self,\n"
     ]
    },
    {
     "name": "stdout",
     "output_type": "stream",
     "text": [
      "CPU times: user 12.4 ms, sys: 21.4 ms, total: 33.8 ms\n",
      "Wall time: 2min 43s\n"
     ]
    },
    {
     "data": {
      "text/plain": [
       "[array([ 0.47203661,  0.45281011, -0.0194289 ])]"
      ]
     },
     "execution_count": 25,
     "metadata": {},
     "output_type": "execute_result"
    }
   ],
   "source": [
    "%%time\n",
    "p = Pool(1)\n",
    "print(get_feature_score, features[0])\n",
    "p.map(get_feature_score, [features[0]])"
   ]
  },
  {
   "cell_type": "code",
   "execution_count": 23,
   "metadata": {},
   "outputs": [
    {
     "name": "stdout",
     "output_type": "stream",
     "text": [
      "CPU times: user 2.03 s, sys: 458 ms, total: 2.49 s\n",
      "Wall time: 6min 26s\n"
     ]
    },
    {
     "data": {
      "text/plain": [
       "array([ 0.47203661,  0.45281011, -0.0194289 ])"
      ]
     },
     "execution_count": 23,
     "metadata": {},
     "output_type": "execute_result"
    }
   ],
   "source": [
    "%%time\n",
    "features = ['LOC_distance_to_coast','mrvbf_9','relief_mrvbf_3s_mosaic','relief_elev_focalrange1000m_3s','relief_elev_focalrange300m_3s','saga_wetSM_85_resampled','tpi_300','slope_fill2','dem_fill','3dem_mag2','3dem_mag1_fin','3dem_mag0.fin','relief_roughness','LATITUDE_GRID1_clip','Dose_2016','Potassium_2016','Thorium_2016','Rad2016U_Th','Rad2016K_Th','national_Wii_RF_multirandomforest_prediction','si_geol1','ceno_euc_aust1','Grav_lane_clip','be-30y-85m-avg-ND-NIR-GREEN.filled.lzw.nodata','be-30y-85m-avg-ND-RED-BLUE.filled.lzw.nodata','be-30y-85m-avg-ND-SWIR1-SWIR2.filled.lzw.nodata','be-30y-85m-avg_BLUE+SWIR2','be-30y-85m-avg-ND-SWIR1-NIR.filled.lzw.nodata','be-30y-85m-avg-CLAY-PC2.filled.lzw.nodata','be-30y-85m-avg-RED.filled.lzw.nodata','be-30y-85m-avg-GREEN.filled.lzw.nodata','be-l8-all-85m-avg-BLUE.filled.lzw.nodata','be-l8-all-85m-avg-NIR.filled.lzw.nodata','be-30y-85m-avg-SWIR1.filled.lzw.nodata','be-30y-85m-avg-SWIR2.filled.lzw.nodata','s2-dpca-85m','water-85m','clim_EPA_albers','Clim_Prescott_LindaGregory','clim_PTA_albers','clim_WDA_albers','clim_RSM_albers']\n",
    "get_feature_score(features[0])"
   ]
  },
  {
   "cell_type": "code",
   "execution_count": null,
   "metadata": {},
   "outputs": [],
   "source": [
    "print(\"Number of cpu : \", multiprocessing.cpu_count())"
   ]
  },
  {
   "cell_type": "code",
   "execution_count": null,
   "metadata": {},
   "outputs": [],
   "source": [
    "### %%time\n",
    "\n",
    "results_xgb = []\n",
    "for n in range(X.shape[1]-3):\n",
    "    print(\"Current run: \" +str(n))\n",
    "    cols_to_drop = list(range(n+1))\n",
    "    current_X = np.delete(X, cols_to_drop, 1)\n",
    "    \n",
    "    for feature_to_drop in range(current_X.shape[1]):\n",
    "        current_X_without_feature = np.delete(current_X, [feature_to_drop], 1)\n",
    "                \n",
    "        # define a xgboost model\n",
    "        X_train, X_test, y_train, y_test = train_test_split(current_X_without_feature, y, test_size=0.30)\n",
    "        \n",
    "         self.cv_results = xgb.cv(\n",
    "            params = grid_params, dtrain = xgdmat,\n",
    "            num_boost_round = 1000, nfold = 5,\n",
    "            metrics = ['error'], early_stopping_rounds = 20)\n",
    "        self.error = self.cv_results.get_value(len(self.cv_results) - 1, 'test-error-mean') \n",
    "\n",
    "        xg_reg = xgb.XGBRegressor(\n",
    "            min_child_weight=2,\n",
    "            eta=1,\n",
    "            colsample_bytree=0.8,\n",
    "            eval_metric=\"auc\",\n",
    "            objective='reg:squarederror',\n",
    "            max_depth=15,\n",
    "            n_estimators=20,\n",
    "             tree_method='gpu_hist',\n",
    "            n_gpus=4\n",
    "        )\n",
    "\n",
    "\n",
    "        # train xgboost model\n",
    "        xg_reg.fit(X_train,y_train)\n",
    "\n",
    "        # test xgboost model\n",
    "        y_pred = xg_reg.predict(X_test)\n",
    "#         print(\"Total Number of Features Dropped: \"+str(n))\n",
    "#         print(\"Coloum Number of Features Dropped: \"+str(cols_to_drop))\n",
    "#         print(\"Model Trained without Feature coloum number: \"+str(feature_to_drop))\n",
    "#         print(regression_results(y_test, y_pred))\n",
    "        # {'r2': 1.0, 'MAE': 0.0, 'MSE': 0.0, 'RMSE': 0.0, 'explained_variance': 1.0}\n",
    "        results_xgb.append({\n",
    "            \"n\":n,\"cols_to_drop\":cols_to_drop,\n",
    "            \"feature_to_drop\":feature_to_drop,\n",
    "            \"regression_results\":regression_results(y_test, y_pred)\n",
    "        })\n",
    "        \n",
    "    \n",
    "        \n"
   ]
  },
  {
   "cell_type": "code",
   "execution_count": 46,
   "metadata": {},
   "outputs": [],
   "source": [
    "#save results\n",
    "import pickle\n",
    "\n",
    "fileObj = open('results_xgb.pkl', 'wb')\n",
    "pickle.dump(results_xgb,fileObj)\n",
    "fileObj.close()"
   ]
  },
  {
   "cell_type": "code",
   "execution_count": 13,
   "metadata": {},
   "outputs": [
    {
     "name": "stdout",
     "output_type": "stream",
     "text": [
      "{'cols_to_drop': [0],\n",
      " 'feature_to_drop': 0,\n",
      " 'n': 0,\n",
      " 'regression_results': {'MAE': 0.0625,\n",
      "                        'MSE': 0.0303,\n",
      "                        'RMSE': 0.174,\n",
      "                        'explained_variance': 0.8255,\n",
      "                        'r2': 0.8255}}\n"
     ]
    }
   ],
   "source": [
    "import pickle   \n",
    "from pprint import pprint\n",
    "fileObj = open('results_xgb.pkl', 'rb')\n",
    "results_xgb = pickle.load(fileObj)\n",
    "fileObj.close()\n",
    "pprint(results_xgb[0])"
   ]
  },
  {
   "cell_type": "code",
   "execution_count": 60,
   "metadata": {},
   "outputs": [
    {
     "data": {
      "image/png": "[encoded data removed]",
      "text/plain": [
       "<Figure size 216x144 with 1 Axes>"
      ]
     },
     "metadata": {
      "needs_background": "light"
     },
     "output_type": "display_data"
    },
    {
     "data": {
      "image/png": "[encoded data removed]",
      "text/plain": [
       "<Figure size 216x144 with 1 Axes>"
      ]
     },
     "metadata": {
      "needs_background": "light"
     },
     "output_type": "display_data"
    },
    {
     "data": {
      "image/png": "[encoded data removed]",
      "text/plain": [
       "<Figure size 216x144 with 1 Axes>"
      ]
     },
     "metadata": {
      "needs_background": "light"
     },
     "output_type": "display_data"
    },
    {
     "data": {
      "image/png": "[encoded data removed]",
      "text/plain": [
       "<Figure size 216x144 with 1 Axes>"
      ]
     },
     "metadata": {
      "needs_background": "light"
     },
     "output_type": "display_data"
    },
    {
     "data": {
      "image/png": "[encoded data removed]",
      "text/plain": [
       "<Figure size 216x144 with 1 Axes>"
      ]
     },
     "metadata": {
      "needs_background": "light"
     },
     "output_type": "display_data"
    }
   ],
   "source": [
    "import numpy as np\n",
    "import matplotlib.pyplot as plt\n",
    "    \n",
    "\n",
    "    \n",
    "\n",
    "scorings = ['MAE','MSE','RMSE','explained_variance','r2']\n",
    "total_number_of_features = X.shape[1]\n",
    "# minimum_features_constraint = 3\n",
    "\n",
    "for scoring in scorings:    \n",
    "    x = []\n",
    "    ymax = []\n",
    "    ymin = []\n",
    "    y = []\n",
    "    yerr = []\n",
    "\n",
    "    for i in range(45):\n",
    "        x.append(i)\n",
    "        y.append(0)\n",
    "        ymax.append(-9999)\n",
    "        ymin.append(9999)\n",
    "        yerr.append(0)\n",
    "\n",
    "    for result in results_xgb:\n",
    "        index = total_number_of_features-result[\"n\"]\n",
    "        y[index] = result[\"regression_results\"][scoring]\n",
    "\n",
    "\n",
    "        if result[\"regression_results\"][scoring] > ymax[index]:\n",
    "            ymax[index] = result[\"regression_results\"][scoring]\n",
    "\n",
    "        if result[\"regression_results\"][scoring] < ymin[index]:\n",
    "            ymin[index] = result[\"regression_results\"][scoring]\n",
    "\n",
    "    for i in range(45):\n",
    "        yerr[i] = ymax[i] - ymin[i]\n",
    "\n",
    "\n",
    "    x = x[3:]\n",
    "    ymax = ymax[3:]\n",
    "    ymin = ymin[3:]\n",
    "    y = y[3:]\n",
    "    yerr = yerr[3:]\n",
    "\n",
    "\n",
    "    fig = plt.figure()\n",
    "\n",
    "    w=3\n",
    "    h=2\n",
    "    fig.set_size_inches(w, h)\n",
    "\n",
    "    plt.errorbar(x, y, yerr=yerr, label=scoring)\n",
    "    plt.legend(loc='lower right')"
   ]
  },
  {
   "cell_type": "code",
   "execution_count": 12,
   "metadata": {},
   "outputs": [
    {
     "name": "stdout",
     "output_type": "stream",
     "text": [
      "CPU times: user 17.8 s, sys: 1.14 s, total: 19 s\n",
      "Wall time: 18.7 s\n"
     ]
    }
   ],
   "source": [
    "%%time\n",
    "\n",
    "# read the csv file created\n",
    "train = np.genfromtxt(input_dataset_path, delimiter=',',skip_header=1)\n",
    "\n",
    "\n",
    "X, y = train[:, 1:], train[:, :1]\n",
    "y = y.ravel()\n",
    "\n",
    "# Set training and validation sets\n",
    "# X_train, X_test, y_train, y_test = train_test_split(X, y, test_size=0.33)"
   ]
  },
  {
   "cell_type": "code",
   "execution_count": 16,
   "metadata": {},
   "outputs": [
    {
     "name": "stdout",
     "output_type": "stream",
     "text": [
      "Org shape: (489317, 44)\n",
      "Total features considered in this run: 44\n",
      "-List of features dropped:[0] (489317, 44)\n",
      "---Evaluating without feature: 0 (489317, 42)\n",
      "---Evaluating without feature: 1 (489317, 42)\n",
      "---Evaluating without feature: 2 (489317, 42)\n",
      "---Evaluating without feature: 3 (489317, 42)\n",
      "---Evaluating without feature: 4 (489317, 42)\n",
      "---Evaluating without feature: 5 (489317, 42)\n",
      "---Evaluating without feature: 6 (489317, 42)\n",
      "---Evaluating without feature: 7 (489317, 42)\n",
      "---Evaluating without feature: 8 (489317, 42)\n",
      "---Evaluating without feature: 9 (489317, 42)\n",
      "---Evaluating without feature: 10 (489317, 42)\n",
      "---Evaluating without feature: 11 (489317, 42)\n",
      "---Evaluating without feature: 12 (489317, 42)\n",
      "---Evaluating without feature: 13 (489317, 42)\n",
      "---Evaluating without feature: 14 (489317, 42)\n",
      "---Evaluating without feature: 15 (489317, 42)\n",
      "---Evaluating without feature: 16 (489317, 42)\n",
      "---Evaluating without feature: 17 (489317, 42)\n",
      "---Evaluating without feature: 18 (489317, 42)\n",
      "---Evaluating without feature: 19 (489317, 42)\n",
      "---Evaluating without feature: 20 (489317, 42)\n",
      "---Evaluating without feature: 21 (489317, 42)\n",
      "---Evaluating without feature: 22 (489317, 42)\n",
      "---Evaluating without feature: 23 (489317, 42)\n",
      "---Evaluating without feature: 24 (489317, 42)\n",
      "---Evaluating without feature: 25 (489317, 42)\n",
      "---Evaluating without feature: 26 (489317, 42)\n",
      "---Evaluating without feature: 27 (489317, 42)\n",
      "---Evaluating without feature: 28 (489317, 42)\n",
      "---Evaluating without feature: 29 (489317, 42)\n",
      "---Evaluating without feature: 30 (489317, 42)\n",
      "---Evaluating without feature: 31 (489317, 42)\n",
      "---Evaluating without feature: 32 (489317, 42)\n",
      "---Evaluating without feature: 33 (489317, 42)\n",
      "---Evaluating without feature: 34 (489317, 42)\n",
      "---Evaluating without feature: 35 (489317, 42)\n",
      "---Evaluating without feature: 36 (489317, 42)\n",
      "---Evaluating without feature: 37 (489317, 42)\n",
      "---Evaluating without feature: 38 (489317, 42)\n",
      "---Evaluating without feature: 39 (489317, 42)\n",
      "---Evaluating without feature: 40 (489317, 42)\n",
      "---Evaluating without feature: 41 (489317, 42)\n",
      "---Evaluating without feature: 42 (489317, 42)\n",
      "Total features considered in this run: 43\n",
      "-List of features dropped:[0, 1] (489317, 44)\n",
      "---Evaluating without feature: 0 (489317, 41)\n",
      "---Evaluating without feature: 1 (489317, 41)\n",
      "---Evaluating without feature: 2 (489317, 41)\n",
      "---Evaluating without feature: 3 (489317, 41)\n",
      "---Evaluating without feature: 4 (489317, 41)\n",
      "---Evaluating without feature: 5 (489317, 41)\n",
      "---Evaluating without feature: 6 (489317, 41)\n",
      "---Evaluating without feature: 7 (489317, 41)\n",
      "---Evaluating without feature: 8 (489317, 41)\n",
      "---Evaluating without feature: 9 (489317, 41)\n",
      "---Evaluating without feature: 10 (489317, 41)\n",
      "---Evaluating without feature: 11 (489317, 41)\n",
      "---Evaluating without feature: 12 (489317, 41)\n",
      "---Evaluating without feature: 13 (489317, 41)\n",
      "---Evaluating without feature: 14 (489317, 41)\n",
      "---Evaluating without feature: 15 (489317, 41)\n",
      "---Evaluating without feature: 16 (489317, 41)\n",
      "---Evaluating without feature: 17 (489317, 41)\n",
      "---Evaluating without feature: 18 (489317, 41)\n",
      "---Evaluating without feature: 19 (489317, 41)\n",
      "---Evaluating without feature: 20 (489317, 41)\n",
      "---Evaluating without feature: 21 (489317, 41)\n",
      "---Evaluating without feature: 22 (489317, 41)\n",
      "---Evaluating without feature: 23 (489317, 41)\n",
      "---Evaluating without feature: 24 (489317, 41)\n",
      "---Evaluating without feature: 25 (489317, 41)\n",
      "---Evaluating without feature: 26 (489317, 41)\n",
      "---Evaluating without feature: 27 (489317, 41)\n",
      "---Evaluating without feature: 28 (489317, 41)\n",
      "---Evaluating without feature: 29 (489317, 41)\n",
      "---Evaluating without feature: 30 (489317, 41)\n",
      "---Evaluating without feature: 31 (489317, 41)\n",
      "---Evaluating without feature: 32 (489317, 41)\n",
      "---Evaluating without feature: 33 (489317, 41)\n",
      "---Evaluating without feature: 34 (489317, 41)\n",
      "---Evaluating without feature: 35 (489317, 41)\n",
      "---Evaluating without feature: 36 (489317, 41)\n",
      "---Evaluating without feature: 37 (489317, 41)\n",
      "---Evaluating without feature: 38 (489317, 41)\n",
      "---Evaluating without feature: 39 (489317, 41)\n",
      "---Evaluating without feature: 40 (489317, 41)\n",
      "---Evaluating without feature: 41 (489317, 41)\n",
      "Total features considered in this run: 42\n",
      "-List of features dropped:[0, 1, 2] (489317, 44)\n",
      "---Evaluating without feature: 0 (489317, 40)\n",
      "---Evaluating without feature: 1 (489317, 40)\n",
      "---Evaluating without feature: 2 (489317, 40)\n",
      "---Evaluating without feature: 3 (489317, 40)\n",
      "---Evaluating without feature: 4 (489317, 40)\n",
      "---Evaluating without feature: 5 (489317, 40)\n",
      "---Evaluating without feature: 6 (489317, 40)\n",
      "---Evaluating without feature: 7 (489317, 40)\n",
      "---Evaluating without feature: 8 (489317, 40)\n",
      "---Evaluating without feature: 9 (489317, 40)\n",
      "---Evaluating without feature: 10 (489317, 40)\n",
      "---Evaluating without feature: 11 (489317, 40)\n",
      "---Evaluating without feature: 12 (489317, 40)\n",
      "---Evaluating without feature: 13 (489317, 40)\n",
      "---Evaluating without feature: 14 (489317, 40)\n",
      "---Evaluating without feature: 15 (489317, 40)\n",
      "---Evaluating without feature: 16 (489317, 40)\n",
      "---Evaluating without feature: 17 (489317, 40)\n",
      "---Evaluating without feature: 18 (489317, 40)\n",
      "---Evaluating without feature: 19 (489317, 40)\n",
      "---Evaluating without feature: 20 (489317, 40)\n",
      "---Evaluating without feature: 21 (489317, 40)\n",
      "---Evaluating without feature: 22 (489317, 40)\n",
      "---Evaluating without feature: 23 (489317, 40)\n",
      "---Evaluating without feature: 24 (489317, 40)\n",
      "---Evaluating without feature: 25 (489317, 40)\n",
      "---Evaluating without feature: 26 (489317, 40)\n",
      "---Evaluating without feature: 27 (489317, 40)\n",
      "---Evaluating without feature: 28 (489317, 40)\n",
      "---Evaluating without feature: 29 (489317, 40)\n",
      "---Evaluating without feature: 30 (489317, 40)\n",
      "---Evaluating without feature: 31 (489317, 40)\n",
      "---Evaluating without feature: 32 (489317, 40)\n",
      "---Evaluating without feature: 33 (489317, 40)\n",
      "---Evaluating without feature: 34 (489317, 40)\n",
      "---Evaluating without feature: 35 (489317, 40)\n",
      "---Evaluating without feature: 36 (489317, 40)\n",
      "---Evaluating without feature: 37 (489317, 40)\n",
      "---Evaluating without feature: 38 (489317, 40)\n",
      "---Evaluating without feature: 39 (489317, 40)\n",
      "---Evaluating without feature: 40 (489317, 40)\n",
      "Total features considered in this run: 41\n",
      "-List of features dropped:[0, 1, 2, 3] (489317, 44)\n",
      "---Evaluating without feature: 0 (489317, 39)\n",
      "---Evaluating without feature: 1 (489317, 39)\n",
      "---Evaluating without feature: 2 (489317, 39)\n",
      "---Evaluating without feature: 3 (489317, 39)\n",
      "---Evaluating without feature: 4 (489317, 39)\n",
      "---Evaluating without feature: 5 (489317, 39)\n",
      "---Evaluating without feature: 6 (489317, 39)\n",
      "---Evaluating without feature: 7 (489317, 39)\n",
      "---Evaluating without feature: 8 (489317, 39)\n",
      "---Evaluating without feature: 9 (489317, 39)\n",
      "---Evaluating without feature: 10 (489317, 39)\n",
      "---Evaluating without feature: 11 (489317, 39)\n",
      "---Evaluating without feature: 12 (489317, 39)\n",
      "---Evaluating without feature: 13 (489317, 39)\n",
      "---Evaluating without feature: 14 (489317, 39)\n",
      "---Evaluating without feature: 15 (489317, 39)\n",
      "---Evaluating without feature: 16 (489317, 39)\n",
      "---Evaluating without feature: 17 (489317, 39)\n",
      "---Evaluating without feature: 18 (489317, 39)\n",
      "---Evaluating without feature: 19 (489317, 39)\n",
      "---Evaluating without feature: 20 (489317, 39)\n",
      "---Evaluating without feature: 21 (489317, 39)\n",
      "---Evaluating without feature: 22 (489317, 39)\n",
      "---Evaluating without feature: 23 (489317, 39)\n",
      "---Evaluating without feature: 24 (489317, 39)\n",
      "---Evaluating without feature: 25 (489317, 39)\n",
      "---Evaluating without feature: 26 (489317, 39)\n",
      "---Evaluating without feature: 27 (489317, 39)\n",
      "---Evaluating without feature: 28 (489317, 39)\n",
      "---Evaluating without feature: 29 (489317, 39)\n",
      "---Evaluating without feature: 30 (489317, 39)\n",
      "---Evaluating without feature: 31 (489317, 39)\n",
      "---Evaluating without feature: 32 (489317, 39)\n",
      "---Evaluating without feature: 33 (489317, 39)\n",
      "---Evaluating without feature: 34 (489317, 39)\n",
      "---Evaluating without feature: 35 (489317, 39)\n",
      "---Evaluating without feature: 36 (489317, 39)\n",
      "---Evaluating without feature: 37 (489317, 39)\n",
      "---Evaluating without feature: 38 (489317, 39)\n",
      "---Evaluating without feature: 39 (489317, 39)\n",
      "Total features considered in this run: 40\n",
      "-List of features dropped:[0, 1, 2, 3, 4] (489317, 44)\n",
      "---Evaluating without feature: 0 (489317, 38)\n",
      "---Evaluating without feature: 1 (489317, 38)\n",
      "---Evaluating without feature: 2 (489317, 38)\n",
      "---Evaluating without feature: 3 (489317, 38)\n",
      "---Evaluating without feature: 4 (489317, 38)\n",
      "---Evaluating without feature: 5 (489317, 38)\n",
      "---Evaluating without feature: 6 (489317, 38)\n",
      "---Evaluating without feature: 7 (489317, 38)\n",
      "---Evaluating without feature: 8 (489317, 38)\n",
      "---Evaluating without feature: 9 (489317, 38)\n",
      "---Evaluating without feature: 10 (489317, 38)\n",
      "---Evaluating without feature: 11 (489317, 38)\n",
      "---Evaluating without feature: 12 (489317, 38)\n",
      "---Evaluating without feature: 13 (489317, 38)\n",
      "---Evaluating without feature: 14 (489317, 38)\n",
      "---Evaluating without feature: 15 (489317, 38)\n",
      "---Evaluating without feature: 16 (489317, 38)\n",
      "---Evaluating without feature: 17 (489317, 38)\n",
      "---Evaluating without feature: 18 (489317, 38)\n",
      "---Evaluating without feature: 19 (489317, 38)\n",
      "---Evaluating without feature: 20 (489317, 38)\n",
      "---Evaluating without feature: 21 (489317, 38)\n",
      "---Evaluating without feature: 22 (489317, 38)\n",
      "---Evaluating without feature: 23 (489317, 38)\n",
      "---Evaluating without feature: 24 (489317, 38)\n",
      "---Evaluating without feature: 25 (489317, 38)\n",
      "---Evaluating without feature: 26 (489317, 38)\n",
      "---Evaluating without feature: 27 (489317, 38)\n",
      "---Evaluating without feature: 28 (489317, 38)\n",
      "---Evaluating without feature: 29 (489317, 38)\n",
      "---Evaluating without feature: 30 (489317, 38)\n",
      "---Evaluating without feature: 31 (489317, 38)\n",
      "---Evaluating without feature: 32 (489317, 38)\n",
      "---Evaluating without feature: 33 (489317, 38)\n",
      "---Evaluating without feature: 34 (489317, 38)\n",
      "---Evaluating without feature: 35 (489317, 38)\n",
      "---Evaluating without feature: 36 (489317, 38)\n",
      "---Evaluating without feature: 37 (489317, 38)\n",
      "---Evaluating without feature: 38 (489317, 38)\n",
      "CPU times: user 3.97 s, sys: 5.4 s, total: 9.37 s\n",
      "Wall time: 9.29 s\n"
     ]
    }
   ],
   "source": [
    "%%time\n",
    "total_number_of_fetures = X.shape[1]\n",
    "minimum_features_constraint = 3\n",
    "\n",
    "print(\"Org shape: \"+str(X.shape))\n",
    "for n in range(total_number_of_features-minimum_features_constraint):\n",
    "    \n",
    "    cols_to_drop = list(range(n+1))\n",
    "    current_X = np.delete(X, cols_to_drop, 1)\n",
    "    \n",
    "    print(\"Total features considered in this run: \" +str(total_number_of_fetures-n))\n",
    "    \n",
    "    print(\"-List of features dropped:\"+str(cols_to_drop),str(X.shape))\n",
    "    \n",
    "    for feature_to_drop in range(current_X.shape[1]):\n",
    "        current_X_without_feature = np.delete(current_X, [feature_to_drop], 1)\n",
    "        \n",
    "        print(\"---Evaluating without feature: \"+str(feature_to_drop),str(current_X_without_feature.shape))\n",
    "        \n",
    "        # define a xgboost model\n",
    "#         X_train, X_test, y_train, y_test = train_test_split(current_X_without_feature, y, test_size=0.30)\n",
    "    "
   ]
  },
  {
   "cell_type": "code",
   "execution_count": 113,
   "metadata": {},
   "outputs": [],
   "source": [
    "# import pandas as pd\n",
    "# train = pd.read_csv(input_dataset_path)\n",
    "# # divide the dataset on coloums btw target and features\n",
    "# x, y = train.iloc[:, 1:], train.iloc[:, :1]\n",
    "\n",
    "# # divide the inputs dataset into training, validation and testing dataset\n",
    "# train_ratio = 0.70\n",
    "\n",
    "\n",
    "# x_train, x_test, y_train, y_test = train_test_split(x, y, test_size=1 - train_ratio)\n",
    "\n",
    "# read the csv file created\n",
    "train = np.genfromtxt(input_dataset_path, delimiter=',',skip_header=1)\n",
    "\n",
    "X, y = train[:, 1:], train[:, :1]\n",
    "y = y.ravel()\n",
    "\n",
    "# Set training and validation sets\n",
    "X_train, X_test, y_train, y_test = train_test_split(X, y, test_size=0.30)"
   ]
  },
  {
   "cell_type": "code",
   "execution_count": 118,
   "metadata": {},
   "outputs": [
    {
     "data": {
      "text/plain": [
       "{'r2': 0.8262,\n",
       " 'MAE': 0.0607,\n",
       " 'MSE': 0.0295,\n",
       " 'RMSE': 0.1717,\n",
       " 'explained_variance': 0.8262}"
      ]
     },
     "execution_count": 118,
     "metadata": {},
     "output_type": "execute_result"
    }
   ],
   "source": [
    "# test xgboost\n",
    "import xgboost as xgb\n",
    "\n",
    "# define a xgboost model\n",
    "data_dmatrix = xgb.DMatrix(data=X_train,label=y_train)\n",
    "       \n",
    "xg_reg = xgb.XGBRegressor(\n",
    "    min_child_weight=2,\n",
    "    eta=1,\n",
    "    colsample_bytree=0.8,\n",
    "    eval_metric=\"auc\",\n",
    "    objective='reg:squarederror',\n",
    "    max_depth=15,\n",
    "    n_estimators=20\n",
    ")\n",
    "\n",
    "# train xgboost model\n",
    "xg_reg.fit(X_train,y_train)\n",
    "\n",
    "# test xgboost model\n",
    "y_pred = xg_reg.predict(X_test)\n",
    "regression_results(y_test, y_pred)\n",
    "# {'r2': 1.0, 'MAE': 0.0, 'MSE': 0.0, 'RMSE': 0.0, 'explained_variance': 1.0}"
   ]
  },
  {
   "cell_type": "code",
   "execution_count": 97,
   "metadata": {},
   "outputs": [
    {
     "data": {
      "text/plain": [
       "{'r2': 0.3958,\n",
       " 'MAE': 0.2054,\n",
       " 'MSE': 0.1035,\n",
       " 'RMSE': 0.3218,\n",
       " 'explained_variance': 0.4762}"
      ]
     },
     "execution_count": 97,
     "metadata": {},
     "output_type": "execute_result"
    }
   ],
   "source": [
    "# {'r2': 1.0, 'MAE': 0.0, 'MSE': 0.0, 'RMSE': 0.0, 'explained_variance': 1.0}\n",
    "regression_results(y_test, y_pred)"
   ]
  },
  {
   "cell_type": "code",
   "execution_count": 95,
   "metadata": {},
   "outputs": [
    {
     "name": "stdout",
     "output_type": "stream",
     "text": [
      "array([0.838348, 0.011885, 0.156596, ..., 0.59038 , 0.638858, 0.014252])\n",
      "array([0.41549963, 0.23314947, 0.28134957, ..., 0.35507753, 0.5110612 ,\n",
      "       0.31161803], dtype=float32)\n"
     ]
    }
   ],
   "source": [
    "from pprint import pprint\n",
    "pprint(y_test)\n",
    "pprint(y_pred)"
   ]
  },
  {
   "cell_type": "code",
   "execution_count": 27,
   "metadata": {},
   "outputs": [
    {
     "name": "stdout",
     "output_type": "stream",
     "text": [
      "0 0\n",
      "0 1\n",
      "0 2\n",
      "0 3\n",
      "0 4\n",
      "0 5\n",
      "0 6\n",
      "0 7\n",
      "0 8\n",
      "0 9\n",
      "1 0\n",
      "1 1\n",
      "1 2\n",
      "1 3\n",
      "1 4\n",
      "1 5\n",
      "1 6\n",
      "1 7\n",
      "1 8\n",
      "2 0\n",
      "2 1\n",
      "2 2\n",
      "2 3\n",
      "2 4\n",
      "2 5\n",
      "2 6\n",
      "2 7\n",
      "3 0\n",
      "3 1\n",
      "3 2\n",
      "3 3\n",
      "3 4\n",
      "3 5\n",
      "3 6\n",
      "4 0\n",
      "4 1\n",
      "4 2\n",
      "4 3\n",
      "4 4\n",
      "4 5\n",
      "5 0\n",
      "5 1\n",
      "5 2\n",
      "5 3\n",
      "5 4\n",
      "6 0\n",
      "6 1\n",
      "6 2\n",
      "6 3\n",
      "7 0\n",
      "7 1\n",
      "7 2\n",
      "8 0\n",
      "8 1\n",
      "9 0\n"
     ]
    }
   ],
   "source": [
    "for n in range(X.shape[1]):\n",
    "    cols_to_drop = range(n)\n",
    "    current_X = np.delete(a, [0, 3], 1)\n",
    "    for i in range(X.shape[1]-n):\n",
    "        #skip ith feature and train a model\n",
    "        print(n,i)"
   ]
  },
  {
   "cell_type": "code",
   "execution_count": null,
   "metadata": {},
   "outputs": [],
   "source": [
    "\n",
    "results = {}\n",
    "for i in range(train.shape[1]-1):\n",
    "    subtrain = train\n",
    "    subtrain = np.delete(subtrain, i, axis=1)[0]\n",
    "    X, y = train[:, 1:], train[:, :1]\n",
    "    y = y.ravel()\n",
    "\n",
    "    # Set training and test sets\n",
    "    X_train, X_test, y_train, y_test = train_test_split(X, y, test_size=0.33)\n",
    "\n",
    "    dtrain = xgb.DMatrix(X_train, label=y_train)\n",
    "\n",
    "    num_round = 10\n",
    "    bst = xgb.train(param, dtrain, num_round)\n",
    "\n",
    "    dtest = xgb.DMatrix(X_test)\n",
    "    y_pred = bst.predict(dtest)\n",
    "    results[i] = regression_results(y_test, y_pred)"
   ]
  },
  {
   "cell_type": "code",
   "execution_count": null,
   "metadata": {},
   "outputs": [],
   "source": [
    "results"
   ]
  },
  {
   "cell_type": "code",
   "execution_count": null,
   "metadata": {
    "lines_to_next_cell": 2
   },
   "outputs": [],
   "source": [
    "['/scratch/ge3/sg4953/3dem_mag1_fin.level_002_cropped.tif',\n",
    " '/scratch/ge3/sg4953/HYDROXYL-1-PC1_clay.level_002_cropped.tif',\n",
    " '/scratch/ge3/sg4953/Thorium_2016_cropped.tif',\n",
    " '/scratch/ge3/sg4953/Rad2016Th_K_cropped.tif',\n",
    " '/scratch/ge3/sg4953/water-85m_cropped.tif',\n",
    " '/scratch/ge3/sg4953/Potassium_2016_cropped.tif',\n",
    " '/scratch/ge3/sg4953/be-30y-85m-avg_BLUE+SWIR2.level_002_cropped.tif',\n",
    " '/scratch/ge3/sg4953/3dem_mag2.level_002_cropped.tif',\n",
    " '/scratch/ge3/sg4953/be-30y-85m-avg-ND-SWIR1-NIR.filled.lzw.nodata.level_002_cropped.tif',\n",
    " '/scratch/ge3/sg4953/saga_wetSM_85_resampled_cropped.tif',\n",
    " '/scratch/ge3/sg4953/dem_fill.level_002_cropped.tif']"
   ]
  },
  {
   "cell_type": "code",
   "execution_count": null,
   "metadata": {},
   "outputs": [],
   "source": [
    "# headernp[:, 1:]\n",
    "\n",
    "with open(str(root)+'/input_dataset.csv', \"r\") as f:\n",
    "    reader = csv.reader(f)\n",
    "    header = next(reader)\n",
    "\n",
    "header = header[1:]\n",
    "pprint(header)"
   ]
  },
  {
   "cell_type": "code",
   "execution_count": null,
   "metadata": {},
   "outputs": [],
   "source": [
    "%matplotlib inline\n",
    "plt.style.use('seaborn-whitegrid')"
   ]
  },
  {
   "cell_type": "code",
   "execution_count": null,
   "metadata": {},
   "outputs": [],
   "source": [
    "r2 = []\n",
    "MAE = []\n",
    "MSE = []\n",
    "RMSE = []\n",
    "explained_variance = []"
   ]
  },
  {
   "cell_type": "code",
   "execution_count": null,
   "metadata": {},
   "outputs": [],
   "source": [
    "results.items()"
   ]
  },
  {
   "cell_type": "code",
   "execution_count": null,
   "metadata": {},
   "outputs": [],
   "source": [
    "r2 = []\n",
    "MAE = []\n",
    "MSE = []\n",
    "RMSE = []\n",
    "explained_variance = []\n",
    "plt.xticks(rotation=90)\n",
    "for point in results:\n",
    "\n",
    "    r2.append((header[point], results[point][\"r2\"]))\n",
    "    MAE.append((header[point], results[point][\"MAE\"]))\n",
    "    MSE.append((header[point], results[point][\"MSE\"]))\n",
    "    RMSE.append((header[point], results[point][\"RMSE\"]))\n",
    "    explained_variance.append(\n",
    "        (header[point], results[point][\"explained_variance\"]))"
   ]
  },
  {
   "cell_type": "code",
   "execution_count": null,
   "metadata": {},
   "outputs": [],
   "source": [
    "plt.xticks(rotation=90)\n",
    "plt.scatter(*zip(*r2))\n",
    "plt.show()"
   ]
  },
  {
   "cell_type": "code",
   "execution_count": null,
   "metadata": {},
   "outputs": [],
   "source": [
    "plt.xticks(rotation=90)\n",
    "plt.scatter(*zip(*MAE))\n",
    "plt.show()"
   ]
  },
  {
   "cell_type": "code",
   "execution_count": null,
   "metadata": {},
   "outputs": [],
   "source": [
    "plt.xticks(rotation=90)\n",
    "plt.scatter(*zip(*RMSE))\n",
    "plt.show()"
   ]
  },
  {
   "cell_type": "code",
   "execution_count": null,
   "metadata": {},
   "outputs": [],
   "source": [
    "plt.xticks(rotation=90)\n",
    "plt.scatter(*zip(*explained_variance))\n",
    "plt.show()"
   ]
  },
  {
   "cell_type": "markdown",
   "metadata": {},
   "source": [
    "## Plotting"
   ]
  },
  {
   "cell_type": "code",
   "execution_count": null,
   "metadata": {
    "lines_to_next_cell": 2
   },
   "outputs": [],
   "source": [
    "xgb.plot_importance(bst)"
   ]
  },
  {
   "cell_type": "code",
   "execution_count": null,
   "metadata": {},
   "outputs": [],
   "source": [
    "xgb.to_graphviz(bst, num_trees=2)"
   ]
  },
  {
   "cell_type": "markdown",
   "metadata": {},
   "source": [
    "## Shutdown Cluster"
   ]
  },
  {
   "cell_type": "code",
   "execution_count": 37,
   "metadata": {},
   "outputs": [],
   "source": [
    "client = distributed.client._get_global_client()\n",
    "client"
   ]
  },
  {
   "cell_type": "code",
   "execution_count": 38,
   "metadata": {},
   "outputs": [
    {
     "ename": "AttributeError",
     "evalue": "'NoneType' object has no attribute 'shutdown'",
     "output_type": "error",
     "traceback": [
      "\u001b[0;31m---------------------------------------------------------------------------\u001b[0m",
      "\u001b[0;31mAttributeError\u001b[0m                            Traceback (most recent call last)",
      "\u001b[0;32m<ipython-input-38-fee5beb66e59>\u001b[0m in \u001b[0;36m<module>\u001b[0;34m\u001b[0m\n\u001b[0;32m----> 1\u001b[0;31m \u001b[0mclient\u001b[0m\u001b[0;34m.\u001b[0m\u001b[0mshutdown\u001b[0m\u001b[0;34m(\u001b[0m\u001b[0;34m)\u001b[0m\u001b[0;34m\u001b[0m\u001b[0;34m\u001b[0m\u001b[0m\n\u001b[0m",
      "\u001b[0;31mAttributeError\u001b[0m: 'NoneType' object has no attribute 'shutdown'"
     ]
    }
   ],
   "source": [
    "client.shutdown()\n"
   ]
  },
  {
   "cell_type": "code",
   "execution_count": null,
   "metadata": {},
   "outputs": [],
   "source": []
  }
 ],
 "metadata": {
  "kernelspec": {
   "display_name": "Python 3",
   "language": "python",
   "name": "python3"
  },
  "language_info": {
   "codemirror_mode": {
    "name": "ipython",
    "version": 3
   },
   "file_extension": ".py",
   "mimetype": "text/x-python",
   "name": "python",
   "nbconvert_exporter": "python",
   "pygments_lexer": "ipython3",
   "version": "3.8.5"
  }
 },
 "nbformat": 4,
 "nbformat_minor": 4
}
