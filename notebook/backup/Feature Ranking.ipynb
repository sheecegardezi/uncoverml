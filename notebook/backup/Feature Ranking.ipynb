{
 "cells": [
  {
   "cell_type": "markdown",
   "metadata": {},
   "source": [
    "## feature ranking with elimination"
   ]
  },
  {
   "cell_type": "raw",
   "metadata": {},
   "source": [
    "Algorithm for feature elimination:\n",
    "\n",
    "Repeat N times, where n is the total number of features\n",
    "-For a feature in the list_of_features:\n",
    "--train a model (fixed parameters) using all the features in the list_of_features except feature\n",
    "--get performance score for the trained model\n",
    "-remove the feature with least significance to the performance of the model\n",
    "--list_of_features.pop(feature)"
   ]
  },
  {
   "cell_type": "code",
   "execution_count": 1,
   "metadata": {},
   "outputs": [],
   "source": [
    "from pathlib import Path"
   ]
  },
  {
   "cell_type": "code",
   "execution_count": 2,
   "metadata": {},
   "outputs": [],
   "source": [
    "import csv\n",
    "import time  # Just to compare fit times\n",
    "from pathlib import Path\n",
    "from pprint import pprint\n",
    "import csv\n",
    "import multiprocessing"
   ]
  },
  {
   "cell_type": "code",
   "execution_count": 3,
   "metadata": {
    "lines_to_next_cell": 2
   },
   "outputs": [],
   "source": [
    "import numpy as np\n",
    "# import xgboost as xgb\n",
    "from matplotlib import pyplot as plt\n",
    "from sklearn import metrics\n",
    "from sklearn.model_selection import train_test_split\n",
    "import lightgbm as lgb\n",
    "import xgboost as xgb\n",
    "# from tune_sklearn import TuneSearchCV\n",
    "# from xgboost import XGBRegressor\n",
    "# import xgboost as xgb\n"
   ]
  },
  {
   "cell_type": "code",
   "execution_count": 4,
   "metadata": {},
   "outputs": [],
   "source": [
    "input_dataset_path = Path('../../data/input_dataset.csv')"
   ]
  },
  {
   "cell_type": "code",
   "execution_count": 5,
   "metadata": {},
   "outputs": [
    {
     "name": "stdout",
     "output_type": "stream",
     "text": [
      "CPU times: user 16.8 s, sys: 1.05 s, total: 17.8 s\n",
      "Wall time: 17.9 s\n"
     ]
    }
   ],
   "source": [
    "%%time\n",
    "\n",
    "# read the csv file created\n",
    "train = np.genfromtxt(input_dataset_path, delimiter=',',skip_header=1)\n",
    "\n",
    "\n",
    "X, y = train[:, 1:], train[:, :1]\n",
    "y = y.ravel()\n",
    "\n",
    "# Set training and validation sets\n",
    "X_train, X_test, y_train, y_test = train_test_split(X, y, test_size=0.33)"
   ]
  },
  {
   "cell_type": "code",
   "execution_count": 6,
   "metadata": {},
   "outputs": [
    {
     "name": "stdout",
     "output_type": "stream",
     "text": [
      "['target',\n",
      " 'LOC_distance_to_coast',\n",
      " 'mrvbf_9',\n",
      " 'relief_mrvbf_3s_mosaic',\n",
      " 'relief_elev_focalrange1000m_3s',\n",
      " 'relief_elev_focalrange300m_3s',\n",
      " 'saga_wetSM_85_resampled',\n",
      " 'tpi_300',\n",
      " 'slope_fill2',\n",
      " 'dem_fill',\n",
      " '3dem_mag2',\n",
      " '3dem_mag1_fin',\n",
      " '3dem_mag0.fin',\n",
      " 'relief_roughness',\n",
      " 'LATITUDE_GRID1_clip',\n",
      " 'Dose_2016',\n",
      " 'Potassium_2016',\n",
      " 'Thorium_2016',\n",
      " 'Rad2016U_Th',\n",
      " 'Rad2016K_Th',\n",
      " 'national_Wii_RF_multirandomforest_prediction',\n",
      " 'si_geol1',\n",
      " 'ceno_euc_aust1',\n",
      " 'Grav_lane_clip',\n",
      " 'be-30y-85m-avg-ND-NIR-GREEN.filled.lzw.nodata',\n",
      " 'be-30y-85m-avg-ND-RED-BLUE.filled.lzw.nodata',\n",
      " 'be-30y-85m-avg-ND-SWIR1-SWIR2.filled.lzw.nodata',\n",
      " 'be-30y-85m-avg_BLUE+SWIR2',\n",
      " 'be-30y-85m-avg-ND-SWIR1-NIR.filled.lzw.nodata',\n",
      " 'be-30y-85m-avg-CLAY-PC2.filled.lzw.nodata',\n",
      " 'be-30y-85m-avg-RED.filled.lzw.nodata',\n",
      " 'be-30y-85m-avg-GREEN.filled.lzw.nodata',\n",
      " 'be-l8-all-85m-avg-BLUE.filled.lzw.nodata',\n",
      " 'be-l8-all-85m-avg-NIR.filled.lzw.nodata',\n",
      " 'be-30y-85m-avg-SWIR1.filled.lzw.nodata',\n",
      " 'be-30y-85m-avg-SWIR2.filled.lzw.nodata',\n",
      " 's2-dpca-85m',\n",
      " 'water-85m',\n",
      " 'clim_EPA_albers',\n",
      " 'Clim_Prescott_LindaGregory',\n",
      " 'clim_PTA_albers',\n",
      " 'clim_WDA_albers',\n",
      " 'clim_RSM_albers']\n"
     ]
    }
   ],
   "source": [
    "headers = next(csv.reader(open(input_dataset_path)))\n",
    "pprint(headers)"
   ]
  },
  {
   "cell_type": "markdown",
   "metadata": {},
   "source": [
    "## Build-in Recursive feature elimination with cross-validation\n"
   ]
  },
  {
   "cell_type": "code",
   "execution_count": 19,
   "metadata": {},
   "outputs": [
    {
     "name": "stdout",
     "output_type": "stream",
     "text": [
      "Optimal number of features : 34\n"
     ]
    },
    {
     "data": {
      "image/png": "[encoded data removed]",
      "text/plain": [
       "<Figure size 432x288 with 1 Axes>"
      ]
     },
     "metadata": {
      "needs_background": "light"
     },
     "output_type": "display_data"
    }
   ],
   "source": [
    "import matplotlib.pyplot as plt\n",
    "from sklearn.feature_selection import RFECV\n",
    "\n",
    "\n",
    "# Create the RFE object and compute a cross-validated score.\n",
    "xgb_model = xgb.XGBRegressor(n_jobs=multiprocessing.cpu_count() // 2)\n",
    "\n",
    "# The \"accuracy\" scoring is proportional to the number of correct\n",
    "# classifications\n",
    "\n",
    "min_features_to_select = 1  # Minimum number of features to consider\n",
    "rfecv = RFECV(estimator=xgb_model, \n",
    "              step=1, \n",
    "              cv=2,\n",
    "              scoring='r2',\n",
    "              min_features_to_select=min_features_to_select)\n",
    "rfecv.fit(X, y)\n",
    "\n",
    "print(\"Optimal number of features : %d\" % rfecv.n_features_)\n",
    "\n",
    "# Plot number of features VS. cross-validation scores\n",
    "plt.figure()\n",
    "plt.xlabel(\"Number of features selected\")\n",
    "plt.ylabel(\"Cross validation score (nb of correct classifications)\")\n",
    "plt.plot(range(min_features_to_select, len(rfecv.grid_scores_) + min_features_to_select), rfecv.grid_scores_)\n",
    "plt.show()"
   ]
  },
  {
   "cell_type": "code",
   "execution_count": 21,
   "metadata": {
    "lines_to_next_cell": 2
   },
   "outputs": [
    {
     "data": {
      "text/plain": [
       "array([ True,  True,  True,  True, False,  True, False, False,  True,\n",
       "        True,  True, False, False,  True, False,  True,  True,  True,\n",
       "        True,  True, False,  True,  True,  True,  True,  True,  True,\n",
       "        True,  True, False, False,  True,  True,  True,  True,  True,\n",
       "       False,  True,  True,  True,  True,  True,  True,  True])"
      ]
     },
     "execution_count": 21,
     "metadata": {},
     "output_type": "execute_result"
    }
   ],
   "source": [
    "rfecv.support_"
   ]
  },
  {
   "cell_type": "code",
   "execution_count": 22,
   "metadata": {},
   "outputs": [
    {
     "data": {
      "text/plain": [
       "array([ 1,  1,  1,  1,  4,  1,  7,  8,  1,  1,  1,  9,  2,  1, 11,  1,  1,\n",
       "        1,  1,  1,  6,  1,  1,  1,  1,  1,  1,  1,  1,  5, 10,  1,  1,  1,\n",
       "        1,  1,  3,  1,  1,  1,  1,  1,  1,  1])"
      ]
     },
     "execution_count": 22,
     "metadata": {},
     "output_type": "execute_result"
    }
   ],
   "source": [
    "rfecv.ranking_"
   ]
  },
  {
   "cell_type": "markdown",
   "metadata": {},
   "source": [
    "## In-house Recursive feature elimination with cross-validation"
   ]
  },
  {
   "cell_type": "code",
   "execution_count": 24,
   "metadata": {},
   "outputs": [],
   "source": [
    "\n",
    "\n",
    "import pandas as pd\n",
    "import numpy as np\n",
    "import distributed\n",
    "\n",
    "import dask\n",
    "import dask.array as da\n",
    "import dask.dataframe as dd\n",
    "from dask.distributed import Client, wait, LocalCluster\n",
    "\n",
    "from dask_cuda import LocalCUDACluster\n",
    "from sklearn.model_selection import train_test_split\n",
    "\n",
    "# from dask_ml.model_selection import train_test_split\n",
    "from sklearn.metrics import r2_score, mean_squared_error\n",
    "# from dask_ml.metrics import r2_score\n",
    "import xgboost as xgb\n",
    "\n",
    "# # from sklearn.metrics import  explained_variance_score, mean_absolute_error, mean_squared_error, r2_score\n",
    "\n",
    "# # Start cluster and client. This is currently local, although I would like to make this distributed across many nodes.\n",
    "# # cluster = LocalCUDACluster(CUDA_VISIBLE_DEVICES='0,1,2,3', threads_per_worker=2)\n",
    "# cluster = LocalCluster(n_workers=24,threads_per_worker=12,dashboard_address='0.0.0.0:8787')\n",
    "# # cluster = LocalCluster(dashboard_address='0.0.0.0:8787') # Workers: 6, Cores: 24\n",
    "# # cluster = LocalCUDACluster(CUDA_VISIBLE_DEVICES='0,1,2,3', threads_per_worker=24,dashboard_address='0.0.0.0:8787')\n",
    "\n",
    "# # cluster = LocalCUDACluster()\n",
    "# client = Client(cluster)\n",
    "# client\n",
    "\n"
   ]
  },
  {
   "cell_type": "code",
   "execution_count": 25,
   "metadata": {},
   "outputs": [
    {
     "name": "stdout",
     "output_type": "stream",
     "text": [
      "CPU times: user 2min 29s, sys: 1.28 s, total: 2min 30s\n",
      "Wall time: 21.5 s\n"
     ]
    },
    {
     "data": {
      "text/plain": [
       "0.2981210987803412"
      ]
     },
     "execution_count": 25,
     "metadata": {},
     "output_type": "execute_result"
    }
   ],
   "source": [
    "%%time\n",
    "input_dataset_path = Path('../../data/input_dataset.csv')\n",
    "# read the csv file created\n",
    "train = np.genfromtxt(input_dataset_path, delimiter=',',skip_header=1)\n",
    "\n",
    "\n",
    "X, y = train[:, 1:], train[:, :1]\n",
    "y = y.ravel()\n",
    "\n",
    "# Feature Matrix    \n",
    "# Prep Training/Testing Dataset\n",
    "X_train, X_test, y_train, y_test = train_test_split(X, y, test_size=0.25, random_state=0, shuffle=False)\n",
    "del X\n",
    "dtrain = xgb.DMatrix(data=X_train, label=y_train)\n",
    "dtest = xgb.DMatrix(data=X_test, label=y_test)\n",
    "\n",
    "del X_train\n",
    "del X_test\n",
    "del y_train\n",
    "\n",
    "# XGBoost model\n",
    "param = {'objective':'reg:squarederror','eval_metric':'rmse'}\n",
    "xg_reg = xgb.train(param, dtrain)\n",
    "y_pred = xg_reg.predict(dtest)\n",
    "\n",
    "del xg_reg\n",
    "del dtest\n",
    "del dtrain\n",
    "\n",
    "score = mean_squared_error(y_test, y_pred,squared=True )\n",
    "\n",
    "score"
   ]
  },
  {
   "cell_type": "code",
   "execution_count": 68,
   "metadata": {},
   "outputs": [
    {
     "name": "stdout",
     "output_type": "stream",
     "text": [
      "CPU times: user 4min 6s, sys: 841 ms, total: 4min 7s\n",
      "Wall time: 8.41 s\n"
     ]
    },
    {
     "data": {
      "text/plain": [
       "0.20322"
      ]
     },
     "execution_count": 68,
     "metadata": {},
     "output_type": "execute_result"
    }
   ],
   "source": [
    "%%time\n",
    "dtrain = xgb.DMatrix('../../data/input_dataset.csv?format=csv&label_column=0')\n",
    "param = {'objective':'reg:squarederror'}\n",
    "xgb_cv_results = xgb.cv(params=param, dtrain=dtrain, nfold=2, verbose_eval=False)\n",
    "best_score = xgb_cv_results.iloc[:,0].values[-1]\n",
    "best_score"
   ]
  },
  {
   "cell_type": "code",
   "execution_count": 69,
   "metadata": {},
   "outputs": [
    {
     "data": {
      "text/html": [
       "<div>\n",
       "<style scoped>\n",
       "    .dataframe tbody tr th:only-of-type {\n",
       "        vertical-align: middle;\n",
       "    }\n",
       "\n",
       "    .dataframe tbody tr th {\n",
       "        vertical-align: top;\n",
       "    }\n",
       "\n",
       "    .dataframe thead th {\n",
       "        text-align: right;\n",
       "    }\n",
       "</style>\n",
       "<table border=\"1\" class=\"dataframe\">\n",
       "  <thead>\n",
       "    <tr style=\"text-align: right;\">\n",
       "      <th></th>\n",
       "      <th>train-rmse-mean</th>\n",
       "      <th>train-rmse-std</th>\n",
       "      <th>test-rmse-mean</th>\n",
       "      <th>test-rmse-std</th>\n",
       "    </tr>\n",
       "  </thead>\n",
       "  <tbody>\n",
       "    <tr>\n",
       "      <th>0</th>\n",
       "      <td>0.424712</td>\n",
       "      <td>0.000323</td>\n",
       "      <td>0.425974</td>\n",
       "      <td>0.000740</td>\n",
       "    </tr>\n",
       "    <tr>\n",
       "      <th>1</th>\n",
       "      <td>0.352768</td>\n",
       "      <td>0.000438</td>\n",
       "      <td>0.355820</td>\n",
       "      <td>0.001032</td>\n",
       "    </tr>\n",
       "    <tr>\n",
       "      <th>2</th>\n",
       "      <td>0.307128</td>\n",
       "      <td>0.000672</td>\n",
       "      <td>0.311422</td>\n",
       "      <td>0.000197</td>\n",
       "    </tr>\n",
       "    <tr>\n",
       "      <th>3</th>\n",
       "      <td>0.274613</td>\n",
       "      <td>0.000359</td>\n",
       "      <td>0.280563</td>\n",
       "      <td>0.000135</td>\n",
       "    </tr>\n",
       "    <tr>\n",
       "      <th>4</th>\n",
       "      <td>0.254083</td>\n",
       "      <td>0.001494</td>\n",
       "      <td>0.261242</td>\n",
       "      <td>0.001319</td>\n",
       "    </tr>\n",
       "    <tr>\n",
       "      <th>5</th>\n",
       "      <td>0.236872</td>\n",
       "      <td>0.000205</td>\n",
       "      <td>0.245351</td>\n",
       "      <td>0.000087</td>\n",
       "    </tr>\n",
       "    <tr>\n",
       "      <th>6</th>\n",
       "      <td>0.227658</td>\n",
       "      <td>0.001471</td>\n",
       "      <td>0.237310</td>\n",
       "      <td>0.001392</td>\n",
       "    </tr>\n",
       "    <tr>\n",
       "      <th>7</th>\n",
       "      <td>0.220212</td>\n",
       "      <td>0.001318</td>\n",
       "      <td>0.230944</td>\n",
       "      <td>0.000880</td>\n",
       "    </tr>\n",
       "    <tr>\n",
       "      <th>8</th>\n",
       "      <td>0.207805</td>\n",
       "      <td>0.001210</td>\n",
       "      <td>0.219908</td>\n",
       "      <td>0.001512</td>\n",
       "    </tr>\n",
       "    <tr>\n",
       "      <th>9</th>\n",
       "      <td>0.203220</td>\n",
       "      <td>0.001053</td>\n",
       "      <td>0.216091</td>\n",
       "      <td>0.001348</td>\n",
       "    </tr>\n",
       "  </tbody>\n",
       "</table>\n",
       "</div>"
      ],
      "text/plain": [
       "   train-rmse-mean  train-rmse-std  test-rmse-mean  test-rmse-std\n",
       "0         0.424712        0.000323        0.425974       0.000740\n",
       "1         0.352768        0.000438        0.355820       0.001032\n",
       "2         0.307128        0.000672        0.311422       0.000197\n",
       "3         0.274613        0.000359        0.280563       0.000135\n",
       "4         0.254083        0.001494        0.261242       0.001319\n",
       "5         0.236872        0.000205        0.245351       0.000087\n",
       "6         0.227658        0.001471        0.237310       0.001392\n",
       "7         0.220212        0.001318        0.230944       0.000880\n",
       "8         0.207805        0.001210        0.219908       0.001512\n",
       "9         0.203220        0.001053        0.216091       0.001348"
      ]
     },
     "execution_count": 69,
     "metadata": {},
     "output_type": "execute_result"
    }
   ],
   "source": [
    "xgb_cv_results"
   ]
  },
  {
   "cell_type": "code",
   "execution_count": 73,
   "metadata": {},
   "outputs": [
    {
     "name": "stdout",
     "output_type": "stream",
     "text": [
      "CPU times: user 6min 4s, sys: 2.44 s, total: 6min 7s\n",
      "Wall time: 11.1 s\n"
     ]
    },
    {
     "data": {
      "text/plain": [
       "0.10831833333333334"
      ]
     },
     "execution_count": 73,
     "metadata": {},
     "output_type": "execute_result"
    }
   ],
   "source": [
    "%%time\n",
    "df = pd.read_csv('../../data/input_dataset.csv')\n",
    "\n",
    "X = df.drop(\"target\",axis=1)   # Feature Matrix\n",
    "y = df[\"target\"]    \n",
    "features_to_drop = \"LOC_distance_to_coast\"\n",
    "#--------------------------------\n",
    "dtrain = xgb.DMatrix(data=X.drop(features_to_drop,axis=1), label=y,nthread=-1)\n",
    "\n",
    "param = {\n",
    "    'objective':'reg:squarederror',\n",
    "    'tree_method':'approx',\n",
    "    'predictor': 'cpu_predictor'\n",
    "}\n",
    "xgb_cv_results = xgb.cv(param, dtrain,nfold=3,metrics=\"rmsle\",verbose_eval=False,seed=0)\n",
    "best_score = xgb_cv_results.iloc[:,0].values[-1]\n",
    "best_score"
   ]
  },
  {
   "cell_type": "code",
   "execution_count": 75,
   "metadata": {},
   "outputs": [],
   "source": [
    "def get_score_without_feature(X, y, features_to_drop):\n",
    "    \n",
    "    dtrain = xgb.DMatrix(data=X.drop(features_to_drop,axis=1), label=y,nthread=-1)\n",
    "\n",
    "    param = {\n",
    "        'objective':'reg:squarederror',\n",
    "        'tree_method':'approx',\n",
    "        'predictor': 'cpu_predictor'\n",
    "    }\n",
    "    xgb_cv_results = xgb.cv(param, dtrain,nfold=3,metrics=\"rmsle\",verbose_eval=False,seed=0)\n",
    "    best_score = xgb_cv_results.iloc[:,0].values[-1]\n",
    "    return best_score\n",
    "    "
   ]
  },
  {
   "cell_type": "code",
   "execution_count": 81,
   "metadata": {},
   "outputs": [
    {
     "name": "stdout",
     "output_type": "stream",
     "text": [
      "Getting score for:  LOC_distance_to_coast\n",
      "CPU times: user 2min 31s, sys: 1.84 s, total: 2min 33s\n",
      "Wall time: 6.45 s\n"
     ]
    },
    {
     "data": {
      "text/plain": [
       "(0.10831833333333334, 'LOC_distance_to_coast')"
      ]
     },
     "execution_count": 81,
     "metadata": {},
     "output_type": "execute_result"
    }
   ],
   "source": [
    "# %%time\n",
    "# df = pd.read_csv('../../data/input_dataset.csv')\n",
    "\n",
    "# X = df.drop(\"target\",axis=1)   # Feature Matrix\n",
    "# y = df[\"target\"]    \n",
    "# #----------------------------------\n",
    "# intermediate_results = {}\n",
    "# for featureindex,feature_name in enumerate(X.columns):\n",
    "#     print(\"Getting score for: \",feature_name)\n",
    "#     score_without_feature = get_score_without_feature(X, y, feature_name)\n",
    "#     intermediate_results[feature_name] = score_without_feature\n",
    "    \n",
    "\n",
    "# # calculate the results        \n",
    "# lowest_feature = None\n",
    "# lowest_score = -999\n",
    "# for feature_name in intermediate_results.keys():\n",
    "#     score_without_feature = intermediate_results[feature_name]\n",
    "#     if score_without_feature >= lowest_score:\n",
    "#         lowest_score = score_without_feature\n",
    "#         lowest_feature = feature_name\n",
    "\n",
    "        \n",
    "# lowest_score,lowest_feature"
   ]
  },
  {
   "cell_type": "code",
   "execution_count": 82,
   "metadata": {},
   "outputs": [],
   "source": [
    "import time\n",
    "\n",
    "\n",
    "def find_least_important_feature(X, y):\n",
    "        \n",
    "    intermediate_results = {}\n",
    "    for featureindex,feature_name in enumerate(X.columns):\n",
    "        score_without_feature = get_score_without_feature(X, y, feature_name)\n",
    "        intermediate_results[feature_name] = score_without_feature\n",
    "        print(\"Getting score for: \",feature_name,score_without_feature,len(X.columns))\n",
    "           \n",
    "    # calculate the results        \n",
    "    lowest_feature = None\n",
    "    lowest_score = -999\n",
    "    for feature_name in intermediate_results.keys():\n",
    "        score_without_feature = intermediate_results[feature_name]\n",
    "        if score_without_feature >= lowest_score:\n",
    "            lowest_score = score_without_feature\n",
    "            lowest_feature = feature_name\n",
    "        del score_without_feature\n",
    "    del intermediate_results\n",
    "    return(lowest_score,lowest_feature)"
   ]
  },
  {
   "cell_type": "code",
   "execution_count": 83,
   "metadata": {},
   "outputs": [
    {
     "name": "stdout",
     "output_type": "stream",
     "text": [
      "Getting score for:  LOC_distance_to_coast 0.10831833333333334 42\n",
      "Getting score for:  mrvbf_9 0.10689233333333333 42\n",
      "Getting score for:  relief_mrvbf_3s_mosaic 0.10722533333333333 42\n",
      "Getting score for:  relief_elev_focalrange1000m_3s 0.107698 42\n",
      "Getting score for:  relief_elev_focalrange300m_3s 0.10727000000000002 42\n",
      "Getting score for:  saga_wetSM_85_resampled 0.10705733333333334 42\n",
      "Getting score for:  tpi_300 0.108083 42\n",
      "Getting score for:  slope_fill2 0.10806433333333332 42\n",
      "Getting score for:  dem_fill 0.10782266666666666 42\n",
      "Getting score for:  3dem_mag2 0.10929433333333333 42\n",
      "Getting score for:  3dem_mag1_fin 0.10820733333333332 42\n",
      "Getting score for:  3dem_mag0.fin 0.10806 42\n",
      "Getting score for:  relief_roughness 0.107684 42\n",
      "Getting score for:  LATITUDE_GRID1_clip 0.10735866666666666 42\n",
      "Getting score for:  Dose_2016 0.10787200000000001 42\n",
      "Getting score for:  Potassium_2016 0.10775666666666667 42\n",
      "Getting score for:  Thorium_2016 0.10862933333333334 42\n",
      "Getting score for:  Rad2016U_Th 0.10679299999999999 42\n",
      "Getting score for:  Rad2016K_Th 0.10784166666666667 42\n",
      "Getting score for:  national_Wii_RF_multirandomforest_prediction 0.107276 42\n",
      "Getting score for:  si_geol1 0.10937166666666666 42\n",
      "Getting score for:  ceno_euc_aust1 0.10833999999999999 42\n",
      "Getting score for:  Grav_lane_clip 0.10812733333333334 42\n",
      "Getting score for:  be-30y-85m-avg-ND-NIR-GREEN.filled.lzw.nodata 0.10862733333333334 42\n",
      "Getting score for:  be-30y-85m-avg-ND-RED-BLUE.filled.lzw.nodata 0.10742800000000001 42\n",
      "Getting score for:  be-30y-85m-avg-ND-SWIR1-SWIR2.filled.lzw.nodata 0.10745166666666667 42\n",
      "Getting score for:  be-30y-85m-avg_BLUE+SWIR2 0.10760499999999999 42\n",
      "Getting score for:  be-30y-85m-avg-ND-SWIR1-NIR.filled.lzw.nodata 0.10738500000000001 42\n",
      "Getting score for:  be-30y-85m-avg-CLAY-PC2.filled.lzw.nodata 0.10754533333333334 42\n",
      "Getting score for:  be-30y-85m-avg-RED.filled.lzw.nodata 0.10739133333333332 42\n",
      "Getting score for:  be-30y-85m-avg-GREEN.filled.lzw.nodata 0.10698599999999998 42\n",
      "Getting score for:  be-l8-all-85m-avg-BLUE.filled.lzw.nodata 0.10721633333333332 42\n",
      "Getting score for:  be-l8-all-85m-avg-NIR.filled.lzw.nodata 0.10730166666666667 42\n",
      "Getting score for:  be-30y-85m-avg-SWIR1.filled.lzw.nodata 0.107335 42\n",
      "Getting score for:  be-30y-85m-avg-SWIR2.filled.lzw.nodata 0.10808233333333334 42\n",
      "Getting score for:  s2-dpca-85m 0.10674966666666667 42\n",
      "Getting score for:  water-85m 0.10718366666666668 42\n",
      "Getting score for:  clim_EPA_albers 0.10767333333333333 42\n",
      "Getting score for:  Clim_Prescott_LindaGregory 0.10886366666666665 42\n",
      "Getting score for:  clim_PTA_albers 0.107709 42\n",
      "Getting score for:  clim_WDA_albers 0.10756900000000001 42\n",
      "Getting score for:  clim_RSM_albers 0.10805966666666666 42\n",
      "0.10937166666666666 si_geol1\n",
      "CPU times: user 3h 35min 33s, sys: 2min 29s, total: 3h 38min 2s\n",
      "Wall time: 5min 53s\n"
     ]
    }
   ],
   "source": [
    "%%time\n",
    "\n",
    "df = pd.read_csv('../../data/input_dataset.csv')\n",
    "\n",
    "X = df.drop(\"target\",axis=1)   # Feature Matrix\n",
    "y = df[\"target\"]    \n",
    "\n",
    "min_features_required = 43\n",
    "complete_result = {}\n",
    "results = []\n",
    "\n",
    "current_total_feature = X.shape[1]\n",
    "complete_result[current_total_feature] = {}\n",
    "\n",
    "lowest_score,lowest_feature = find_least_important_feature(X,y)\n",
    "lowest_score,lowest_feature\n",
    "results.append((lowest_score,lowest_feature))\n",
    "print(lowest_score,lowest_feature)\n",
    "\n",
    "current_X = X.drop(lowest_feature,axis=1)   \n",
    "current_total_feature = X.shape[1]\n",
    "\n",
    "while(current_total_feature>min_features_required):\n",
    "\n",
    "    lowest_score,lowest_feature = find_least_important_feature(current_X,y)\n",
    "    results.append((lowest_score,lowest_feature))\n",
    "    current_X = current_X.drop(lowest_feature,axis=1)\n",
    "    current_total_feature = current_X.shape[1]\n",
    "    print(lowest_score,lowest_feature)"
   ]
  },
  {
   "cell_type": "markdown",
   "metadata": {},
   "source": [
    "## Shutdown Cluster\n"
   ]
  },
  {
   "cell_type": "code",
   "execution_count": null,
   "metadata": {},
   "outputs": [],
   "source": [
    "client = distributed.client._get_global_client()\n",
    "client"
   ]
  },
  {
   "cell_type": "code",
   "execution_count": 13,
   "metadata": {},
   "outputs": [
    {
     "name": "stdout",
     "output_type": "stream",
     "text": [
      "{'cols_to_drop': [0],\n",
      " 'feature_to_drop': 0,\n",
      " 'n': 0,\n",
      " 'regression_results': {'MAE': 0.0625,\n",
      "                        'MSE': 0.0303,\n",
      "                        'RMSE': 0.174,\n",
      "                        'explained_variance': 0.8255,\n",
      "                        'r2': 0.8255}}\n"
     ]
    }
   ],
   "source": [
    "client.shutdown()"
   ]
  },
  {
   "cell_type": "code",
   "execution_count": 60,
   "metadata": {},
   "outputs": [
    {
     "data": {
      "image/png": "[encoded data removed]",
      "text/plain": [
       "<Figure size 216x144 with 1 Axes>"
      ]
     },
     "metadata": {
      "needs_background": "light"
     },
     "output_type": "display_data"
    },
    {
     "data": {
      "image/png": "[encoded data removed]",
      "text/plain": [
       "<Figure size 216x144 with 1 Axes>"
      ]
     },
     "metadata": {
      "needs_background": "light"
     },
     "output_type": "display_data"
    },
    {
     "data": {
      "image/png": "[encoded data removed]",
      "text/plain": [
       "<Figure size 216x144 with 1 Axes>"
      ]
     },
     "metadata": {
      "needs_background": "light"
     },
     "output_type": "display_data"
    },
    {
     "data": {
      "image/png": "[encoded data removed]",
      "text/plain": [
       "<Figure size 216x144 with 1 Axes>"
      ]
     },
     "metadata": {
      "needs_background": "light"
     },
     "output_type": "display_data"
    },
    {
     "data": {
      "image/png": "[encoded data removed]",
      "text/plain": [
       "<Figure size 216x144 with 1 Axes>"
      ]
     },
     "metadata": {
      "needs_background": "light"
     },
     "output_type": "display_data"
    }
   ],
   "source": [
    "import numpy as np\n",
    "import matplotlib.pyplot as plt\n",
    "    \n",
    "\n",
    "    \n",
    "\n",
    "scorings = ['MAE','MSE','RMSE','explained_variance','r2']\n",
    "total_number_of_features = X.shape[1]\n",
    "# minimum_features_constraint = 3\n",
    "\n",
    "for scoring in scorings:    \n",
    "    x = []\n",
    "    ymax = []\n",
    "    ymin = []\n",
    "    y = []\n",
    "    yerr = []\n",
    "\n",
    "    for i in range(45):\n",
    "        x.append(i)\n",
    "        y.append(0)\n",
    "        ymax.append(-9999)\n",
    "        ymin.append(9999)\n",
    "        yerr.append(0)\n",
    "\n",
    "    for result in results_xgb:\n",
    "        index = total_number_of_features-result[\"n\"]\n",
    "        y[index] = result[\"regression_results\"][scoring]\n",
    "\n",
    "\n",
    "        if result[\"regression_results\"][scoring] > ymax[index]:\n",
    "            ymax[index] = result[\"regression_results\"][scoring]\n",
    "\n",
    "        if result[\"regression_results\"][scoring] < ymin[index]:\n",
    "            ymin[index] = result[\"regression_results\"][scoring]\n",
    "\n",
    "    for i in range(45):\n",
    "        yerr[i] = ymax[i] - ymin[i]\n",
    "\n",
    "\n",
    "    x = x[3:]\n",
    "    ymax = ymax[3:]\n",
    "    ymin = ymin[3:]\n",
    "    y = y[3:]\n",
    "    yerr = yerr[3:]\n",
    "\n",
    "\n",
    "    fig = plt.figure()\n",
    "\n",
    "    w=3\n",
    "    h=2\n",
    "    fig.set_size_inches(w, h)\n",
    "\n",
    "    plt.errorbar(x, y, yerr=yerr, label=scoring)\n",
    "    plt.legend(loc='lower right')"
   ]
  }
 ],
 "metadata": {
  "kernelspec": {
   "display_name": "Python 3",
   "language": "python",
   "name": "python3"
  },
  "language_info": {
   "codemirror_mode": {
    "name": "ipython",
    "version": 3
   },
   "file_extension": ".py",
   "mimetype": "text/x-python",
   "name": "python",
   "nbconvert_exporter": "python",
   "pygments_lexer": "ipython3",
   "version": "3.7.4"
  }
 },
 "nbformat": 4,
 "nbformat_minor": 4
}
