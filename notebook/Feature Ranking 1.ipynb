{
 "cells": [
  {
   "cell_type": "markdown",
   "metadata": {},
   "source": [
    "## feature ranking with elimination"
   ]
  },
  {
   "cell_type": "raw",
   "metadata": {},
   "source": [
    "Algorithm for feature elimination:\n",
    "\n",
    "Repeat N times, where n is the total number of features\n",
    "-For a feature in the list_of_features:\n",
    "--train a model (fixed parameters) using all the features in the list_of_features except feature\n",
    "--get performance score for the trained model\n",
    "-remove the feature with least significance to the performance of the model\n",
    "--list_of_features.pop(feature)"
   ]
  },
  {
   "cell_type": "code",
   "execution_count": 1,
   "metadata": {},
   "outputs": [],
   "source": [
    "import csv\n",
    "import time  # Just to compare fit times\n",
    "from pathlib import Path\n",
    "from pprint import pprint\n",
    "import csv\n",
    "import multiprocessing"
   ]
  },
  {
   "cell_type": "code",
   "execution_count": 2,
   "metadata": {
    "lines_to_next_cell": 2
   },
   "outputs": [],
   "source": [
    "import numpy as np\n",
    "# import xgboost as xgb\n",
    "from matplotlib import pyplot as plt\n",
    "from sklearn import metrics\n",
    "from sklearn.model_selection import train_test_split\n",
    "import lightgbm as lgb\n",
    "import xgboost as xgb\n",
    "# from tune_sklearn import TuneSearchCV\n",
    "# from xgboost import XGBRegressor\n",
    "# import xgboost as xgb"
   ]
  },
  {
   "cell_type": "code",
   "execution_count": 3,
   "metadata": {},
   "outputs": [],
   "source": [
    "import pandas as pd\n",
    "import numpy as np\n",
    "# import distributed\n",
    "\n",
    "# import dask\n",
    "# import dask.array as da\n",
    "# import dask.dataframe as dd\n",
    "# from dask.distributed import Client, wait, LocalCluster\n",
    "\n",
    "# from dask_cuda import LocalCUDACluster\n",
    "from sklearn.model_selection import train_test_split\n",
    "\n",
    "# from dask_ml.model_selection import train_test_split\n",
    "from sklearn.metrics import r2_score, mean_squared_error\n",
    "# from dask_ml.metrics import r2_score\n",
    "import xgboost as xgb"
   ]
  },
  {
   "cell_type": "code",
   "execution_count": 5,
   "metadata": {},
   "outputs": [],
   "source": [
    "input_files = [\n",
    "    Path(\"../data/original_df.csv\"),\n",
    "    Path(\"../data/scaled_df.csv\"),\n",
    "    Path(\"../data/quantile_df.csv\")\n",
    "]     \n",
    "# df = pd.read_csv(input_file)\n",
    "# y = df['target'] \n",
    "# X = df.drop(\"target\",axis=1)\n",
    "# scores = cross_val_score(XGBRegressor(objective='reg:squarederror'), X, y, scoring='r2')\n",
    "\n",
    "# input_dataset_path = Path('../data/input_dataset.csv')"
   ]
  },
  {
   "cell_type": "markdown",
   "metadata": {},
   "source": [
    "## Build-in Recursive feature elimination with cross-validation\n"
   ]
  },
  {
   "cell_type": "code",
   "execution_count": 6,
   "metadata": {},
   "outputs": [
    {
     "name": "stdout",
     "output_type": "stream",
     "text": [
      "input_file:  ../data/original_df.csv\n",
      "Optimal number of features : 25\n",
      "Support:  [False False False  True False  True False False False  True  True  True\n",
      " False False False False False False  True  True  True  True  True  True\n",
      "  True  True  True  True False  True False False False  True  True False\n",
      "  True  True  True  True  True False  True  True]\n",
      "Ranking:  [20 17  7  1 14  1 10 18 12  1  1  1  4 19 16  3  8 13  1  1  1  1  1  1\n",
      "  1  1  1  1 11  1  6 15  2  1  1  9  1  1  1  1  1  5  1  1]\n",
      "input_file:  ../data/scaled_df.csv\n",
      "Optimal number of features : 34\n",
      "Support:  [ True  True False  True False  True False  True False  True  True  True\n",
      "  True  True  True  True  True False  True  True False  True  True  True\n",
      "  True  True  True  True  True  True False False  True False  True  True\n",
      "  True  True  True  True  True False  True  True]\n",
      "Ranking:  [ 1  1  7  1 11  1  3  1 10  1  1  1  1  1  1  1  1  5  1  1  4  1  1  1\n",
      "  1  1  1  1  1  1  2  8  1  9  1  1  1  1  1  1  1  6  1  1]\n",
      "input_file:  ../data/quantile_df.csv\n",
      "Optimal number of features : 34\n",
      "Support:  [ True  True False  True False  True False  True False  True  True  True\n",
      "  True  True  True  True  True False  True  True False  True  True  True\n",
      "  True  True  True  True  True  True False False  True False  True  True\n",
      "  True  True  True  True  True False  True  True]\n",
      "Ranking:  [ 1  1  7  1 11  1  3  1 10  1  1  1  1  1  1  1  1  5  1  1  4  1  1  1\n",
      "  1  1  1  1  1  1  2  8  1  9  1  1  1  1  1  1  1  6  1  1]\n"
     ]
    }
   ],
   "source": [
    "import matplotlib.pyplot as plt\n",
    "from sklearn.feature_selection import RFECV\n",
    "\n",
    "\n",
    "# Create the RFE object and compute a cross-validated score.\n",
    "xgb_model = xgb.XGBRegressor(objective='reg:squarederror', n_jobs=multiprocessing.cpu_count() // 2)\n",
    "\n",
    "# The \"accuracy\" scoring is proportional to the number of correct\n",
    "# classifications\n",
    "for input_file in input_files:\n",
    "    print(\"input_file: \",input_file)\n",
    "    df = pd.read_csv(input_file)\n",
    "    y = df['target'] \n",
    "    X = df.drop(\"target\",axis=1)\n",
    "    min_features_to_select = 1  # Minimum number of features to consider\n",
    "    rfecv = RFECV(estimator=xgb_model, \n",
    "              step=1, \n",
    "              cv=2,\n",
    "              scoring='r2',\n",
    "              min_features_to_select=min_features_to_select)\n",
    "    rfecv.fit(X, y)\n",
    "\n",
    "    print(\"Optimal number of features : %d\" % rfecv.n_features_)\n",
    "    print(\"Support: \",rfecv.support_)\n",
    "    print(\"Ranking: \",rfecv.ranking_)\n",
    "    \n",
    "    \n"
   ]
  },
  {
   "cell_type": "code",
   "execution_count": 13,
   "metadata": {},
   "outputs": [
    {
     "data": {
      "image/png": "[encoded data removed]",
      "text/plain": [
       "<Figure size 432x288 with 1 Axes>"
      ]
     },
     "metadata": {
      "needs_background": "light"
     },
     "output_type": "display_data"
    }
   ],
   "source": [
    "\n",
    "# Plot number of features VS. cross-validation scores\n",
    "plt.figure()\n",
    "plt.xlabel(\"Number of features selected\")\n",
    "plt.ylabel(\"Cross validation score (nb of correct classifications)\")\n",
    "plt.plot(range(min_features_to_select, len(rfecv.grid_scores_) + min_features_to_select), rfecv.grid_scores_)\n",
    "plt.show()"
   ]
  },
  {
   "cell_type": "code",
   "execution_count": 14,
   "metadata": {
    "lines_to_next_cell": 2
   },
   "outputs": [
    {
     "data": {
      "text/plain": [
       "array([ True,  True,  True,  True,  True,  True, False, False,  True,\n",
       "        True,  True, False, False,  True, False,  True,  True,  True,\n",
       "        True,  True, False,  True,  True,  True,  True,  True,  True,\n",
       "       False,  True,  True, False,  True,  True,  True, False,  True,\n",
       "        True,  True,  True,  True,  True,  True,  True,  True])"
      ]
     },
     "execution_count": 14,
     "metadata": {},
     "output_type": "execute_result"
    }
   ],
   "source": [
    "rfecv.support_"
   ]
  },
  {
   "cell_type": "code",
   "execution_count": 15,
   "metadata": {},
   "outputs": [
    {
     "data": {
      "text/plain": [
       "array([ 1,  1,  1,  1,  1,  1,  5,  8,  1,  1,  1,  4,  3,  1,  9,  1,  1,\n",
       "        1,  1,  1,  7,  1,  1,  1,  1,  1,  1,  6,  1,  1, 10,  1,  1,  1,\n",
       "        2,  1,  1,  1,  1,  1,  1,  1,  1,  1])"
      ]
     },
     "execution_count": 15,
     "metadata": {},
     "output_type": "execute_result"
    }
   ],
   "source": [
    "rfecv.ranking_"
   ]
  },
  {
   "cell_type": "code",
   "execution_count": 16,
   "metadata": {},
   "outputs": [
    {
     "data": {
      "text/plain": [
       "{'/g/data/ge3/sheece/LOC_distance_to_coast.tif': 1,\n",
       " '/g/data/ge3/sheece/mrvbf_9.tif': 1,\n",
       " '/g/data/ge3/sheece/relief_mrvbf_3s_mosaic.tif': 1,\n",
       " '/g/data/ge3/sheece/relief_elev_focalrange1000m_3s.tif': 1,\n",
       " '/g/data/ge3/sheece/relief_elev_focalrange300m_3s.tif': 1,\n",
       " '/g/data/ge3/sheece/saga_wetSM_85_resampled.tif': 1,\n",
       " '/g/data/ge3/sheece/dem_fill.tif': 1,\n",
       " '/g/data/ge3/sheece/3dem_mag2.tif': 1,\n",
       " '/g/data/ge3/sheece/3dem_mag1_fin.tif': 1,\n",
       " '/g/data/ge3/sheece/Dose_2016.tif': 1,\n",
       " '/g/data/ge3/sheece/Potassium_2016.tif': 1,\n",
       " '/g/data/ge3/sheece/Thorium_2016.tif': 1,\n",
       " '/g/data/ge3/sheece/Rad2016U_Th.tif': 1,\n",
       " '/g/data/ge3/sheece/Rad2016K_Th.tif': 1,\n",
       " '/g/data/ge3/sheece/si_geol1.tif': 1,\n",
       " '/g/data/ge3/sheece/ceno_euc_aust1.tif': 1,\n",
       " '/g/data/ge3/sheece/Grav_lane_clip.tif': 1,\n",
       " '/g/data/ge3/sheece/be-30y-85m-avg-ND-NIR-GREEN.filled.lzw.nodata.tif': 1,\n",
       " '/g/data/ge3/sheece/be-30y-85m-avg-ND-SWIR1-SWIR2.filled.lzw.nodata.tif': 1,\n",
       " '/g/data/ge3/sheece/be-30y-85m-avg-ND-SWIR1-NIR.filled.lzw.nodata.tif': 1,\n",
       " '/g/data/ge3/sheece/be-30y-85m-avg-CLAY-PC2.filled.lzw.nodata.tif': 1,\n",
       " '/g/data/ge3/sheece/be-30y-85m-avg-RED.filled.lzw.nodata.tif': 1,\n",
       " '/g/data/ge3/sheece/be-30y-85m-avg-GREEN.filled.lzw.nodata.tif': 1,\n",
       " '/g/data/ge3/sheece/be-l8-all-85m-avg-BLUE.filled.lzw.nodata.tif': 1,\n",
       " '/g/data/ge3/sheece/be-30y-85m-avg-SWIR1.filled.lzw.nodata.tif': 1,\n",
       " '/g/data/ge3/sheece/be-30y-85m-avg-SWIR2.filled.lzw.nodata.tif': 1,\n",
       " '/g/data/ge3/sheece/s2-dpca-85m.tif': 1,\n",
       " '/g/data/ge3/sheece/water-85m.tif': 1,\n",
       " '/g/data/ge3/sheece/clim_EPA_albers.tif': 1,\n",
       " '/g/data/ge3/sheece/Clim_Prescott_LindaGregory.tif': 1,\n",
       " '/g/data/ge3/sheece/clim_PTA_albers.tif': 1,\n",
       " '/g/data/ge3/sheece/clim_WDA_albers.tif': 1,\n",
       " '/g/data/ge3/sheece/clim_RSM_albers.tif': 1,\n",
       " '/g/data/ge3/sheece/be-l8-all-85m-avg-NIR.filled.lzw.nodata.tif': 2,\n",
       " '/g/data/ge3/sheece/relief_roughness.tif': 3,\n",
       " '/g/data/ge3/sheece/3dem_mag0.fin.tif': 4,\n",
       " '/g/data/ge3/sheece/tpi_300.tif': 5,\n",
       " '/g/data/ge3/sheece/be-30y-85m-avg_BLUE+SWIR2.tif': 6,\n",
       " '/g/data/ge3/sheece/national_Wii_RF_multirandomforest_prediction.tif': 7,\n",
       " '/g/data/ge3/sheece/slope_fill2.tif': 8,\n",
       " '/g/data/ge3/sheece/LATITUDE_GRID1_clip.tif': 9,\n",
       " '/g/data/ge3/sheece/be-30y-85m-avg-ND-RED-BLUE.filled.lzw.nodata.tif': 10}"
      ]
     },
     "execution_count": 16,
     "metadata": {},
     "output_type": "execute_result"
    }
   ],
   "source": [
    "headers = next(csv.reader(open(input_dataset_path)))[1:]\n",
    "\n",
    "unsorteddic = {}\n",
    "for i, rank in enumerate(rfecv.ranking_):\n",
    "        unsorteddic[headers[i]] = rank\n",
    "sorteddic = dict(sorted(unsorteddic.items(), key=lambda item: item[1]))\n",
    "sorteddic"
   ]
  },
  {
   "cell_type": "markdown",
   "metadata": {},
   "source": [
    "## In-house Recursive feature elimination"
   ]
  },
  {
   "cell_type": "code",
   "execution_count": 7,
   "metadata": {},
   "outputs": [],
   "source": [
    "# # from sklearn.metrics import  explained_variance_score, mean_absolute_error, mean_squared_error, r2_score\n",
    "\n",
    "# # Start cluster and client. This is currently local, although I would like to make this distributed across many nodes.\n",
    "# # cluster = LocalCUDACluster(CUDA_VISIBLE_DEVICES='0,1,2,3', threads_per_worker=2)\n",
    "# cluster = LocalCluster(n_workers=24,threads_per_worker=12,dashboard_address='0.0.0.0:8787')\n",
    "# # cluster = LocalCluster(dashboard_address='0.0.0.0:8787') # Workers: 6, Cores: 24\n",
    "# # cluster = LocalCUDACluster(CUDA_VISIBLE_DEVICES='0,1,2,3', threads_per_worker=24,dashboard_address='0.0.0.0:8787')\n",
    "\n",
    "# # cluster = LocalCUDACluster()\n",
    "# client = Client(cluster)\n",
    "# client"
   ]
  },
  {
   "cell_type": "code",
   "execution_count": 8,
   "metadata": {},
   "outputs": [],
   "source": [
    "import statistics \n",
    "from xgboost import XGBRegressor\n",
    "from sklearn.model_selection import cross_val_score\n",
    "import statistics \n",
    "import pandas as pd\n",
    "import numpy as np\n",
    "from sklearn.model_selection import train_test_split\n",
    "from sklearn.metrics import r2_score, mean_squared_error\n",
    "import xgboost as xgb\n",
    "from pathlib import Path\n",
    "\n",
    "def get_score_without_feature(X, y, features_to_drop):    \n",
    "    scores = cross_val_score(XGBRegressor(objective='reg:squarederror'), X.drop(features_to_drop,axis=1), y, scoring='r2')\n",
    "    return(statistics.mean(scores))\n",
    "\n"
   ]
  },
  {
   "cell_type": "code",
   "execution_count": 9,
   "metadata": {},
   "outputs": [],
   "source": [
    "def find_least_important_feature(X, y):\n",
    "        \n",
    "    intermediate_results = {}\n",
    "    for featureindex,feature_name in enumerate(X.columns):\n",
    "        score_without_feature = get_score_without_feature(X, y, feature_name)\n",
    "        intermediate_results[feature_name] = score_without_feature\n",
    "        print(\"Getting score for: \",feature_name,score_without_feature,len(X.columns)-1)\n",
    "           \n",
    "    # calculate the results        \n",
    "    lowest_feature = None\n",
    "    lowest_score = 9999\n",
    "    for feature_name in intermediate_results.keys():\n",
    "        score_without_feature = intermediate_results[feature_name]\n",
    "        if score_without_feature <= lowest_score:\n",
    "            lowest_score = score_without_feature\n",
    "            lowest_feature = feature_name\n",
    "        del score_without_feature\n",
    "    \n",
    "    \n",
    "    results = {}\n",
    "    results[\"lowest_score\"] = lowest_score\n",
    "    results[\"lowest_feature\"] = lowest_feature\n",
    "    results[\"intermediate_results\"] = intermediate_results\n",
    "    return results"
   ]
  },
  {
   "cell_type": "code",
   "execution_count": 49,
   "metadata": {},
   "outputs": [
    {
     "data": {
      "text/plain": [
       "43"
      ]
     },
     "execution_count": 49,
     "metadata": {},
     "output_type": "execute_result"
    }
   ],
   "source": [
    "df = pd.read_csv(input_file)\n",
    "len(df.columns.values)"
   ]
  },
  {
   "cell_type": "code",
   "execution_count": null,
   "metadata": {},
   "outputs": [
    {
     "name": "stdout",
     "output_type": "stream",
     "text": [
      "input_file:  ../data/original_df.csv\n",
      "Staring experiment for:  42  features\n",
      "Getting score for:  relief_elev_focalrange300m_3s 0.28503066707747576 41\n",
      "Getting score for:  Potassium_2016 0.30286475326001505 41\n",
      "Getting score for:  Grav_lane_clip 0.2690171575879068 41\n",
      "Getting score for:  si_geol1 0.2592974730436867 41\n",
      "Getting score for:  slope_fill2 0.25197175690228796 41\n",
      "Getting score for:  Clim_Prescott_LindaGregory 0.2961452280796255 41\n",
      "Getting score for:  be-30y-85m-avg-ND-SWIR1-NIR.filled.lzw.nodata 0.28705400929541375 41\n",
      "Getting score for:  relief_roughness 0.28710156303725554 41\n",
      "Getting score for:  be-l8-all-85m-avg-NIR.filled.lzw.nodata 0.28345513223625457 41\n",
      "Getting score for:  be-l8-all-85m-avg-BLUE.filled.lzw.nodata 0.10085789189986416 41\n",
      "Getting score for:  clim_EPA_albers 0.22824599955250752 41\n",
      "Getting score for:  relief_elev_focalrange1000m_3s 0.20320086140078047 41\n",
      "Getting score for:  Rad2016U_Th 0.2617220378610942 41\n",
      "Getting score for:  be-30y-85m-avg-SWIR2.filled.lzw.nodata 0.2939178036144906 41\n",
      "Getting score for:  tpi_300 0.30814045069284496 41\n",
      "Getting score for:  clim_RSM_albers 0.30572492272260626 41\n",
      "Getting score for:  be-30y-85m-avg-ND-SWIR1-SWIR2.filled.lzw.nodata 0.2559041013458921 41\n",
      "Getting score for:  3dem_mag0.fin 0.3140122142071085 41\n",
      "Getting score for:  Rad2016K_Th 0.2868538315174121 41\n",
      "Getting score for:  clim_PTA_albers 0.2605565770281863 41\n",
      "Getting score for:  water-85m 0.3187023888740936 41\n",
      "Getting score for:  ceno_euc_aust1 0.2391062385355867 41\n",
      "Getting score for:  dem_fill 0.03281394586865331 41\n",
      "Getting score for:  3dem_mag2 0.20608759152219244 41\n",
      "Getting score for:  Thorium_2016 0.27375505051892984 41\n",
      "Getting score for:  mrvbf_9 0.284386118159249 41\n",
      "Getting score for:  LOC_distance_to_coast 0.1249914187941886 41\n",
      "Getting score for:  clim_WDA_albers 0.24764241739669035 41\n",
      "Getting score for:  national_Wii_RF_multirandomforest_prediction 0.314028210521992 41\n",
      "Getting score for:  be-30y-85m-avg-ND-NIR-GREEN.filled.lzw.nodata 0.2549166428463997 41\n",
      "Getting score for:  be-30y-85m-avg-CLAY-PC2.filled.lzw.nodata 0.29223513044763394 41\n",
      "Getting score for:  be-30y-85m-avg-RED.filled.lzw.nodata 0.19801986982700262 41\n",
      "Getting score for:  s2-dpca-85m 0.3234417749202721 41\n",
      "Getting score for:  be-30y-85m-avg-GREEN.filled.lzw.nodata 0.3138335223444557 41\n",
      "Getting score for:  3dem_mag1_fin 0.2171285558378806 41\n",
      "Getting score for:  be-30y-85m-avg-ND-RED-BLUE.filled.lzw.nodata 0.2861353954781209 41\n",
      "Getting score for:  LATITUDE_GRID1_clip 0.2960464909454444 41\n",
      "Getting score for:  relief_mrvbf_3s_mosaic 0.2607165583999819 41\n",
      "Getting score for:  Dose_2016 0.2778101518129608 41\n",
      "Getting score for:  saga_wetSM_85_resampled 0.29048195482099076 41\n",
      "Getting score for:  be-30y-85m-avg-SWIR1.filled.lzw.nodata 0.2563082274779125 41\n",
      "Getting score for:  be-30y-85m-avg_BLUE+SWIR2 0.28660367206061205 41\n",
      "Results of  1  iteration: 0.03281394586865331 dem_fill\n",
      "Staring experiment for:  41\n",
      "Getting score for:  relief_elev_focalrange300m_3s 0.1178132212143351 40\n",
      "Getting score for:  Potassium_2016 0.014348468763910294 40\n",
      "Getting score for:  Grav_lane_clip 0.10746419376834122 40\n",
      "Getting score for:  si_geol1 0.15555969061769448 40\n",
      "Getting score for:  slope_fill2 0.038404011485295486 40\n",
      "Getting score for:  Clim_Prescott_LindaGregory 0.2387136047980449 40\n",
      "Getting score for:  be-30y-85m-avg-ND-SWIR1-NIR.filled.lzw.nodata 0.17990898022696283 40\n",
      "Getting score for:  relief_roughness 0.11719306270948793 40\n",
      "Getting score for:  be-l8-all-85m-avg-NIR.filled.lzw.nodata -0.03433045611693901 40\n",
      "Getting score for:  be-l8-all-85m-avg-BLUE.filled.lzw.nodata 0.09169866250383248 40\n",
      "Getting score for:  clim_EPA_albers 0.18360933096112908 40\n",
      "Getting score for:  relief_elev_focalrange1000m_3s 0.19329335356173416 40\n",
      "Getting score for:  Rad2016U_Th 0.0450630250870601 40\n",
      "Getting score for:  be-30y-85m-avg-SWIR2.filled.lzw.nodata 0.0750974238983793 40\n",
      "Getting score for:  tpi_300 -0.005498361293037668 40\n",
      "Getting score for:  clim_RSM_albers 0.2508562035930483 40\n",
      "Getting score for:  be-30y-85m-avg-ND-SWIR1-SWIR2.filled.lzw.nodata 0.1213980506093405 40\n",
      "Getting score for:  3dem_mag0.fin 0.09498385075632362 40\n",
      "Getting score for:  Rad2016K_Th 0.09215896758622262 40\n",
      "Getting score for:  clim_PTA_albers 0.12386813695784897 40\n",
      "Getting score for:  water-85m 0.13091788968947118 40\n",
      "Getting score for:  ceno_euc_aust1 0.18782073732750154 40\n",
      "Getting score for:  3dem_mag2 0.15311023888886804 40\n",
      "Getting score for:  Thorium_2016 0.1457380168255525 40\n",
      "Getting score for:  mrvbf_9 0.2683480894091633 40\n",
      "Getting score for:  LOC_distance_to_coast 0.16346714150341196 40\n",
      "Getting score for:  clim_WDA_albers 0.20596167083186753 40\n",
      "Getting score for:  national_Wii_RF_multirandomforest_prediction 0.23312460274689667 40\n",
      "Getting score for:  be-30y-85m-avg-ND-NIR-GREEN.filled.lzw.nodata 0.25029654148928715 40\n",
      "Getting score for:  be-30y-85m-avg-CLAY-PC2.filled.lzw.nodata 0.08889893258881847 40\n",
      "Getting score for:  be-30y-85m-avg-RED.filled.lzw.nodata 0.1458083009808504 40\n",
      "Getting score for:  s2-dpca-85m 0.15006391585665904 40\n",
      "Getting score for:  be-30y-85m-avg-GREEN.filled.lzw.nodata 0.14367281923986014 40\n",
      "Getting score for:  3dem_mag1_fin 0.12195811704725604 40\n",
      "Getting score for:  be-30y-85m-avg-ND-RED-BLUE.filled.lzw.nodata 0.14690214834290433 40\n",
      "Getting score for:  LATITUDE_GRID1_clip 0.3014428519873963 40\n",
      "Getting score for:  relief_mrvbf_3s_mosaic 0.0983298535533554 40\n",
      "Getting score for:  Dose_2016 0.1147372645705724 40\n",
      "Getting score for:  saga_wetSM_85_resampled 0.1674010134739881 40\n",
      "Getting score for:  be-30y-85m-avg-SWIR1.filled.lzw.nodata -0.003090541539579994 40\n",
      "Getting score for:  be-30y-85m-avg_BLUE+SWIR2 0.19405209596398326 40\n",
      "Results of  2  iteration: -0.03433045611693901 be-l8-all-85m-avg-NIR.filled.lzw.nodata\n",
      "Staring experiment for:  40\n",
      "Getting score for:  relief_elev_focalrange300m_3s 0.11728993900035552 39\n",
      "Getting score for:  Potassium_2016 0.01950609394404825 39\n",
      "Getting score for:  Grav_lane_clip 0.10867396363780553 39\n",
      "Getting score for:  si_geol1 0.1053205382000693 39\n",
      "Getting score for:  slope_fill2 0.1431633565182812 39\n",
      "Getting score for:  Clim_Prescott_LindaGregory 0.22281149316490498 39\n",
      "Getting score for:  be-30y-85m-avg-ND-SWIR1-NIR.filled.lzw.nodata 0.12100824027462045 39\n",
      "Getting score for:  relief_roughness 0.16258259994065782 39\n",
      "Getting score for:  be-l8-all-85m-avg-BLUE.filled.lzw.nodata 0.10702346678016514 39\n",
      "Getting score for:  clim_EPA_albers 0.14428424134508847 39\n",
      "Getting score for:  relief_elev_focalrange1000m_3s 0.20124343602141442 39\n",
      "Getting score for:  Rad2016U_Th 0.02532185551126822 39\n",
      "Getting score for:  be-30y-85m-avg-SWIR2.filled.lzw.nodata 0.06176015867493132 39\n",
      "Getting score for:  tpi_300 0.014189854501984534 39\n",
      "Getting score for:  clim_RSM_albers 0.24547590055732316 39\n",
      "Getting score for:  be-30y-85m-avg-ND-SWIR1-SWIR2.filled.lzw.nodata 0.1346284032736263 39\n",
      "Getting score for:  3dem_mag0.fin 0.12126837213264 39\n",
      "Getting score for:  Rad2016K_Th 0.046415362800688406 39\n",
      "Getting score for:  clim_PTA_albers 0.1315856992737206 39\n",
      "Getting score for:  water-85m 0.16826994274689583 39\n",
      "Getting score for:  ceno_euc_aust1 0.20761928927386758 39\n",
      "Getting score for:  3dem_mag2 0.14869136768728555 39\n",
      "Getting score for:  Thorium_2016 0.05541789377436186 39\n",
      "Getting score for:  mrvbf_9 0.2516592407836468 39\n",
      "Getting score for:  LOC_distance_to_coast 0.15669066812994575 39\n",
      "Getting score for:  clim_WDA_albers 0.1778532376922391 39\n",
      "Getting score for:  national_Wii_RF_multirandomforest_prediction 0.17556986946922706 39\n",
      "Getting score for:  be-30y-85m-avg-ND-NIR-GREEN.filled.lzw.nodata 0.2357852546738611 39\n",
      "Getting score for:  be-30y-85m-avg-CLAY-PC2.filled.lzw.nodata 0.05478993891899346 39\n",
      "Getting score for:  be-30y-85m-avg-RED.filled.lzw.nodata 0.18255302507111187 39\n",
      "Getting score for:  s2-dpca-85m 0.13059845078168153 39\n",
      "Getting score for:  be-30y-85m-avg-GREEN.filled.lzw.nodata 0.15894509147026536 39\n",
      "Getting score for:  3dem_mag1_fin 0.17674389163071294 39\n",
      "Getting score for:  be-30y-85m-avg-ND-RED-BLUE.filled.lzw.nodata 0.10182220425855346 39\n",
      "Getting score for:  LATITUDE_GRID1_clip 0.28387986002795496 39\n",
      "Getting score for:  relief_mrvbf_3s_mosaic 0.11278912698882186 39\n",
      "Getting score for:  Dose_2016 0.0847370259750209 39\n",
      "Getting score for:  saga_wetSM_85_resampled 0.1452561964616843 39\n",
      "Getting score for:  be-30y-85m-avg-SWIR1.filled.lzw.nodata -0.04175718906194157 39\n",
      "Getting score for:  be-30y-85m-avg_BLUE+SWIR2 0.09242971464301523 39\n",
      "Results of  3  iteration: -0.04175718906194157 be-30y-85m-avg-SWIR1.filled.lzw.nodata\n",
      "Staring experiment for:  39\n",
      "Getting score for:  relief_elev_focalrange300m_3s 0.11231130482975601 38\n",
      "Getting score for:  Potassium_2016 -0.02980417502871484 38\n",
      "Getting score for:  Grav_lane_clip 0.1748923040461357 38\n",
      "Getting score for:  si_geol1 0.16886984831756627 38\n",
      "Getting score for:  slope_fill2 0.07201054665475001 38\n",
      "Getting score for:  Clim_Prescott_LindaGregory 0.2210064448717737 38\n",
      "Getting score for:  be-30y-85m-avg-ND-SWIR1-NIR.filled.lzw.nodata 0.1686420905389827 38\n",
      "Getting score for:  relief_roughness 0.14959159716329715 38\n",
      "Getting score for:  be-l8-all-85m-avg-BLUE.filled.lzw.nodata 0.14696222844519718 38\n",
      "Getting score for:  clim_EPA_albers 0.18921704044427595 38\n",
      "Getting score for:  relief_elev_focalrange1000m_3s 0.16835266094266568 38\n",
      "Getting score for:  Rad2016U_Th 0.042280238008169824 38\n",
      "Getting score for:  be-30y-85m-avg-SWIR2.filled.lzw.nodata 0.06247141250466184 38\n",
      "Getting score for:  tpi_300 0.041034801035412974 38\n",
      "Getting score for:  clim_RSM_albers 0.21911868100999599 38\n",
      "Getting score for:  be-30y-85m-avg-ND-SWIR1-SWIR2.filled.lzw.nodata 0.11662300362785138 38\n",
      "Getting score for:  3dem_mag0.fin 0.115961122455818 38\n",
      "Getting score for:  Rad2016K_Th 0.08685065249571464 38\n",
      "Getting score for:  clim_PTA_albers 0.1387420785465627 38\n",
      "Getting score for:  water-85m 0.18107361913199857 38\n",
      "Getting score for:  ceno_euc_aust1 0.14828221781064008 38\n",
      "Getting score for:  3dem_mag2 0.1364702391569704 38\n",
      "Getting score for:  Thorium_2016 0.024960263132880734 38\n",
      "Getting score for:  mrvbf_9 0.2672504353643177 38\n",
      "Getting score for:  LOC_distance_to_coast 0.18971688960150218 38\n",
      "Getting score for:  clim_WDA_albers 0.1913674221367518 38\n",
      "Getting score for:  national_Wii_RF_multirandomforest_prediction 0.20495198172603163 38\n",
      "Getting score for:  be-30y-85m-avg-ND-NIR-GREEN.filled.lzw.nodata 0.178589319306282 38\n",
      "Getting score for:  be-30y-85m-avg-CLAY-PC2.filled.lzw.nodata 0.03180380973202983 38\n",
      "Getting score for:  be-30y-85m-avg-RED.filled.lzw.nodata 0.11516967020209538 38\n",
      "Getting score for:  s2-dpca-85m 0.11630220424554409 38\n",
      "Getting score for:  be-30y-85m-avg-GREEN.filled.lzw.nodata 0.15488169822932976 38\n",
      "Getting score for:  3dem_mag1_fin 0.14368429563131752 38\n",
      "Getting score for:  be-30y-85m-avg-ND-RED-BLUE.filled.lzw.nodata 0.047908654733608794 38\n",
      "Getting score for:  LATITUDE_GRID1_clip 0.2647586900873926 38\n",
      "Getting score for:  relief_mrvbf_3s_mosaic 0.11543222555083152 38\n",
      "Getting score for:  Dose_2016 0.08746445938143019 38\n",
      "Getting score for:  saga_wetSM_85_resampled 0.13423628994360745 38\n",
      "Getting score for:  be-30y-85m-avg_BLUE+SWIR2 0.17452882805805553 38\n",
      "Results of  4  iteration: -0.02980417502871484 Potassium_2016\n",
      "Staring experiment for:  38\n",
      "Getting score for:  relief_elev_focalrange300m_3s 0.028082110744423194 37\n",
      "Getting score for:  Grav_lane_clip 0.15533802014839942 37\n",
      "Getting score for:  si_geol1 0.1755481982192278 37\n",
      "Getting score for:  slope_fill2 -0.05823513858222436 37\n",
      "Getting score for:  Clim_Prescott_LindaGregory 0.21033955465296048 37\n",
      "Getting score for:  be-30y-85m-avg-ND-SWIR1-NIR.filled.lzw.nodata 0.21261550334283952 37\n",
      "Getting score for:  relief_roughness 0.13393641136963078 37\n",
      "Getting score for:  be-l8-all-85m-avg-BLUE.filled.lzw.nodata 0.11759331466387261 37\n",
      "Getting score for:  clim_EPA_albers 0.14485705760076212 37\n",
      "Getting score for:  relief_elev_focalrange1000m_3s 0.17118025702238146 37\n",
      "Getting score for:  Rad2016U_Th 0.12909169131002518 37\n",
      "Getting score for:  be-30y-85m-avg-SWIR2.filled.lzw.nodata 0.06701977816174812 37\n",
      "Getting score for:  tpi_300 0.15770341759634748 37\n",
      "Getting score for:  clim_RSM_albers 0.24851961419689148 37\n",
      "Getting score for:  be-30y-85m-avg-ND-SWIR1-SWIR2.filled.lzw.nodata 0.12048978932909786 37\n",
      "Getting score for:  3dem_mag0.fin 0.0729651143667585 37\n",
      "Getting score for:  Rad2016K_Th 0.13938958787992328 37\n",
      "Getting score for:  clim_PTA_albers 0.1924854884968358 37\n",
      "Getting score for:  water-85m -0.06087259255612245 37\n",
      "Getting score for:  ceno_euc_aust1 0.1662303336423089 37\n",
      "Getting score for:  3dem_mag2 0.11069551162059432 37\n",
      "Getting score for:  Thorium_2016 0.13914878414618198 37\n",
      "Getting score for:  mrvbf_9 0.2899027087987145 37\n",
      "Getting score for:  LOC_distance_to_coast 0.20390068695290692 37\n",
      "Getting score for:  clim_WDA_albers 0.16137055402312522 37\n",
      "Getting score for:  national_Wii_RF_multirandomforest_prediction 0.21604663884950212 37\n",
      "Getting score for:  be-30y-85m-avg-ND-NIR-GREEN.filled.lzw.nodata 0.2140326526443445 37\n",
      "Getting score for:  be-30y-85m-avg-CLAY-PC2.filled.lzw.nodata 0.13122465125174482 37\n",
      "Getting score for:  be-30y-85m-avg-RED.filled.lzw.nodata 0.18386349634814744 37\n",
      "Getting score for:  s2-dpca-85m 0.058521713111419585 37\n",
      "Getting score for:  be-30y-85m-avg-GREEN.filled.lzw.nodata 0.15130938749167736 37\n",
      "Getting score for:  3dem_mag1_fin 0.16084290780274896 37\n",
      "Getting score for:  be-30y-85m-avg-ND-RED-BLUE.filled.lzw.nodata 0.04414689418145805 37\n",
      "Getting score for:  LATITUDE_GRID1_clip 0.2268053966081397 37\n",
      "Getting score for:  relief_mrvbf_3s_mosaic 0.05249457111032618 37\n",
      "Getting score for:  Dose_2016 0.07413240194468976 37\n",
      "Getting score for:  saga_wetSM_85_resampled 0.1593785944161378 37\n",
      "Getting score for:  be-30y-85m-avg_BLUE+SWIR2 0.06910968108595957 37\n",
      "Results of  5  iteration: -0.06087259255612245 water-85m\n",
      "Staring experiment for:  37\n",
      "Getting score for:  relief_elev_focalrange300m_3s 0.09652316695055249 36\n",
      "Getting score for:  Grav_lane_clip 0.13564054320188584 36\n",
      "Getting score for:  si_geol1 0.189659429200202 36\n",
      "Getting score for:  slope_fill2 0.18724061548529064 36\n",
      "Getting score for:  Clim_Prescott_LindaGregory 0.1688025621313254 36\n",
      "Getting score for:  be-30y-85m-avg-ND-SWIR1-NIR.filled.lzw.nodata 0.23648513853947378 36\n",
      "Getting score for:  relief_roughness 0.12190261455140014 36\n",
      "Getting score for:  be-l8-all-85m-avg-BLUE.filled.lzw.nodata 0.12888605107451617 36\n",
      "Getting score for:  clim_EPA_albers 0.02692247643199115 36\n",
      "Getting score for:  relief_elev_focalrange1000m_3s 0.2614299310122477 36\n",
      "Getting score for:  Rad2016U_Th 0.06324185866599559 36\n",
      "Getting score for:  be-30y-85m-avg-SWIR2.filled.lzw.nodata 0.038793987611246285 36\n",
      "Getting score for:  tpi_300 0.15634113741258399 36\n",
      "Getting score for:  clim_RSM_albers 0.19515880281776526 36\n",
      "Getting score for:  be-30y-85m-avg-ND-SWIR1-SWIR2.filled.lzw.nodata 0.07515701550313598 36\n",
      "Getting score for:  3dem_mag0.fin 0.13403886304755003 36\n",
      "Getting score for:  Rad2016K_Th 0.17802880026308246 36\n",
      "Getting score for:  clim_PTA_albers 0.0795913100347865 36\n",
      "Getting score for:  ceno_euc_aust1 0.15440088370565522 36\n",
      "Getting score for:  3dem_mag2 0.12899140724283223 36\n",
      "Getting score for:  Thorium_2016 0.03849610800803223 36\n",
      "Getting score for:  mrvbf_9 0.1742575192225993 36\n",
      "Getting score for:  LOC_distance_to_coast 0.07221072223056117 36\n",
      "Getting score for:  clim_WDA_albers 0.15710858879841919 36\n",
      "Getting score for:  national_Wii_RF_multirandomforest_prediction 0.19043044896483624 36\n",
      "Getting score for:  be-30y-85m-avg-ND-NIR-GREEN.filled.lzw.nodata 0.20378983671073786 36\n",
      "Getting score for:  be-30y-85m-avg-CLAY-PC2.filled.lzw.nodata 0.19035132050576534 36\n",
      "Getting score for:  be-30y-85m-avg-RED.filled.lzw.nodata 0.2132058919847551 36\n",
      "Getting score for:  s2-dpca-85m 0.08459240895089688 36\n",
      "Getting score for:  be-30y-85m-avg-GREEN.filled.lzw.nodata 0.10273801723598301 36\n",
      "Getting score for:  3dem_mag1_fin 0.13533846643665434 36\n",
      "Getting score for:  be-30y-85m-avg-ND-RED-BLUE.filled.lzw.nodata 0.028306550287423037 36\n",
      "Getting score for:  LATITUDE_GRID1_clip 0.2394959375895715 36\n",
      "Getting score for:  relief_mrvbf_3s_mosaic 0.018272769586062186 36\n",
      "Getting score for:  Dose_2016 0.10487553310661295 36\n",
      "Getting score for:  saga_wetSM_85_resampled 0.17146449045676262 36\n",
      "Getting score for:  be-30y-85m-avg_BLUE+SWIR2 0.15800182886796052 36\n",
      "Results of  6  iteration: 0.018272769586062186 relief_mrvbf_3s_mosaic\n",
      "Staring experiment for:  36\n",
      "Getting score for:  relief_elev_focalrange300m_3s 0.15722146884754679 35\n",
      "Getting score for:  Grav_lane_clip 0.09120944194020841 35\n",
      "Getting score for:  si_geol1 0.08579211013326218 35\n",
      "Getting score for:  slope_fill2 0.16414882085096522 35\n",
      "Getting score for:  Clim_Prescott_LindaGregory 0.21305178311807146 35\n",
      "Getting score for:  be-30y-85m-avg-ND-SWIR1-NIR.filled.lzw.nodata 0.18022995191936203 35\n",
      "Getting score for:  relief_roughness 0.0200613614750182 35\n",
      "Getting score for:  be-l8-all-85m-avg-BLUE.filled.lzw.nodata 0.08096266268765398 35\n",
      "Getting score for:  clim_EPA_albers 0.14297498035386852 35\n",
      "Getting score for:  relief_elev_focalrange1000m_3s 0.09612116743665725 35\n",
      "Getting score for:  Rad2016U_Th 0.06982280058353678 35\n",
      "Getting score for:  be-30y-85m-avg-SWIR2.filled.lzw.nodata -0.005772668547787063 35\n",
      "Getting score for:  tpi_300 0.11410332604834747 35\n",
      "Getting score for:  clim_RSM_albers 0.13069896356052485 35\n",
      "Getting score for:  be-30y-85m-avg-ND-SWIR1-SWIR2.filled.lzw.nodata 0.15500850437841648 35\n",
      "Getting score for:  3dem_mag0.fin 0.15583859051557453 35\n",
      "Getting score for:  Rad2016K_Th 0.1831276208918307 35\n",
      "Getting score for:  clim_PTA_albers 0.24547020853706228 35\n",
      "Getting score for:  ceno_euc_aust1 0.14577749581909363 35\n",
      "Getting score for:  3dem_mag2 0.09118442125703075 35\n"
     ]
    }
   ],
   "source": [
    "%%time\n",
    "import pickle\n",
    "# classifications\n",
    "input_files = [Path(\"../data/original_df.csv\"),Path(\"../data/scaled_df.csv\"),Path(\"../data/quantile_df.csv\")]   \n",
    "for input_file in input_files:\n",
    "    print(\"input_file: \",input_file)\n",
    "    df = pd.read_csv(input_file)\n",
    "    df = df.drop([\"x\",\"y\"],axis=1)\n",
    "\n",
    "    \n",
    "    y = df['target'] \n",
    "    X = df.drop(\"target\",axis=1)\n",
    "    \n",
    "    min_features_required = 2\n",
    "    complete_result = {}\n",
    "    results = {}\n",
    "\n",
    "    current_total_feature = X.shape[1]\n",
    "    complete_result[current_total_feature] = {}\n",
    "\n",
    "    count = 1\n",
    "    print(\"Staring experiment for: \",X.shape[1],\" features\")\n",
    "    results[current_total_feature] = find_least_important_feature(X,y)\n",
    "    print(\"Results of \",str(count),\" iteration:\",results[current_total_feature][\"lowest_score\"],results[current_total_feature][\"lowest_feature\"])\n",
    "\n",
    "    current_X = X.drop(results[current_total_feature][\"lowest_feature\"],axis=1)   \n",
    "    current_total_feature = current_X.shape[1]\n",
    "\n",
    "    count = 2\n",
    "    while(current_total_feature>min_features_required):\n",
    "        print(\"Staring experiment for: \",current_total_feature)\n",
    "        results[current_total_feature] = find_least_important_feature(current_X,y)\n",
    "        print(\"Results of \",str(count),\" iteration:\",results[current_total_feature][\"lowest_score\"],results[current_total_feature][\"lowest_feature\"])\n",
    "        current_X = current_X.drop(results[current_total_feature][\"lowest_feature\"],axis=1)\n",
    "        current_total_feature = current_X.shape[1]\n",
    "\n",
    "        count = count + 1\n",
    "    \n",
    "    output_file_name = str(input_file.stem)+\".pkl\"\n",
    "    print(output_file_name)\n",
    "    file = open(output_file_name, 'wb')\n",
    "    pickle.dump(results, file)\n",
    "    file.close()"
   ]
  },
  {
   "cell_type": "code",
   "execution_count": 126,
   "metadata": {},
   "outputs": [
    {
     "data": {
      "text/plain": [
       "[]"
      ]
     },
     "execution_count": 126,
     "metadata": {},
     "output_type": "execute_result"
    }
   ],
   "source": [
    "plot_1_data = []\n",
    "for exp_no in results.keys():\n",
    "        plot_1_data.append((exp_no,results[exp_no][\"lowest_score\"]))\n",
    "\n",
    "plt.scatter(*zip(*plot_1_data))\n",
    "plt.gca().invert_xaxis()\n",
    "plt.ylim(0,0.5)\n",
    "plt.xlabel(\"Number of features in this experiment\")\n",
    "plt.ylabel(\"rmsle score for the weakest the feature\")\n",
    "plt.show()"
   ]
  },
  {
   "cell_type": "code",
   "execution_count": null,
   "metadata": {},
   "outputs": [],
   "source": [
    "#save results\n",
    "import pickle\n",
    "\n",
    "fileObj = open('complete_result_irfec.pkl', 'wb')\n",
    "pickle.dump(complete_result,fileObj)\n",
    "fileObj.close()"
   ]
  },
  {
   "cell_type": "code",
   "execution_count": null,
   "metadata": {},
   "outputs": [],
   "source": [
    "## In-house Recursive feature elimination sci-kit style\n"
   ]
  },
  {
   "cell_type": "markdown",
   "metadata": {},
   "source": [
    "## Shutdown Cluster"
   ]
  },
  {
   "cell_type": "code",
   "execution_count": 220,
   "metadata": {},
   "outputs": [
    {
     "data": {
      "text/html": [
       "<table style=\"border: 2px solid white;\">\n",
       "<tr>\n",
       "<td style=\"vertical-align: top; border: 0px solid white\">\n",
       "<h3 style=\"text-align: left;\">Client</h3>\n",
       "<ul style=\"text-align: left; list-style: none; margin: 0; padding: 0;\">\n",
       "  <li><b>Scheduler: </b>tcp://127.0.0.1:34217</li>\n",
       "  <li><b>Dashboard: </b><a href='http://127.0.0.1:8787/status' target='_blank'>http://127.0.0.1:8787/status</a></li>\n",
       "</ul>\n",
       "</td>\n",
       "<td style=\"vertical-align: top; border: 0px solid white\">\n",
       "<h3 style=\"text-align: left;\">Cluster</h3>\n",
       "<ul style=\"text-align: left; list-style:none; margin: 0; padding: 0;\">\n",
       "  <li><b>Workers: </b>4</li>\n",
       "  <li><b>Cores: </b>96</li>\n",
       "  <li><b>Memory: </b>538.97 GB</li>\n",
       "</ul>\n",
       "</td>\n",
       "</tr>\n",
       "</table>"
      ],
      "text/plain": [
       "<Client: 'tcp://127.0.0.1:34217' processes=4 threads=96, memory=538.97 GB>"
      ]
     },
     "execution_count": 220,
     "metadata": {},
     "output_type": "execute_result"
    }
   ],
   "source": [
    "client = distributed.client._get_global_client()\n",
    "client"
   ]
  },
  {
   "cell_type": "code",
   "execution_count": 221,
   "metadata": {},
   "outputs": [
    {
     "name": "stderr",
     "output_type": "stream",
     "text": [
      "distributed.client - ERROR - Failed to reconnect to scheduler after 10.00 seconds, closing client\n",
      "ERROR:asyncio:_GatheringFuture exception was never retrieved\n",
      "future: <_GatheringFuture finished exception=CancelledError()>\n",
      "asyncio.exceptions.CancelledError\n"
     ]
    }
   ],
   "source": [
    "client.shutdown()\n"
   ]
  },
  {
   "cell_type": "code",
   "execution_count": null,
   "metadata": {},
   "outputs": [],
   "source": []
  }
 ],
 "metadata": {
  "kernelspec": {
   "display_name": "Python 3",
   "language": "python",
   "name": "python3"
  },
  "language_info": {
   "codemirror_mode": {
    "name": "ipython",
    "version": 3
   },
   "file_extension": ".py",
   "mimetype": "text/x-python",
   "name": "python",
   "nbconvert_exporter": "python",
   "pygments_lexer": "ipython3",
   "version": "3.7.4"
  }
 },
 "nbformat": 4,
 "nbformat_minor": 4
}
