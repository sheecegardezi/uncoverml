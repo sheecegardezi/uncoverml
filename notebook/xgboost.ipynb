{
 "cells": [
  {
   "cell_type": "code",
   "execution_count": 1,
   "metadata": {},
   "outputs": [],
   "source": [
    "%load_ext memory_profiler"
   ]
  },
  {
   "cell_type": "markdown",
   "metadata": {},
   "source": [
    "## Load Dependancies "
   ]
  },
  {
   "cell_type": "code",
   "execution_count": 1,
   "metadata": {},
   "outputs": [],
   "source": [
    "import numpy as np\n",
    "import pandas as pd\n",
    "import matplotlib.pyplot as plt\n",
    "from sklearn.model_selection import train_test_split,cross_val_score\n",
    "from sklearn.ensemble import RandomForestClassifier,RandomForestRegressor\n",
    "from sklearn.linear_model import SGDRegressor\n",
    "from sklearn.metrics import classification_report,confusion_matrix,accuracy_score\n",
    "from sklearn.neighbors import KNeighborsClassifier,KNeighborsRegressor\n",
    "from sklearn.svm import SVC,SVR\n",
    "\n",
    "from sklearn import datasets\n",
    "import scipy.stats as stats\n",
    "import lightgbm as lgb\n",
    "import xgboost as xgb\n",
    "\n",
    "from sklearn.svm import SVC\n",
    "from sklearn.datasets import load_digits\n",
    "from sklearn.feature_selection import RFE\n",
    "import matplotlib.pyplot as plt\n",
    "\n",
    "from sklearn.model_selection import train_test_split\n",
    "from pathlib import Path\n",
    "import pandas as pd\n",
    "import numpy as np\n",
    "\n",
    "import dask\n",
    "from dask.distributed import worker_client\n",
    "from dask.distributed import Client,LocalCluster\n",
    "\n",
    "import joblib\n",
    "import numpy as np\n",
    "from dask.distributed import Client\n",
    "\n",
    "import joblib\n",
    "from sklearn.datasets import load_digits\n",
    "from sklearn.model_selection import RandomizedSearchCV\n",
    "from sklearn.svm import SVC\n",
    "from xgboost import XGBRegressor"
   ]
  },
  {
   "cell_type": "markdown",
   "metadata": {},
   "source": [
    "## test a simple model"
   ]
  },
  {
   "cell_type": "code",
   "execution_count": 2,
   "metadata": {},
   "outputs": [
    {
     "name": "stdout",
     "output_type": "stream",
     "text": [
      "cv_scores [0.87396393 0.88261499 0.88229653 0.87559722 0.8776003 ]\n",
      "mean_score 0.8784145936820174\n",
      "CPU times: user 2.42 s, sys: 425 ms, total: 2.84 s\n",
      "Wall time: 11.1 s\n"
     ]
    }
   ],
   "source": [
    "%%time\n",
    "from sklearn.model_selection import KFold\n",
    "\n",
    "input_file = Path(\"../data/formated_dataset.csv\")\n",
    "\n",
    "df = pd.read_csv(input_file).astype('float32')\n",
    "y = df['target'].values\n",
    "X = df.drop(\"target\",axis=1).values\n",
    "\n",
    "model = XGBRegressor(objective='reg:squarederror',tree_method='gpu_hist', gpu_id=0, n_jobs=-1)\n",
    "kf = KFold(n_splits=5,shuffle=True, random_state=3)\n",
    "cv_scores = cross_val_score(model, X, y, cv=kf,scoring='r2', n_jobs=-1)\n",
    "mean_score = np.mean(cv_scores)\n",
    "print(\"cv_scores\",cv_scores)\n",
    "print(\"mean_score\",mean_score)"
   ]
  },
  {
   "cell_type": "code",
   "execution_count": null,
   "metadata": {},
   "outputs": [],
   "source": [
    "# cv_scores [0.87396393 0.88261499 0.88229653 0.87559723 0.8776003 ]\n",
    "# mean_score 0.8784145946557445\n",
    "# CPU times: user 2.31 s, sys: 220 ms, total: 2.53 s\n",
    "# Wall time: 10.2 s"
   ]
  },
  {
   "cell_type": "code",
   "execution_count": 4,
   "metadata": {},
   "outputs": [
    {
     "name": "stdout",
     "output_type": "stream",
     "text": [
      "cv_scores [0.87807325 0.88474962 0.88096688 0.87916537 0.87608176]\n",
      "mean_score 0.879807374877641\n",
      "CPU times: user 3.75 s, sys: 316 ms, total: 4.07 s\n",
      "Wall time: 12.2 s\n"
     ]
    }
   ],
   "source": [
    "\n",
    "%%time\n",
    "from sklearn.model_selection import KFold\n",
    "\n",
    "input_file = Path(\"../data/max_abs_df.csv\")\n",
    "\n",
    "\n",
    "\n",
    "df = pd.read_csv(input_file).astype('float32')\n",
    "df = df[~df.isin([np.nan, np.inf, -np.inf,-9999.0]).any(1)]\n",
    "y = df['target'].values\n",
    "X = df.drop(\"target\",axis=1).values\n",
    "\n",
    "model = XGBRegressor(objective='reg:squarederror',tree_method='gpu_hist', gpu_id=0, n_jobs=-1)\n",
    "kf = KFold(n_splits=5,shuffle=True, random_state=3)\n",
    "cv_scores = cross_val_score(model, X, y, cv=kf,scoring='r2', n_jobs=-1)\n",
    "mean_score = np.mean(cv_scores)\n",
    "print(\"cv_scores\",cv_scores)\n",
    "print(\"mean_score\",mean_score)"
   ]
  },
  {
   "cell_type": "code",
   "execution_count": 5,
   "metadata": {},
   "outputs": [
    {
     "name": "stdout",
     "output_type": "stream",
     "text": [
      "cv_scores [0.76635368 0.76274412 0.76591956 0.76464083 0.76561617]\n",
      "mean_score 0.7650548726881035\n",
      "CPU times: user 3.62 s, sys: 271 ms, total: 3.89 s\n",
      "Wall time: 12.1 s\n"
     ]
    }
   ],
   "source": [
    "%%time\n",
    "from sklearn.model_selection import KFold\n",
    "\n",
    "input_file = Path(\"../data/quantile_df.csv\")\n",
    "\n",
    "\n",
    "\n",
    "df = pd.read_csv(input_file).astype('float32')\n",
    "df = df[~df.isin([np.nan, np.inf, -np.inf,-9999.0]).any(1)]\n",
    "y = df['target'].values\n",
    "X = df.drop(\"target\",axis=1).values\n",
    "\n",
    "model = XGBRegressor(objective='reg:squarederror',tree_method='gpu_hist', gpu_id=0, n_jobs=-1)\n",
    "kf = KFold(n_splits=5,shuffle=True, random_state=3)\n",
    "cv_scores = cross_val_score(model, X, y, cv=kf,scoring='r2', n_jobs=-1)\n",
    "mean_score = np.mean(cv_scores)\n",
    "print(\"cv_scores\",cv_scores)\n",
    "print(\"mean_score\",mean_score)"
   ]
  },
  {
   "cell_type": "code",
   "execution_count": null,
   "metadata": {},
   "outputs": [],
   "source": []
  }
 ],
 "metadata": {
  "kernelspec": {
   "display_name": "Python 3",
   "language": "python",
   "name": "python3"
  },
  "language_info": {
   "codemirror_mode": {
    "name": "ipython",
    "version": 3
   },
   "file_extension": ".py",
   "mimetype": "text/x-python",
   "name": "python",
   "nbconvert_exporter": "python",
   "pygments_lexer": "ipython3",
   "version": "3.8.5"
  }
 },
 "nbformat": 4,
 "nbformat_minor": 4
}
