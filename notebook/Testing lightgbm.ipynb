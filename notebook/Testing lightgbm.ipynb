{
 "cells": [
  {
   "cell_type": "code",
   "execution_count": 4,
   "id": "corresponding-communications",
   "metadata": {},
   "outputs": [],
   "source": [
    "import lightgbm as lgb\n",
    "import matplotlib.pyplot as plt\n",
    "from pathlib import Path\n",
    "import pandas as pd\n",
    "import numpy as np\n",
    "import joblib\n",
    "from sklearn.model_selection import cross_val_score\n",
    "\n"
   ]
  },
  {
   "cell_type": "code",
   "execution_count": 13,
   "id": "played-booking",
   "metadata": {},
   "outputs": [
    {
     "name": "stdout",
     "output_type": "stream",
     "text": [
      "CPU times: user 2.02 s, sys: 152 ms, total: 2.17 s\n",
      "Wall time: 2.17 s\n"
     ]
    }
   ],
   "source": [
    "%%time\n",
    "input_file = Path(\"../data/original_df.csv\")\n",
    "\n",
    "df = pd.read_csv(input_file)\n",
    "df = df.drop([\"x\",\"y\"],axis=1)\n",
    "\n",
    "y = df['target'].astype('float32') \n",
    "X = df.drop(\"target\",axis=1).astype('float32')"
   ]
  },
  {
   "cell_type": "code",
   "execution_count": 20,
   "id": "great-division",
   "metadata": {},
   "outputs": [
    {
     "data": {
      "text/plain": [
       "False"
      ]
     },
     "execution_count": 20,
     "metadata": {},
     "output_type": "execute_result"
    }
   ],
   "source": [
    "X.isnull().values.any()"
   ]
  },
  {
   "cell_type": "code",
   "execution_count": 22,
   "id": "behavioral-relaxation",
   "metadata": {},
   "outputs": [
    {
     "name": "stdout",
     "output_type": "stream",
     "text": [
      "False\n"
     ]
    }
   ],
   "source": [
    "df.replace([np.inf, -np.inf], np.nan)\n",
    "check_for_nan = df.isnull().values.any()\n",
    "print (check_for_nan)\n"
   ]
  },
  {
   "cell_type": "code",
   "execution_count": 23,
   "id": "labeled-compilation",
   "metadata": {},
   "outputs": [
    {
     "name": "stdout",
     "output_type": "stream",
     "text": [
      "(489317, 43)\n",
      "(489317, 43)\n"
     ]
    }
   ],
   "source": [
    "print(df.shape)\n",
    "all_inf_or_nan = df.isin([np.inf, -np.inf, np.nan]).all(axis='columns')\n",
    "df[~all_inf_or_nan]\n",
    "print(df.shape)"
   ]
  },
  {
   "cell_type": "code",
   "execution_count": 17,
   "id": "olympic-ideal",
   "metadata": {},
   "outputs": [
    {
     "name": "stdout",
     "output_type": "stream",
     "text": [
      "mean_score [nan nan nan nan nan]\n"
     ]
    }
   ],
   "source": [
    "# model = XGBRegressor(objective='reg:squarederror',tree_method='gpu_hist', gpu_id=0, n_jobs=-1,gamma=1,learning_rate=5,max_depth=20,n_estimators=100)\n",
    "model = lgb.LGBMRegressor(device='gpu',gpu_device_id=2)\n",
    "cv_scores = cross_val_score(model, X, y, scoring='r2', n_jobs=-1)\n",
    "mean_score = np.mean(cv_scores)\n",
    "print(\"mean_score\",cv_scores)"
   ]
  },
  {
   "cell_type": "code",
   "execution_count": null,
   "id": "stable-volume",
   "metadata": {},
   "outputs": [],
   "source": []
  }
 ],
 "metadata": {
  "kernelspec": {
   "display_name": "Python 3",
   "language": "python",
   "name": "python3"
  },
  "language_info": {
   "codemirror_mode": {
    "name": "ipython",
    "version": 3
   },
   "file_extension": ".py",
   "mimetype": "text/x-python",
   "name": "python",
   "nbconvert_exporter": "python",
   "pygments_lexer": "ipython3",
   "version": "3.8.5"
  }
 },
 "nbformat": 4,
 "nbformat_minor": 5
}
